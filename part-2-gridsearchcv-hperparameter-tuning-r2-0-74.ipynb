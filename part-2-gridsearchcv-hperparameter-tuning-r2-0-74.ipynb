{
 "cells": [
  {
   "cell_type": "markdown",
   "id": "1a2cb94c",
   "metadata": {
    "papermill": {
     "duration": 0.019917,
     "end_time": "2022-10-06T12:05:49.209407",
     "exception": false,
     "start_time": "2022-10-06T12:05:49.189490",
     "status": "completed"
    },
    "tags": []
   },
   "source": [
    "# Overview\n",
    "This is a sequel to [Part 1](https://www.kaggle.com/code/theophilusonyejiaku/part-1-gridsearchcv-hperparameter-tuning-r2-0-5), which involved the tuning of models using the `GridSearchCV`. At the end of the [Part 1](https://www.kaggle.com/code/theophilusonyejiaku/part-1-gridsearchcv-hperparameter-tuning-r2-0-5), we were only able to achieve a metric score of `0.5` (**50% accuracy**); this is so because we did not check for outliers and did not consider some feature engineering on our data. \n",
    "\n",
    "In this **\"Part 2\"**, we take a closer look at our data and did some proper cleaning, outliers detection and removal (the unwanted ones) and repeated the same tuning process using the `GridSearchCV` like we did in [Part 1](https://www.kaggle.com/code/theophilusonyejiaku/part-1-gridsearchcv-hperparameter-tuning-r2-0-5). Fortunately, we got a better improvement in our models' metrics scores as shown in the table below:\n",
    "\n",
    "|Model|R Squared value|\n",
    "|----|----|\n",
    "|Random Forest|0.745351|\n",
    "|XGB|0.694323|\n",
    "|kneighbor|0.603231|\n",
    "|Decision Tree|0.582967|\n",
    "|Lasso|0.173845|\n",
    "|Linear Regression|0.173824|\n",
    "\n"
   ]
  },
  {
   "cell_type": "markdown",
   "id": "088ee0d8",
   "metadata": {},
   "source": [
    "## What is HyperParameter Tuning?\n",
    "Hyperparameter tuning is a simple way to find which parameter values are best for a model. Just as the name implies, it(GridSearchCV) takes every possible parameter of a model you pass to it, tunes them and get the best parameters for the model.\n",
    "\n",
    "# Loading Libraries\n",
    "Importing the Necessary Libraries required for the task"
   ]
  },
  {
   "cell_type": "code",
   "execution_count": 1,
   "id": "294f965a",
   "metadata": {
    "execution": {
     "iopub.execute_input": "2022-10-14T10:00:27.536277Z",
     "iopub.status.busy": "2022-10-14T10:00:27.535766Z",
     "iopub.status.idle": "2022-10-14T10:00:28.580063Z",
     "shell.execute_reply": "2022-10-14T10:00:28.578995Z",
     "shell.execute_reply.started": "2022-10-14T10:00:27.536180Z"
    },
    "papermill": {
     "duration": 1.24061,
     "end_time": "2022-10-06T12:05:50.468170",
     "exception": false,
     "start_time": "2022-10-06T12:05:49.227560",
     "status": "completed"
    },
    "tags": []
   },
   "outputs": [],
   "source": [
    "import pandas as pd\n",
    "import numpy as np\n",
    "import seaborn as sns\n",
    "import matplotlib.pyplot as plt"
   ]
  },
  {
   "cell_type": "markdown",
   "id": "05948798",
   "metadata": {
    "papermill": {
     "duration": 0.018397,
     "end_time": "2022-10-06T12:05:50.506041",
     "exception": false,
     "start_time": "2022-10-06T12:05:50.487644",
     "status": "completed"
    },
    "tags": []
   },
   "source": [
    "# Loading the data & EDA"
   ]
  },
  {
   "cell_type": "code",
   "execution_count": 2,
   "id": "e21a892a",
   "metadata": {
    "execution": {
     "iopub.execute_input": "2022-10-14T10:00:28.582418Z",
     "iopub.status.busy": "2022-10-14T10:00:28.582056Z",
     "iopub.status.idle": "2022-10-14T10:00:28.687477Z",
     "shell.execute_reply": "2022-10-14T10:00:28.686400Z",
     "shell.execute_reply.started": "2022-10-14T10:00:28.582386Z"
    },
    "papermill": {
     "duration": 0.139552,
     "end_time": "2022-10-06T12:05:50.665159",
     "exception": false,
     "start_time": "2022-10-06T12:05:50.525607",
     "status": "completed"
    },
    "tags": []
   },
   "outputs": [],
   "source": [
    "df = pd.read_csv('../input/car-price-prediction-challenge/car_price_prediction.csv')"
   ]
  },
  {
   "cell_type": "code",
   "execution_count": 3,
   "id": "486c9269",
   "metadata": {
    "execution": {
     "iopub.execute_input": "2022-10-14T10:00:28.689010Z",
     "iopub.status.busy": "2022-10-14T10:00:28.688669Z",
     "iopub.status.idle": "2022-10-14T10:00:28.699097Z",
     "shell.execute_reply": "2022-10-14T10:00:28.697732Z",
     "shell.execute_reply.started": "2022-10-14T10:00:28.688979Z"
    },
    "papermill": {
     "duration": 0.032888,
     "end_time": "2022-10-06T12:05:50.720450",
     "exception": false,
     "start_time": "2022-10-06T12:05:50.687562",
     "status": "completed"
    },
    "tags": []
   },
   "outputs": [
    {
     "data": {
      "text/plain": [
       "(19237, 18)"
      ]
     },
     "execution_count": 3,
     "metadata": {},
     "output_type": "execute_result"
    }
   ],
   "source": [
    "df.shape"
   ]
  },
  {
   "cell_type": "code",
   "execution_count": 4,
   "id": "d514578d",
   "metadata": {
    "execution": {
     "iopub.execute_input": "2022-10-14T10:00:28.702594Z",
     "iopub.status.busy": "2022-10-14T10:00:28.702177Z",
     "iopub.status.idle": "2022-10-14T10:00:28.730863Z",
     "shell.execute_reply": "2022-10-14T10:00:28.729653Z",
     "shell.execute_reply.started": "2022-10-14T10:00:28.702560Z"
    },
    "papermill": {
     "duration": 0.050889,
     "end_time": "2022-10-06T12:05:50.789909",
     "exception": false,
     "start_time": "2022-10-06T12:05:50.739020",
     "status": "completed"
    },
    "tags": []
   },
   "outputs": [
    {
     "data": {
      "text/html": [
       "<div>\n",
       "<style scoped>\n",
       "    .dataframe tbody tr th:only-of-type {\n",
       "        vertical-align: middle;\n",
       "    }\n",
       "\n",
       "    .dataframe tbody tr th {\n",
       "        vertical-align: top;\n",
       "    }\n",
       "\n",
       "    .dataframe thead th {\n",
       "        text-align: right;\n",
       "    }\n",
       "</style>\n",
       "<table border=\"1\" class=\"dataframe\">\n",
       "  <thead>\n",
       "    <tr style=\"text-align: right;\">\n",
       "      <th></th>\n",
       "      <th>ID</th>\n",
       "      <th>Price</th>\n",
       "      <th>Levy</th>\n",
       "      <th>Manufacturer</th>\n",
       "      <th>Model</th>\n",
       "      <th>Prod. year</th>\n",
       "      <th>Category</th>\n",
       "      <th>Leather interior</th>\n",
       "      <th>Fuel type</th>\n",
       "      <th>Engine volume</th>\n",
       "      <th>Mileage</th>\n",
       "      <th>Cylinders</th>\n",
       "      <th>Gear box type</th>\n",
       "      <th>Drive wheels</th>\n",
       "      <th>Doors</th>\n",
       "      <th>Wheel</th>\n",
       "      <th>Color</th>\n",
       "      <th>Airbags</th>\n",
       "    </tr>\n",
       "  </thead>\n",
       "  <tbody>\n",
       "    <tr>\n",
       "      <th>0</th>\n",
       "      <td>45654403</td>\n",
       "      <td>13328</td>\n",
       "      <td>1399</td>\n",
       "      <td>LEXUS</td>\n",
       "      <td>RX 450</td>\n",
       "      <td>2010</td>\n",
       "      <td>Jeep</td>\n",
       "      <td>Yes</td>\n",
       "      <td>Hybrid</td>\n",
       "      <td>3.5</td>\n",
       "      <td>186005 km</td>\n",
       "      <td>6.0</td>\n",
       "      <td>Automatic</td>\n",
       "      <td>4x4</td>\n",
       "      <td>04-May</td>\n",
       "      <td>Left wheel</td>\n",
       "      <td>Silver</td>\n",
       "      <td>12</td>\n",
       "    </tr>\n",
       "    <tr>\n",
       "      <th>1</th>\n",
       "      <td>44731507</td>\n",
       "      <td>16621</td>\n",
       "      <td>1018</td>\n",
       "      <td>CHEVROLET</td>\n",
       "      <td>Equinox</td>\n",
       "      <td>2011</td>\n",
       "      <td>Jeep</td>\n",
       "      <td>No</td>\n",
       "      <td>Petrol</td>\n",
       "      <td>3</td>\n",
       "      <td>192000 km</td>\n",
       "      <td>6.0</td>\n",
       "      <td>Tiptronic</td>\n",
       "      <td>4x4</td>\n",
       "      <td>04-May</td>\n",
       "      <td>Left wheel</td>\n",
       "      <td>Black</td>\n",
       "      <td>8</td>\n",
       "    </tr>\n",
       "    <tr>\n",
       "      <th>2</th>\n",
       "      <td>45774419</td>\n",
       "      <td>8467</td>\n",
       "      <td>-</td>\n",
       "      <td>HONDA</td>\n",
       "      <td>FIT</td>\n",
       "      <td>2006</td>\n",
       "      <td>Hatchback</td>\n",
       "      <td>No</td>\n",
       "      <td>Petrol</td>\n",
       "      <td>1.3</td>\n",
       "      <td>200000 km</td>\n",
       "      <td>4.0</td>\n",
       "      <td>Variator</td>\n",
       "      <td>Front</td>\n",
       "      <td>04-May</td>\n",
       "      <td>Right-hand drive</td>\n",
       "      <td>Black</td>\n",
       "      <td>2</td>\n",
       "    </tr>\n",
       "    <tr>\n",
       "      <th>3</th>\n",
       "      <td>45769185</td>\n",
       "      <td>3607</td>\n",
       "      <td>862</td>\n",
       "      <td>FORD</td>\n",
       "      <td>Escape</td>\n",
       "      <td>2011</td>\n",
       "      <td>Jeep</td>\n",
       "      <td>Yes</td>\n",
       "      <td>Hybrid</td>\n",
       "      <td>2.5</td>\n",
       "      <td>168966 km</td>\n",
       "      <td>4.0</td>\n",
       "      <td>Automatic</td>\n",
       "      <td>4x4</td>\n",
       "      <td>04-May</td>\n",
       "      <td>Left wheel</td>\n",
       "      <td>White</td>\n",
       "      <td>0</td>\n",
       "    </tr>\n",
       "    <tr>\n",
       "      <th>4</th>\n",
       "      <td>45809263</td>\n",
       "      <td>11726</td>\n",
       "      <td>446</td>\n",
       "      <td>HONDA</td>\n",
       "      <td>FIT</td>\n",
       "      <td>2014</td>\n",
       "      <td>Hatchback</td>\n",
       "      <td>Yes</td>\n",
       "      <td>Petrol</td>\n",
       "      <td>1.3</td>\n",
       "      <td>91901 km</td>\n",
       "      <td>4.0</td>\n",
       "      <td>Automatic</td>\n",
       "      <td>Front</td>\n",
       "      <td>04-May</td>\n",
       "      <td>Left wheel</td>\n",
       "      <td>Silver</td>\n",
       "      <td>4</td>\n",
       "    </tr>\n",
       "  </tbody>\n",
       "</table>\n",
       "</div>"
      ],
      "text/plain": [
       "         ID  Price  Levy Manufacturer    Model  Prod. year   Category  \\\n",
       "0  45654403  13328  1399        LEXUS   RX 450        2010       Jeep   \n",
       "1  44731507  16621  1018    CHEVROLET  Equinox        2011       Jeep   \n",
       "2  45774419   8467     -        HONDA      FIT        2006  Hatchback   \n",
       "3  45769185   3607   862         FORD   Escape        2011       Jeep   \n",
       "4  45809263  11726   446        HONDA      FIT        2014  Hatchback   \n",
       "\n",
       "  Leather interior Fuel type Engine volume    Mileage  Cylinders  \\\n",
       "0              Yes    Hybrid           3.5  186005 km        6.0   \n",
       "1               No    Petrol             3  192000 km        6.0   \n",
       "2               No    Petrol           1.3  200000 km        4.0   \n",
       "3              Yes    Hybrid           2.5  168966 km        4.0   \n",
       "4              Yes    Petrol           1.3   91901 km        4.0   \n",
       "\n",
       "  Gear box type Drive wheels   Doors             Wheel   Color  Airbags  \n",
       "0     Automatic          4x4  04-May        Left wheel  Silver       12  \n",
       "1     Tiptronic          4x4  04-May        Left wheel   Black        8  \n",
       "2      Variator        Front  04-May  Right-hand drive   Black        2  \n",
       "3     Automatic          4x4  04-May        Left wheel   White        0  \n",
       "4     Automatic        Front  04-May        Left wheel  Silver        4  "
      ]
     },
     "execution_count": 4,
     "metadata": {},
     "output_type": "execute_result"
    }
   ],
   "source": [
    "df.head()"
   ]
  },
  {
   "cell_type": "code",
   "execution_count": 5,
   "id": "791afef1",
   "metadata": {
    "execution": {
     "iopub.execute_input": "2022-10-14T10:00:28.732452Z",
     "iopub.status.busy": "2022-10-14T10:00:28.732132Z",
     "iopub.status.idle": "2022-10-14T10:00:28.754403Z",
     "shell.execute_reply": "2022-10-14T10:00:28.752980Z",
     "shell.execute_reply.started": "2022-10-14T10:00:28.732425Z"
    },
    "papermill": {
     "duration": 0.045675,
     "end_time": "2022-10-06T12:05:50.854269",
     "exception": false,
     "start_time": "2022-10-06T12:05:50.808594",
     "status": "completed"
    },
    "tags": []
   },
   "outputs": [
    {
     "data": {
      "text/plain": [
       "ID                  0\n",
       "Price               0\n",
       "Levy                0\n",
       "Manufacturer        0\n",
       "Model               0\n",
       "Prod. year          0\n",
       "Category            0\n",
       "Leather interior    0\n",
       "Fuel type           0\n",
       "Engine volume       0\n",
       "Mileage             0\n",
       "Cylinders           0\n",
       "Gear box type       0\n",
       "Drive wheels        0\n",
       "Doors               0\n",
       "Wheel               0\n",
       "Color               0\n",
       "Airbags             0\n",
       "dtype: int64"
      ]
     },
     "execution_count": 5,
     "metadata": {},
     "output_type": "execute_result"
    }
   ],
   "source": [
    "df.isna().sum()"
   ]
  },
  {
   "cell_type": "code",
   "execution_count": 6,
   "id": "16b3cb29",
   "metadata": {
    "execution": {
     "iopub.execute_input": "2022-10-14T10:00:28.756350Z",
     "iopub.status.busy": "2022-10-14T10:00:28.755755Z",
     "iopub.status.idle": "2022-10-14T10:00:28.778116Z",
     "shell.execute_reply": "2022-10-14T10:00:28.776873Z",
     "shell.execute_reply.started": "2022-10-14T10:00:28.756311Z"
    },
    "papermill": {
     "duration": 0.045815,
     "end_time": "2022-10-06T12:05:50.919128",
     "exception": false,
     "start_time": "2022-10-06T12:05:50.873313",
     "status": "completed"
    },
    "tags": []
   },
   "outputs": [
    {
     "data": {
      "text/plain": [
       "ID                  0\n",
       "Price               0\n",
       "Levy                0\n",
       "Manufacturer        0\n",
       "Model               0\n",
       "Prod. year          0\n",
       "Category            0\n",
       "Leather interior    0\n",
       "Fuel type           0\n",
       "Engine volume       0\n",
       "Mileage             0\n",
       "Cylinders           0\n",
       "Gear box type       0\n",
       "Drive wheels        0\n",
       "Doors               0\n",
       "Wheel               0\n",
       "Color               0\n",
       "Airbags             0\n",
       "dtype: int64"
      ]
     },
     "execution_count": 6,
     "metadata": {},
     "output_type": "execute_result"
    }
   ],
   "source": [
    "df.isnull().sum()"
   ]
  },
  {
   "cell_type": "code",
   "execution_count": 7,
   "id": "d32e50e6",
   "metadata": {
    "execution": {
     "iopub.execute_input": "2022-10-14T10:00:28.781167Z",
     "iopub.status.busy": "2022-10-14T10:00:28.780658Z",
     "iopub.status.idle": "2022-10-14T10:00:28.826287Z",
     "shell.execute_reply": "2022-10-14T10:00:28.825129Z",
     "shell.execute_reply.started": "2022-10-14T10:00:28.781121Z"
    },
    "papermill": {
     "duration": 0.067327,
     "end_time": "2022-10-06T12:05:51.004866",
     "exception": false,
     "start_time": "2022-10-06T12:05:50.937539",
     "status": "completed"
    },
    "tags": []
   },
   "outputs": [
    {
     "data": {
      "text/plain": [
       "313"
      ]
     },
     "execution_count": 7,
     "metadata": {},
     "output_type": "execute_result"
    }
   ],
   "source": [
    "df.duplicated().sum()"
   ]
  },
  {
   "cell_type": "code",
   "execution_count": 8,
   "id": "8fe1e70b",
   "metadata": {
    "execution": {
     "iopub.execute_input": "2022-10-14T10:00:28.828485Z",
     "iopub.status.busy": "2022-10-14T10:00:28.827697Z",
     "iopub.status.idle": "2022-10-14T10:00:28.866375Z",
     "shell.execute_reply": "2022-10-14T10:00:28.865101Z",
     "shell.execute_reply.started": "2022-10-14T10:00:28.828447Z"
    },
    "papermill": {
     "duration": 0.064781,
     "end_time": "2022-10-06T12:05:51.089307",
     "exception": false,
     "start_time": "2022-10-06T12:05:51.024526",
     "status": "completed"
    },
    "tags": []
   },
   "outputs": [],
   "source": [
    "df.drop_duplicates(keep='first', inplace=True)"
   ]
  },
  {
   "cell_type": "code",
   "execution_count": 9,
   "id": "c8625e74",
   "metadata": {
    "execution": {
     "iopub.execute_input": "2022-10-14T10:00:28.868543Z",
     "iopub.status.busy": "2022-10-14T10:00:28.868165Z",
     "iopub.status.idle": "2022-10-14T10:00:28.907420Z",
     "shell.execute_reply": "2022-10-14T10:00:28.906146Z",
     "shell.execute_reply.started": "2022-10-14T10:00:28.868509Z"
    },
    "papermill": {
     "duration": 0.060621,
     "end_time": "2022-10-06T12:05:51.168783",
     "exception": false,
     "start_time": "2022-10-06T12:05:51.108162",
     "status": "completed"
    },
    "tags": []
   },
   "outputs": [
    {
     "data": {
      "text/plain": [
       "0"
      ]
     },
     "execution_count": 9,
     "metadata": {},
     "output_type": "execute_result"
    }
   ],
   "source": [
    "df.duplicated().sum()"
   ]
  },
  {
   "cell_type": "code",
   "execution_count": 10,
   "id": "c582812d",
   "metadata": {
    "execution": {
     "iopub.execute_input": "2022-10-14T10:00:28.912426Z",
     "iopub.status.busy": "2022-10-14T10:00:28.911663Z",
     "iopub.status.idle": "2022-10-14T10:00:28.943643Z",
     "shell.execute_reply": "2022-10-14T10:00:28.942026Z",
     "shell.execute_reply.started": "2022-10-14T10:00:28.912384Z"
    },
    "papermill": {
     "duration": 0.056314,
     "end_time": "2022-10-06T12:05:51.243752",
     "exception": false,
     "start_time": "2022-10-06T12:05:51.187438",
     "status": "completed"
    },
    "tags": []
   },
   "outputs": [
    {
     "name": "stdout",
     "output_type": "stream",
     "text": [
      "<class 'pandas.core.frame.DataFrame'>\n",
      "Int64Index: 18924 entries, 0 to 19236\n",
      "Data columns (total 18 columns):\n",
      " #   Column            Non-Null Count  Dtype  \n",
      "---  ------            --------------  -----  \n",
      " 0   ID                18924 non-null  int64  \n",
      " 1   Price             18924 non-null  int64  \n",
      " 2   Levy              18924 non-null  object \n",
      " 3   Manufacturer      18924 non-null  object \n",
      " 4   Model             18924 non-null  object \n",
      " 5   Prod. year        18924 non-null  int64  \n",
      " 6   Category          18924 non-null  object \n",
      " 7   Leather interior  18924 non-null  object \n",
      " 8   Fuel type         18924 non-null  object \n",
      " 9   Engine volume     18924 non-null  object \n",
      " 10  Mileage           18924 non-null  object \n",
      " 11  Cylinders         18924 non-null  float64\n",
      " 12  Gear box type     18924 non-null  object \n",
      " 13  Drive wheels      18924 non-null  object \n",
      " 14  Doors             18924 non-null  object \n",
      " 15  Wheel             18924 non-null  object \n",
      " 16  Color             18924 non-null  object \n",
      " 17  Airbags           18924 non-null  int64  \n",
      "dtypes: float64(1), int64(4), object(13)\n",
      "memory usage: 2.7+ MB\n"
     ]
    }
   ],
   "source": [
    "df.info()"
   ]
  },
  {
   "cell_type": "code",
   "execution_count": 11,
   "id": "152e0ffe",
   "metadata": {
    "execution": {
     "iopub.execute_input": "2022-10-14T10:00:28.945666Z",
     "iopub.status.busy": "2022-10-14T10:00:28.945273Z",
     "iopub.status.idle": "2022-10-14T10:00:28.978401Z",
     "shell.execute_reply": "2022-10-14T10:00:28.977347Z",
     "shell.execute_reply.started": "2022-10-14T10:00:28.945632Z"
    },
    "papermill": {
     "duration": 0.053807,
     "end_time": "2022-10-06T12:05:51.317642",
     "exception": false,
     "start_time": "2022-10-06T12:05:51.263835",
     "status": "completed"
    },
    "tags": []
   },
   "outputs": [
    {
     "name": "stdout",
     "output_type": "stream",
     "text": [
      "ID with 18924 values\n",
      "Price with 2315 values\n",
      "Levy with 559 values\n",
      "Manufacturer with 65 values\n",
      "Model with 1590 values\n",
      "Prod. year with 54 values\n",
      "Category with 11 values\n",
      "Leather interior with 2 values\n",
      "Fuel type with 7 values\n",
      "Engine volume with 107 values\n",
      "Mileage with 7687 values\n",
      "Cylinders with 13 values\n",
      "Gear box type with 4 values\n",
      "Drive wheels with 3 values\n",
      "Doors with 3 values\n",
      "Wheel with 2 values\n",
      "Color with 16 values\n",
      "Airbags with 17 values\n"
     ]
    }
   ],
   "source": [
    "for col in df.columns:\n",
    "    print(f\"{col} with {df[col].nunique()} values\")"
   ]
  },
  {
   "cell_type": "code",
   "execution_count": 12,
   "id": "89654cb6",
   "metadata": {
    "execution": {
     "iopub.execute_input": "2022-10-14T10:00:28.980479Z",
     "iopub.status.busy": "2022-10-14T10:00:28.979780Z",
     "iopub.status.idle": "2022-10-14T10:00:28.990502Z",
     "shell.execute_reply": "2022-10-14T10:00:28.988721Z",
     "shell.execute_reply.started": "2022-10-14T10:00:28.980441Z"
    },
    "papermill": {
     "duration": 0.034845,
     "end_time": "2022-10-06T12:05:51.373328",
     "exception": false,
     "start_time": "2022-10-06T12:05:51.338483",
     "status": "completed"
    },
    "tags": []
   },
   "outputs": [],
   "source": [
    "df.drop(\"ID\", axis=1, inplace=True)"
   ]
  },
  {
   "cell_type": "code",
   "execution_count": 13,
   "id": "9a67294d",
   "metadata": {
    "execution": {
     "iopub.execute_input": "2022-10-14T10:00:28.993043Z",
     "iopub.status.busy": "2022-10-14T10:00:28.992479Z",
     "iopub.status.idle": "2022-10-14T10:00:29.021365Z",
     "shell.execute_reply": "2022-10-14T10:00:29.020087Z",
     "shell.execute_reply.started": "2022-10-14T10:00:28.992993Z"
    },
    "papermill": {
     "duration": 0.045906,
     "end_time": "2022-10-06T12:05:51.439177",
     "exception": false,
     "start_time": "2022-10-06T12:05:51.393271",
     "status": "completed"
    },
    "tags": []
   },
   "outputs": [
    {
     "data": {
      "text/html": [
       "<div>\n",
       "<style scoped>\n",
       "    .dataframe tbody tr th:only-of-type {\n",
       "        vertical-align: middle;\n",
       "    }\n",
       "\n",
       "    .dataframe tbody tr th {\n",
       "        vertical-align: top;\n",
       "    }\n",
       "\n",
       "    .dataframe thead th {\n",
       "        text-align: right;\n",
       "    }\n",
       "</style>\n",
       "<table border=\"1\" class=\"dataframe\">\n",
       "  <thead>\n",
       "    <tr style=\"text-align: right;\">\n",
       "      <th></th>\n",
       "      <th>Price</th>\n",
       "      <th>Levy</th>\n",
       "      <th>Manufacturer</th>\n",
       "      <th>Model</th>\n",
       "      <th>Prod. year</th>\n",
       "      <th>Category</th>\n",
       "      <th>Leather interior</th>\n",
       "      <th>Fuel type</th>\n",
       "      <th>Engine volume</th>\n",
       "      <th>Mileage</th>\n",
       "      <th>Cylinders</th>\n",
       "      <th>Gear box type</th>\n",
       "      <th>Drive wheels</th>\n",
       "      <th>Doors</th>\n",
       "      <th>Wheel</th>\n",
       "      <th>Color</th>\n",
       "      <th>Airbags</th>\n",
       "    </tr>\n",
       "  </thead>\n",
       "  <tbody>\n",
       "    <tr>\n",
       "      <th>0</th>\n",
       "      <td>13328</td>\n",
       "      <td>1399</td>\n",
       "      <td>LEXUS</td>\n",
       "      <td>RX 450</td>\n",
       "      <td>2010</td>\n",
       "      <td>Jeep</td>\n",
       "      <td>Yes</td>\n",
       "      <td>Hybrid</td>\n",
       "      <td>3.5</td>\n",
       "      <td>186005 km</td>\n",
       "      <td>6.0</td>\n",
       "      <td>Automatic</td>\n",
       "      <td>4x4</td>\n",
       "      <td>04-May</td>\n",
       "      <td>Left wheel</td>\n",
       "      <td>Silver</td>\n",
       "      <td>12</td>\n",
       "    </tr>\n",
       "    <tr>\n",
       "      <th>1</th>\n",
       "      <td>16621</td>\n",
       "      <td>1018</td>\n",
       "      <td>CHEVROLET</td>\n",
       "      <td>Equinox</td>\n",
       "      <td>2011</td>\n",
       "      <td>Jeep</td>\n",
       "      <td>No</td>\n",
       "      <td>Petrol</td>\n",
       "      <td>3</td>\n",
       "      <td>192000 km</td>\n",
       "      <td>6.0</td>\n",
       "      <td>Tiptronic</td>\n",
       "      <td>4x4</td>\n",
       "      <td>04-May</td>\n",
       "      <td>Left wheel</td>\n",
       "      <td>Black</td>\n",
       "      <td>8</td>\n",
       "    </tr>\n",
       "    <tr>\n",
       "      <th>2</th>\n",
       "      <td>8467</td>\n",
       "      <td>-</td>\n",
       "      <td>HONDA</td>\n",
       "      <td>FIT</td>\n",
       "      <td>2006</td>\n",
       "      <td>Hatchback</td>\n",
       "      <td>No</td>\n",
       "      <td>Petrol</td>\n",
       "      <td>1.3</td>\n",
       "      <td>200000 km</td>\n",
       "      <td>4.0</td>\n",
       "      <td>Variator</td>\n",
       "      <td>Front</td>\n",
       "      <td>04-May</td>\n",
       "      <td>Right-hand drive</td>\n",
       "      <td>Black</td>\n",
       "      <td>2</td>\n",
       "    </tr>\n",
       "  </tbody>\n",
       "</table>\n",
       "</div>"
      ],
      "text/plain": [
       "   Price  Levy Manufacturer    Model  Prod. year   Category Leather interior  \\\n",
       "0  13328  1399        LEXUS   RX 450        2010       Jeep              Yes   \n",
       "1  16621  1018    CHEVROLET  Equinox        2011       Jeep               No   \n",
       "2   8467     -        HONDA      FIT        2006  Hatchback               No   \n",
       "\n",
       "  Fuel type Engine volume    Mileage  Cylinders Gear box type Drive wheels  \\\n",
       "0    Hybrid           3.5  186005 km        6.0     Automatic          4x4   \n",
       "1    Petrol             3  192000 km        6.0     Tiptronic          4x4   \n",
       "2    Petrol           1.3  200000 km        4.0      Variator        Front   \n",
       "\n",
       "    Doors             Wheel   Color  Airbags  \n",
       "0  04-May        Left wheel  Silver       12  \n",
       "1  04-May        Left wheel   Black        8  \n",
       "2  04-May  Right-hand drive   Black        2  "
      ]
     },
     "execution_count": 13,
     "metadata": {},
     "output_type": "execute_result"
    }
   ],
   "source": [
    "df.head(3)"
   ]
  },
  {
   "cell_type": "code",
   "execution_count": 14,
   "id": "65f91624",
   "metadata": {
    "execution": {
     "iopub.execute_input": "2022-10-14T10:00:29.023689Z",
     "iopub.status.busy": "2022-10-14T10:00:29.022666Z",
     "iopub.status.idle": "2022-10-14T10:00:29.050665Z",
     "shell.execute_reply": "2022-10-14T10:00:29.049269Z",
     "shell.execute_reply.started": "2022-10-14T10:00:29.023636Z"
    },
    "papermill": {
     "duration": 0.046577,
     "end_time": "2022-10-06T12:05:51.504805",
     "exception": false,
     "start_time": "2022-10-06T12:05:51.458228",
     "status": "completed"
    },
    "tags": []
   },
   "outputs": [],
   "source": [
    "df['Mileage'] = df['Mileage'].str.replace(\"km\", '')"
   ]
  },
  {
   "cell_type": "code",
   "execution_count": 15,
   "id": "3de8edd3",
   "metadata": {
    "execution": {
     "iopub.execute_input": "2022-10-14T10:00:29.054915Z",
     "iopub.status.busy": "2022-10-14T10:00:29.054386Z",
     "iopub.status.idle": "2022-10-14T10:00:29.065138Z",
     "shell.execute_reply": "2022-10-14T10:00:29.063578Z",
     "shell.execute_reply.started": "2022-10-14T10:00:29.054876Z"
    }
   },
   "outputs": [],
   "source": [
    "df[\"Mileage\"] = df[\"Mileage\"].astype(\"int64\")"
   ]
  },
  {
   "cell_type": "code",
   "execution_count": 16,
   "id": "ab3fa138",
   "metadata": {
    "execution": {
     "iopub.execute_input": "2022-10-14T10:00:29.067496Z",
     "iopub.status.busy": "2022-10-14T10:00:29.066855Z",
     "iopub.status.idle": "2022-10-14T10:00:29.096732Z",
     "shell.execute_reply": "2022-10-14T10:00:29.095537Z",
     "shell.execute_reply.started": "2022-10-14T10:00:29.067441Z"
    },
    "papermill": {
     "duration": 0.042783,
     "end_time": "2022-10-06T12:05:51.566875",
     "exception": false,
     "start_time": "2022-10-06T12:05:51.524092",
     "status": "completed"
    },
    "tags": []
   },
   "outputs": [
    {
     "data": {
      "text/html": [
       "<div>\n",
       "<style scoped>\n",
       "    .dataframe tbody tr th:only-of-type {\n",
       "        vertical-align: middle;\n",
       "    }\n",
       "\n",
       "    .dataframe tbody tr th {\n",
       "        vertical-align: top;\n",
       "    }\n",
       "\n",
       "    .dataframe thead th {\n",
       "        text-align: right;\n",
       "    }\n",
       "</style>\n",
       "<table border=\"1\" class=\"dataframe\">\n",
       "  <thead>\n",
       "    <tr style=\"text-align: right;\">\n",
       "      <th></th>\n",
       "      <th>Price</th>\n",
       "      <th>Levy</th>\n",
       "      <th>Manufacturer</th>\n",
       "      <th>Model</th>\n",
       "      <th>Prod. year</th>\n",
       "      <th>Category</th>\n",
       "      <th>Leather interior</th>\n",
       "      <th>Fuel type</th>\n",
       "      <th>Engine volume</th>\n",
       "      <th>Mileage</th>\n",
       "      <th>Cylinders</th>\n",
       "      <th>Gear box type</th>\n",
       "      <th>Drive wheels</th>\n",
       "      <th>Doors</th>\n",
       "      <th>Wheel</th>\n",
       "      <th>Color</th>\n",
       "      <th>Airbags</th>\n",
       "    </tr>\n",
       "  </thead>\n",
       "  <tbody>\n",
       "    <tr>\n",
       "      <th>0</th>\n",
       "      <td>13328</td>\n",
       "      <td>1399</td>\n",
       "      <td>LEXUS</td>\n",
       "      <td>RX 450</td>\n",
       "      <td>2010</td>\n",
       "      <td>Jeep</td>\n",
       "      <td>Yes</td>\n",
       "      <td>Hybrid</td>\n",
       "      <td>3.5</td>\n",
       "      <td>186005</td>\n",
       "      <td>6.0</td>\n",
       "      <td>Automatic</td>\n",
       "      <td>4x4</td>\n",
       "      <td>04-May</td>\n",
       "      <td>Left wheel</td>\n",
       "      <td>Silver</td>\n",
       "      <td>12</td>\n",
       "    </tr>\n",
       "    <tr>\n",
       "      <th>1</th>\n",
       "      <td>16621</td>\n",
       "      <td>1018</td>\n",
       "      <td>CHEVROLET</td>\n",
       "      <td>Equinox</td>\n",
       "      <td>2011</td>\n",
       "      <td>Jeep</td>\n",
       "      <td>No</td>\n",
       "      <td>Petrol</td>\n",
       "      <td>3</td>\n",
       "      <td>192000</td>\n",
       "      <td>6.0</td>\n",
       "      <td>Tiptronic</td>\n",
       "      <td>4x4</td>\n",
       "      <td>04-May</td>\n",
       "      <td>Left wheel</td>\n",
       "      <td>Black</td>\n",
       "      <td>8</td>\n",
       "    </tr>\n",
       "    <tr>\n",
       "      <th>2</th>\n",
       "      <td>8467</td>\n",
       "      <td>-</td>\n",
       "      <td>HONDA</td>\n",
       "      <td>FIT</td>\n",
       "      <td>2006</td>\n",
       "      <td>Hatchback</td>\n",
       "      <td>No</td>\n",
       "      <td>Petrol</td>\n",
       "      <td>1.3</td>\n",
       "      <td>200000</td>\n",
       "      <td>4.0</td>\n",
       "      <td>Variator</td>\n",
       "      <td>Front</td>\n",
       "      <td>04-May</td>\n",
       "      <td>Right-hand drive</td>\n",
       "      <td>Black</td>\n",
       "      <td>2</td>\n",
       "    </tr>\n",
       "  </tbody>\n",
       "</table>\n",
       "</div>"
      ],
      "text/plain": [
       "   Price  Levy Manufacturer    Model  Prod. year   Category Leather interior  \\\n",
       "0  13328  1399        LEXUS   RX 450        2010       Jeep              Yes   \n",
       "1  16621  1018    CHEVROLET  Equinox        2011       Jeep               No   \n",
       "2   8467     -        HONDA      FIT        2006  Hatchback               No   \n",
       "\n",
       "  Fuel type Engine volume  Mileage  Cylinders Gear box type Drive wheels  \\\n",
       "0    Hybrid           3.5   186005        6.0     Automatic          4x4   \n",
       "1    Petrol             3   192000        6.0     Tiptronic          4x4   \n",
       "2    Petrol           1.3   200000        4.0      Variator        Front   \n",
       "\n",
       "    Doors             Wheel   Color  Airbags  \n",
       "0  04-May        Left wheel  Silver       12  \n",
       "1  04-May        Left wheel   Black        8  \n",
       "2  04-May  Right-hand drive   Black        2  "
      ]
     },
     "execution_count": 16,
     "metadata": {},
     "output_type": "execute_result"
    }
   ],
   "source": [
    "df.head(3)"
   ]
  },
  {
   "cell_type": "code",
   "execution_count": 17,
   "id": "3d65a175",
   "metadata": {
    "execution": {
     "iopub.execute_input": "2022-10-14T10:00:29.099269Z",
     "iopub.status.busy": "2022-10-14T10:00:29.098276Z",
     "iopub.status.idle": "2022-10-14T10:00:29.132264Z",
     "shell.execute_reply": "2022-10-14T10:00:29.130600Z",
     "shell.execute_reply.started": "2022-10-14T10:00:29.099220Z"
    },
    "papermill": {
     "duration": 0.04887,
     "end_time": "2022-10-06T12:05:51.635958",
     "exception": false,
     "start_time": "2022-10-06T12:05:51.587088",
     "status": "completed"
    },
    "tags": []
   },
   "outputs": [
    {
     "name": "stdout",
     "output_type": "stream",
     "text": [
      "<class 'pandas.core.frame.DataFrame'>\n",
      "Int64Index: 18924 entries, 0 to 19236\n",
      "Data columns (total 17 columns):\n",
      " #   Column            Non-Null Count  Dtype  \n",
      "---  ------            --------------  -----  \n",
      " 0   Price             18924 non-null  int64  \n",
      " 1   Levy              18924 non-null  object \n",
      " 2   Manufacturer      18924 non-null  object \n",
      " 3   Model             18924 non-null  object \n",
      " 4   Prod. year        18924 non-null  int64  \n",
      " 5   Category          18924 non-null  object \n",
      " 6   Leather interior  18924 non-null  object \n",
      " 7   Fuel type         18924 non-null  object \n",
      " 8   Engine volume     18924 non-null  object \n",
      " 9   Mileage           18924 non-null  int64  \n",
      " 10  Cylinders         18924 non-null  float64\n",
      " 11  Gear box type     18924 non-null  object \n",
      " 12  Drive wheels      18924 non-null  object \n",
      " 13  Doors             18924 non-null  object \n",
      " 14  Wheel             18924 non-null  object \n",
      " 15  Color             18924 non-null  object \n",
      " 16  Airbags           18924 non-null  int64  \n",
      "dtypes: float64(1), int64(4), object(12)\n",
      "memory usage: 2.6+ MB\n"
     ]
    }
   ],
   "source": [
    "df.info()"
   ]
  },
  {
   "cell_type": "code",
   "execution_count": 18,
   "id": "daec5ffe",
   "metadata": {
    "execution": {
     "iopub.execute_input": "2022-10-14T10:00:29.134916Z",
     "iopub.status.busy": "2022-10-14T10:00:29.134188Z",
     "iopub.status.idle": "2022-10-14T10:00:29.147901Z",
     "shell.execute_reply": "2022-10-14T10:00:29.146844Z",
     "shell.execute_reply.started": "2022-10-14T10:00:29.134871Z"
    }
   },
   "outputs": [
    {
     "data": {
      "text/plain": [
       "5709"
      ]
     },
     "execution_count": 18,
     "metadata": {},
     "output_type": "execute_result"
    }
   ],
   "source": [
    "len(df.loc[df[\"Levy\"]==\"-\"])"
   ]
  },
  {
   "cell_type": "code",
   "execution_count": 19,
   "id": "ee9f4c5c",
   "metadata": {
    "execution": {
     "iopub.execute_input": "2022-10-14T10:00:29.149824Z",
     "iopub.status.busy": "2022-10-14T10:00:29.149299Z",
     "iopub.status.idle": "2022-10-14T10:00:29.166649Z",
     "shell.execute_reply": "2022-10-14T10:00:29.165100Z",
     "shell.execute_reply.started": "2022-10-14T10:00:29.149791Z"
    }
   },
   "outputs": [],
   "source": [
    "df[\"Levy\"] = df[\"Levy\"].str.replace(\"-\", \"0\")"
   ]
  },
  {
   "cell_type": "code",
   "execution_count": 20,
   "id": "ad0aac3e",
   "metadata": {
    "execution": {
     "iopub.execute_input": "2022-10-14T10:00:29.170207Z",
     "iopub.status.busy": "2022-10-14T10:00:29.169776Z",
     "iopub.status.idle": "2022-10-14T10:00:29.183589Z",
     "shell.execute_reply": "2022-10-14T10:00:29.182007Z",
     "shell.execute_reply.started": "2022-10-14T10:00:29.170171Z"
    }
   },
   "outputs": [
    {
     "data": {
      "text/plain": [
       "0"
      ]
     },
     "execution_count": 20,
     "metadata": {},
     "output_type": "execute_result"
    }
   ],
   "source": [
    "len(df.loc[df[\"Levy\"]==\"-\"])"
   ]
  },
  {
   "cell_type": "code",
   "execution_count": 21,
   "id": "e9a764ef",
   "metadata": {
    "execution": {
     "iopub.execute_input": "2022-10-14T10:00:29.186064Z",
     "iopub.status.busy": "2022-10-14T10:00:29.185215Z",
     "iopub.status.idle": "2022-10-14T10:00:29.198718Z",
     "shell.execute_reply": "2022-10-14T10:00:29.197326Z",
     "shell.execute_reply.started": "2022-10-14T10:00:29.186012Z"
    }
   },
   "outputs": [],
   "source": [
    "df[\"Levy\"] = df[\"Levy\"].astype(\"int64\")"
   ]
  },
  {
   "cell_type": "code",
   "execution_count": 22,
   "id": "7942d8b7",
   "metadata": {
    "execution": {
     "iopub.execute_input": "2022-10-14T10:00:29.200410Z",
     "iopub.status.busy": "2022-10-14T10:00:29.200017Z",
     "iopub.status.idle": "2022-10-14T10:00:29.233988Z",
     "shell.execute_reply": "2022-10-14T10:00:29.233079Z",
     "shell.execute_reply.started": "2022-10-14T10:00:29.200373Z"
    }
   },
   "outputs": [
    {
     "name": "stdout",
     "output_type": "stream",
     "text": [
      "<class 'pandas.core.frame.DataFrame'>\n",
      "Int64Index: 18924 entries, 0 to 19236\n",
      "Data columns (total 17 columns):\n",
      " #   Column            Non-Null Count  Dtype  \n",
      "---  ------            --------------  -----  \n",
      " 0   Price             18924 non-null  int64  \n",
      " 1   Levy              18924 non-null  int64  \n",
      " 2   Manufacturer      18924 non-null  object \n",
      " 3   Model             18924 non-null  object \n",
      " 4   Prod. year        18924 non-null  int64  \n",
      " 5   Category          18924 non-null  object \n",
      " 6   Leather interior  18924 non-null  object \n",
      " 7   Fuel type         18924 non-null  object \n",
      " 8   Engine volume     18924 non-null  object \n",
      " 9   Mileage           18924 non-null  int64  \n",
      " 10  Cylinders         18924 non-null  float64\n",
      " 11  Gear box type     18924 non-null  object \n",
      " 12  Drive wheels      18924 non-null  object \n",
      " 13  Doors             18924 non-null  object \n",
      " 14  Wheel             18924 non-null  object \n",
      " 15  Color             18924 non-null  object \n",
      " 16  Airbags           18924 non-null  int64  \n",
      "dtypes: float64(1), int64(5), object(11)\n",
      "memory usage: 2.6+ MB\n"
     ]
    }
   ],
   "source": [
    "df.info()"
   ]
  },
  {
   "cell_type": "code",
   "execution_count": 23,
   "id": "b64ac6b4",
   "metadata": {
    "execution": {
     "iopub.execute_input": "2022-10-14T10:00:29.235996Z",
     "iopub.status.busy": "2022-10-14T10:00:29.235617Z",
     "iopub.status.idle": "2022-10-14T10:00:29.257771Z",
     "shell.execute_reply": "2022-10-14T10:00:29.256559Z",
     "shell.execute_reply.started": "2022-10-14T10:00:29.235958Z"
    },
    "scrolled": true
   },
   "outputs": [
    {
     "data": {
      "text/html": [
       "<div>\n",
       "<style scoped>\n",
       "    .dataframe tbody tr th:only-of-type {\n",
       "        vertical-align: middle;\n",
       "    }\n",
       "\n",
       "    .dataframe tbody tr th {\n",
       "        vertical-align: top;\n",
       "    }\n",
       "\n",
       "    .dataframe thead th {\n",
       "        text-align: right;\n",
       "    }\n",
       "</style>\n",
       "<table border=\"1\" class=\"dataframe\">\n",
       "  <thead>\n",
       "    <tr style=\"text-align: right;\">\n",
       "      <th></th>\n",
       "      <th>Price</th>\n",
       "      <th>Levy</th>\n",
       "      <th>Manufacturer</th>\n",
       "      <th>Model</th>\n",
       "      <th>Prod. year</th>\n",
       "      <th>Category</th>\n",
       "      <th>Leather interior</th>\n",
       "      <th>Fuel type</th>\n",
       "      <th>Engine volume</th>\n",
       "      <th>Mileage</th>\n",
       "      <th>Cylinders</th>\n",
       "      <th>Gear box type</th>\n",
       "      <th>Drive wheels</th>\n",
       "      <th>Doors</th>\n",
       "      <th>Wheel</th>\n",
       "      <th>Color</th>\n",
       "      <th>Airbags</th>\n",
       "    </tr>\n",
       "  </thead>\n",
       "  <tbody>\n",
       "    <tr>\n",
       "      <th>0</th>\n",
       "      <td>13328</td>\n",
       "      <td>1399</td>\n",
       "      <td>LEXUS</td>\n",
       "      <td>RX 450</td>\n",
       "      <td>2010</td>\n",
       "      <td>Jeep</td>\n",
       "      <td>Yes</td>\n",
       "      <td>Hybrid</td>\n",
       "      <td>3.5</td>\n",
       "      <td>186005</td>\n",
       "      <td>6.0</td>\n",
       "      <td>Automatic</td>\n",
       "      <td>4x4</td>\n",
       "      <td>04-May</td>\n",
       "      <td>Left wheel</td>\n",
       "      <td>Silver</td>\n",
       "      <td>12</td>\n",
       "    </tr>\n",
       "    <tr>\n",
       "      <th>1</th>\n",
       "      <td>16621</td>\n",
       "      <td>1018</td>\n",
       "      <td>CHEVROLET</td>\n",
       "      <td>Equinox</td>\n",
       "      <td>2011</td>\n",
       "      <td>Jeep</td>\n",
       "      <td>No</td>\n",
       "      <td>Petrol</td>\n",
       "      <td>3</td>\n",
       "      <td>192000</td>\n",
       "      <td>6.0</td>\n",
       "      <td>Tiptronic</td>\n",
       "      <td>4x4</td>\n",
       "      <td>04-May</td>\n",
       "      <td>Left wheel</td>\n",
       "      <td>Black</td>\n",
       "      <td>8</td>\n",
       "    </tr>\n",
       "    <tr>\n",
       "      <th>2</th>\n",
       "      <td>8467</td>\n",
       "      <td>0</td>\n",
       "      <td>HONDA</td>\n",
       "      <td>FIT</td>\n",
       "      <td>2006</td>\n",
       "      <td>Hatchback</td>\n",
       "      <td>No</td>\n",
       "      <td>Petrol</td>\n",
       "      <td>1.3</td>\n",
       "      <td>200000</td>\n",
       "      <td>4.0</td>\n",
       "      <td>Variator</td>\n",
       "      <td>Front</td>\n",
       "      <td>04-May</td>\n",
       "      <td>Right-hand drive</td>\n",
       "      <td>Black</td>\n",
       "      <td>2</td>\n",
       "    </tr>\n",
       "    <tr>\n",
       "      <th>3</th>\n",
       "      <td>3607</td>\n",
       "      <td>862</td>\n",
       "      <td>FORD</td>\n",
       "      <td>Escape</td>\n",
       "      <td>2011</td>\n",
       "      <td>Jeep</td>\n",
       "      <td>Yes</td>\n",
       "      <td>Hybrid</td>\n",
       "      <td>2.5</td>\n",
       "      <td>168966</td>\n",
       "      <td>4.0</td>\n",
       "      <td>Automatic</td>\n",
       "      <td>4x4</td>\n",
       "      <td>04-May</td>\n",
       "      <td>Left wheel</td>\n",
       "      <td>White</td>\n",
       "      <td>0</td>\n",
       "    </tr>\n",
       "    <tr>\n",
       "      <th>4</th>\n",
       "      <td>11726</td>\n",
       "      <td>446</td>\n",
       "      <td>HONDA</td>\n",
       "      <td>FIT</td>\n",
       "      <td>2014</td>\n",
       "      <td>Hatchback</td>\n",
       "      <td>Yes</td>\n",
       "      <td>Petrol</td>\n",
       "      <td>1.3</td>\n",
       "      <td>91901</td>\n",
       "      <td>4.0</td>\n",
       "      <td>Automatic</td>\n",
       "      <td>Front</td>\n",
       "      <td>04-May</td>\n",
       "      <td>Left wheel</td>\n",
       "      <td>Silver</td>\n",
       "      <td>4</td>\n",
       "    </tr>\n",
       "  </tbody>\n",
       "</table>\n",
       "</div>"
      ],
      "text/plain": [
       "   Price  Levy Manufacturer    Model  Prod. year   Category Leather interior  \\\n",
       "0  13328  1399        LEXUS   RX 450        2010       Jeep              Yes   \n",
       "1  16621  1018    CHEVROLET  Equinox        2011       Jeep               No   \n",
       "2   8467     0        HONDA      FIT        2006  Hatchback               No   \n",
       "3   3607   862         FORD   Escape        2011       Jeep              Yes   \n",
       "4  11726   446        HONDA      FIT        2014  Hatchback              Yes   \n",
       "\n",
       "  Fuel type Engine volume  Mileage  Cylinders Gear box type Drive wheels  \\\n",
       "0    Hybrid           3.5   186005        6.0     Automatic          4x4   \n",
       "1    Petrol             3   192000        6.0     Tiptronic          4x4   \n",
       "2    Petrol           1.3   200000        4.0      Variator        Front   \n",
       "3    Hybrid           2.5   168966        4.0     Automatic          4x4   \n",
       "4    Petrol           1.3    91901        4.0     Automatic        Front   \n",
       "\n",
       "    Doors             Wheel   Color  Airbags  \n",
       "0  04-May        Left wheel  Silver       12  \n",
       "1  04-May        Left wheel   Black        8  \n",
       "2  04-May  Right-hand drive   Black        2  \n",
       "3  04-May        Left wheel   White        0  \n",
       "4  04-May        Left wheel  Silver        4  "
      ]
     },
     "execution_count": 23,
     "metadata": {},
     "output_type": "execute_result"
    }
   ],
   "source": [
    "df.head()"
   ]
  },
  {
   "cell_type": "code",
   "execution_count": 24,
   "id": "5ed71bc4",
   "metadata": {
    "execution": {
     "iopub.execute_input": "2022-10-14T10:00:29.260358Z",
     "iopub.status.busy": "2022-10-14T10:00:29.259507Z",
     "iopub.status.idle": "2022-10-14T10:00:29.273265Z",
     "shell.execute_reply": "2022-10-14T10:00:29.271706Z",
     "shell.execute_reply.started": "2022-10-14T10:00:29.260316Z"
    }
   },
   "outputs": [
    {
     "data": {
      "text/plain": [
       "Yes    13731\n",
       "No      5193\n",
       "Name: Leather interior, dtype: int64"
      ]
     },
     "execution_count": 24,
     "metadata": {},
     "output_type": "execute_result"
    }
   ],
   "source": [
    "df[\"Leather interior\"].value_counts()"
   ]
  },
  {
   "cell_type": "code",
   "execution_count": 25,
   "id": "05c9663f",
   "metadata": {
    "execution": {
     "iopub.execute_input": "2022-10-14T10:00:29.275859Z",
     "iopub.status.busy": "2022-10-14T10:00:29.275158Z",
     "iopub.status.idle": "2022-10-14T10:00:29.287592Z",
     "shell.execute_reply": "2022-10-14T10:00:29.286662Z",
     "shell.execute_reply.started": "2022-10-14T10:00:29.275810Z"
    }
   },
   "outputs": [],
   "source": [
    "df[\"Leather interior\"] = df[\"Leather interior\"].replace({\"Yes\": \"1\", \"No\": \"0\"})"
   ]
  },
  {
   "cell_type": "code",
   "execution_count": 26,
   "id": "b13f4e7d",
   "metadata": {
    "execution": {
     "iopub.execute_input": "2022-10-14T10:00:29.290167Z",
     "iopub.status.busy": "2022-10-14T10:00:29.289141Z",
     "iopub.status.idle": "2022-10-14T10:00:29.303438Z",
     "shell.execute_reply": "2022-10-14T10:00:29.302010Z",
     "shell.execute_reply.started": "2022-10-14T10:00:29.290113Z"
    },
    "scrolled": true
   },
   "outputs": [
    {
     "data": {
      "text/plain": [
       "1    13731\n",
       "0     5193\n",
       "Name: Leather interior, dtype: int64"
      ]
     },
     "execution_count": 26,
     "metadata": {},
     "output_type": "execute_result"
    }
   ],
   "source": [
    "df[\"Leather interior\"].value_counts()"
   ]
  },
  {
   "cell_type": "code",
   "execution_count": 27,
   "id": "f635fabc",
   "metadata": {
    "execution": {
     "iopub.execute_input": "2022-10-14T10:00:29.306488Z",
     "iopub.status.busy": "2022-10-14T10:00:29.305598Z",
     "iopub.status.idle": "2022-10-14T10:00:29.318475Z",
     "shell.execute_reply": "2022-10-14T10:00:29.317273Z",
     "shell.execute_reply.started": "2022-10-14T10:00:29.306436Z"
    }
   },
   "outputs": [],
   "source": [
    "df[\"Leather interior\"] = df[\"Leather interior\"].astype(\"int64\")"
   ]
  },
  {
   "cell_type": "code",
   "execution_count": 28,
   "id": "28d57791",
   "metadata": {
    "execution": {
     "iopub.execute_input": "2022-10-14T10:00:29.327181Z",
     "iopub.status.busy": "2022-10-14T10:00:29.326656Z",
     "iopub.status.idle": "2022-10-14T10:00:29.350038Z",
     "shell.execute_reply": "2022-10-14T10:00:29.348742Z",
     "shell.execute_reply.started": "2022-10-14T10:00:29.327145Z"
    },
    "scrolled": true
   },
   "outputs": [
    {
     "data": {
      "text/html": [
       "<div>\n",
       "<style scoped>\n",
       "    .dataframe tbody tr th:only-of-type {\n",
       "        vertical-align: middle;\n",
       "    }\n",
       "\n",
       "    .dataframe tbody tr th {\n",
       "        vertical-align: top;\n",
       "    }\n",
       "\n",
       "    .dataframe thead th {\n",
       "        text-align: right;\n",
       "    }\n",
       "</style>\n",
       "<table border=\"1\" class=\"dataframe\">\n",
       "  <thead>\n",
       "    <tr style=\"text-align: right;\">\n",
       "      <th></th>\n",
       "      <th>Price</th>\n",
       "      <th>Levy</th>\n",
       "      <th>Manufacturer</th>\n",
       "      <th>Model</th>\n",
       "      <th>Prod. year</th>\n",
       "      <th>Category</th>\n",
       "      <th>Leather interior</th>\n",
       "      <th>Fuel type</th>\n",
       "      <th>Engine volume</th>\n",
       "      <th>Mileage</th>\n",
       "      <th>Cylinders</th>\n",
       "      <th>Gear box type</th>\n",
       "      <th>Drive wheels</th>\n",
       "      <th>Doors</th>\n",
       "      <th>Wheel</th>\n",
       "      <th>Color</th>\n",
       "      <th>Airbags</th>\n",
       "    </tr>\n",
       "  </thead>\n",
       "  <tbody>\n",
       "    <tr>\n",
       "      <th>0</th>\n",
       "      <td>13328</td>\n",
       "      <td>1399</td>\n",
       "      <td>LEXUS</td>\n",
       "      <td>RX 450</td>\n",
       "      <td>2010</td>\n",
       "      <td>Jeep</td>\n",
       "      <td>1</td>\n",
       "      <td>Hybrid</td>\n",
       "      <td>3.5</td>\n",
       "      <td>186005</td>\n",
       "      <td>6.0</td>\n",
       "      <td>Automatic</td>\n",
       "      <td>4x4</td>\n",
       "      <td>04-May</td>\n",
       "      <td>Left wheel</td>\n",
       "      <td>Silver</td>\n",
       "      <td>12</td>\n",
       "    </tr>\n",
       "    <tr>\n",
       "      <th>1</th>\n",
       "      <td>16621</td>\n",
       "      <td>1018</td>\n",
       "      <td>CHEVROLET</td>\n",
       "      <td>Equinox</td>\n",
       "      <td>2011</td>\n",
       "      <td>Jeep</td>\n",
       "      <td>0</td>\n",
       "      <td>Petrol</td>\n",
       "      <td>3</td>\n",
       "      <td>192000</td>\n",
       "      <td>6.0</td>\n",
       "      <td>Tiptronic</td>\n",
       "      <td>4x4</td>\n",
       "      <td>04-May</td>\n",
       "      <td>Left wheel</td>\n",
       "      <td>Black</td>\n",
       "      <td>8</td>\n",
       "    </tr>\n",
       "    <tr>\n",
       "      <th>2</th>\n",
       "      <td>8467</td>\n",
       "      <td>0</td>\n",
       "      <td>HONDA</td>\n",
       "      <td>FIT</td>\n",
       "      <td>2006</td>\n",
       "      <td>Hatchback</td>\n",
       "      <td>0</td>\n",
       "      <td>Petrol</td>\n",
       "      <td>1.3</td>\n",
       "      <td>200000</td>\n",
       "      <td>4.0</td>\n",
       "      <td>Variator</td>\n",
       "      <td>Front</td>\n",
       "      <td>04-May</td>\n",
       "      <td>Right-hand drive</td>\n",
       "      <td>Black</td>\n",
       "      <td>2</td>\n",
       "    </tr>\n",
       "    <tr>\n",
       "      <th>3</th>\n",
       "      <td>3607</td>\n",
       "      <td>862</td>\n",
       "      <td>FORD</td>\n",
       "      <td>Escape</td>\n",
       "      <td>2011</td>\n",
       "      <td>Jeep</td>\n",
       "      <td>1</td>\n",
       "      <td>Hybrid</td>\n",
       "      <td>2.5</td>\n",
       "      <td>168966</td>\n",
       "      <td>4.0</td>\n",
       "      <td>Automatic</td>\n",
       "      <td>4x4</td>\n",
       "      <td>04-May</td>\n",
       "      <td>Left wheel</td>\n",
       "      <td>White</td>\n",
       "      <td>0</td>\n",
       "    </tr>\n",
       "  </tbody>\n",
       "</table>\n",
       "</div>"
      ],
      "text/plain": [
       "   Price  Levy Manufacturer    Model  Prod. year   Category  Leather interior  \\\n",
       "0  13328  1399        LEXUS   RX 450        2010       Jeep                 1   \n",
       "1  16621  1018    CHEVROLET  Equinox        2011       Jeep                 0   \n",
       "2   8467     0        HONDA      FIT        2006  Hatchback                 0   \n",
       "3   3607   862         FORD   Escape        2011       Jeep                 1   \n",
       "\n",
       "  Fuel type Engine volume  Mileage  Cylinders Gear box type Drive wheels  \\\n",
       "0    Hybrid           3.5   186005        6.0     Automatic          4x4   \n",
       "1    Petrol             3   192000        6.0     Tiptronic          4x4   \n",
       "2    Petrol           1.3   200000        4.0      Variator        Front   \n",
       "3    Hybrid           2.5   168966        4.0     Automatic          4x4   \n",
       "\n",
       "    Doors             Wheel   Color  Airbags  \n",
       "0  04-May        Left wheel  Silver       12  \n",
       "1  04-May        Left wheel   Black        8  \n",
       "2  04-May  Right-hand drive   Black        2  \n",
       "3  04-May        Left wheel   White        0  "
      ]
     },
     "execution_count": 28,
     "metadata": {},
     "output_type": "execute_result"
    }
   ],
   "source": [
    "df.head(4)"
   ]
  },
  {
   "cell_type": "code",
   "execution_count": 29,
   "id": "116a6c50",
   "metadata": {
    "execution": {
     "iopub.execute_input": "2022-10-14T10:00:29.352116Z",
     "iopub.status.busy": "2022-10-14T10:00:29.351745Z",
     "iopub.status.idle": "2022-10-14T10:00:29.364673Z",
     "shell.execute_reply": "2022-10-14T10:00:29.363598Z",
     "shell.execute_reply.started": "2022-10-14T10:00:29.352084Z"
    },
    "papermill": {
     "duration": 0.033287,
     "end_time": "2022-10-06T12:05:51.689204",
     "exception": false,
     "start_time": "2022-10-06T12:05:51.655917",
     "status": "completed"
    },
    "tags": []
   },
   "outputs": [
    {
     "data": {
      "text/plain": [
       "['Manufacturer',\n",
       " 'Model',\n",
       " 'Category',\n",
       " 'Fuel type',\n",
       " 'Engine volume',\n",
       " 'Gear box type',\n",
       " 'Drive wheels',\n",
       " 'Doors',\n",
       " 'Wheel',\n",
       " 'Color']"
      ]
     },
     "execution_count": 29,
     "metadata": {},
     "output_type": "execute_result"
    }
   ],
   "source": [
    "cat_columns = [col for col in df.columns if df[col].dtype==\"O\"]\n",
    "cat_columns"
   ]
  },
  {
   "cell_type": "code",
   "execution_count": 30,
   "id": "d2374595",
   "metadata": {
    "execution": {
     "iopub.execute_input": "2022-10-14T10:00:29.366967Z",
     "iopub.status.busy": "2022-10-14T10:00:29.366359Z",
     "iopub.status.idle": "2022-10-14T10:00:29.397971Z",
     "shell.execute_reply": "2022-10-14T10:00:29.396926Z",
     "shell.execute_reply.started": "2022-10-14T10:00:29.366910Z"
    }
   },
   "outputs": [
    {
     "name": "stdout",
     "output_type": "stream",
     "text": [
      "True for Manufacturer\n",
      "\n",
      "True for Model\n",
      "\n",
      "True for Category\n",
      "\n",
      "True for Fuel type\n",
      "\n",
      "True for Engine volume\n",
      "\n",
      "True for Gear box type\n",
      "\n",
      "True for Drive wheels\n",
      "\n",
      "True for Doors\n",
      "\n",
      "False for Wheel\n",
      "\n",
      "True for Color\n",
      "\n"
     ]
    }
   ],
   "source": [
    "for col in df[cat_columns]:\n",
    "    changeable_column = len(df[col].value_counts()) > 2 \n",
    "    print(f\"{changeable_column} for {col}\\n\")"
   ]
  },
  {
   "cell_type": "code",
   "execution_count": 31,
   "id": "b89a8d64",
   "metadata": {
    "execution": {
     "iopub.execute_input": "2022-10-14T10:00:29.399848Z",
     "iopub.status.busy": "2022-10-14T10:00:29.399302Z",
     "iopub.status.idle": "2022-10-14T10:00:29.409393Z",
     "shell.execute_reply": "2022-10-14T10:00:29.407755Z",
     "shell.execute_reply.started": "2022-10-14T10:00:29.399815Z"
    }
   },
   "outputs": [
    {
     "data": {
      "text/plain": [
       "Left wheel          17471\n",
       "Right-hand drive     1453\n",
       "Name: Wheel, dtype: int64"
      ]
     },
     "execution_count": 31,
     "metadata": {},
     "output_type": "execute_result"
    }
   ],
   "source": [
    "df[\"Wheel\"].value_counts()"
   ]
  },
  {
   "cell_type": "code",
   "execution_count": 32,
   "id": "00f956fb",
   "metadata": {
    "execution": {
     "iopub.execute_input": "2022-10-14T10:00:29.411813Z",
     "iopub.status.busy": "2022-10-14T10:00:29.410891Z",
     "iopub.status.idle": "2022-10-14T10:00:29.424659Z",
     "shell.execute_reply": "2022-10-14T10:00:29.423035Z",
     "shell.execute_reply.started": "2022-10-14T10:00:29.411766Z"
    }
   },
   "outputs": [],
   "source": [
    "df[\"Wheel\"] = df[\"Wheel\"].replace({\"Left wheel\": \"0\", \"Right-hand drive\": \"1\"})"
   ]
  },
  {
   "cell_type": "code",
   "execution_count": 33,
   "id": "31430485",
   "metadata": {
    "execution": {
     "iopub.execute_input": "2022-10-14T10:00:29.427374Z",
     "iopub.status.busy": "2022-10-14T10:00:29.426911Z",
     "iopub.status.idle": "2022-10-14T10:00:29.437193Z",
     "shell.execute_reply": "2022-10-14T10:00:29.435860Z",
     "shell.execute_reply.started": "2022-10-14T10:00:29.427324Z"
    }
   },
   "outputs": [],
   "source": [
    "df[\"Wheel\"] = df[\"Wheel\"].astype(\"int64\")"
   ]
  },
  {
   "cell_type": "code",
   "execution_count": 34,
   "id": "18d0dbf2",
   "metadata": {
    "execution": {
     "iopub.execute_input": "2022-10-14T10:00:29.439395Z",
     "iopub.status.busy": "2022-10-14T10:00:29.438832Z",
     "iopub.status.idle": "2022-10-14T10:00:29.465760Z",
     "shell.execute_reply": "2022-10-14T10:00:29.464482Z",
     "shell.execute_reply.started": "2022-10-14T10:00:29.439356Z"
    }
   },
   "outputs": [
    {
     "name": "stdout",
     "output_type": "stream",
     "text": [
      "<class 'pandas.core.frame.DataFrame'>\n",
      "Int64Index: 18924 entries, 0 to 19236\n",
      "Data columns (total 17 columns):\n",
      " #   Column            Non-Null Count  Dtype  \n",
      "---  ------            --------------  -----  \n",
      " 0   Price             18924 non-null  int64  \n",
      " 1   Levy              18924 non-null  int64  \n",
      " 2   Manufacturer      18924 non-null  object \n",
      " 3   Model             18924 non-null  object \n",
      " 4   Prod. year        18924 non-null  int64  \n",
      " 5   Category          18924 non-null  object \n",
      " 6   Leather interior  18924 non-null  int64  \n",
      " 7   Fuel type         18924 non-null  object \n",
      " 8   Engine volume     18924 non-null  object \n",
      " 9   Mileage           18924 non-null  int64  \n",
      " 10  Cylinders         18924 non-null  float64\n",
      " 11  Gear box type     18924 non-null  object \n",
      " 12  Drive wheels      18924 non-null  object \n",
      " 13  Doors             18924 non-null  object \n",
      " 14  Wheel             18924 non-null  int64  \n",
      " 15  Color             18924 non-null  object \n",
      " 16  Airbags           18924 non-null  int64  \n",
      "dtypes: float64(1), int64(7), object(9)\n",
      "memory usage: 2.6+ MB\n"
     ]
    }
   ],
   "source": [
    "df.info()"
   ]
  },
  {
   "cell_type": "code",
   "execution_count": 35,
   "id": "ddb0d55f",
   "metadata": {
    "execution": {
     "iopub.execute_input": "2022-10-14T10:00:29.468280Z",
     "iopub.status.busy": "2022-10-14T10:00:29.467408Z",
     "iopub.status.idle": "2022-10-14T10:00:29.489714Z",
     "shell.execute_reply": "2022-10-14T10:00:29.488385Z",
     "shell.execute_reply.started": "2022-10-14T10:00:29.468243Z"
    }
   },
   "outputs": [
    {
     "data": {
      "text/html": [
       "<div>\n",
       "<style scoped>\n",
       "    .dataframe tbody tr th:only-of-type {\n",
       "        vertical-align: middle;\n",
       "    }\n",
       "\n",
       "    .dataframe tbody tr th {\n",
       "        vertical-align: top;\n",
       "    }\n",
       "\n",
       "    .dataframe thead th {\n",
       "        text-align: right;\n",
       "    }\n",
       "</style>\n",
       "<table border=\"1\" class=\"dataframe\">\n",
       "  <thead>\n",
       "    <tr style=\"text-align: right;\">\n",
       "      <th></th>\n",
       "      <th>Price</th>\n",
       "      <th>Levy</th>\n",
       "      <th>Manufacturer</th>\n",
       "      <th>Model</th>\n",
       "      <th>Prod. year</th>\n",
       "      <th>Category</th>\n",
       "      <th>Leather interior</th>\n",
       "      <th>Fuel type</th>\n",
       "      <th>Engine volume</th>\n",
       "      <th>Mileage</th>\n",
       "      <th>Cylinders</th>\n",
       "      <th>Gear box type</th>\n",
       "      <th>Drive wheels</th>\n",
       "      <th>Doors</th>\n",
       "      <th>Wheel</th>\n",
       "      <th>Color</th>\n",
       "      <th>Airbags</th>\n",
       "    </tr>\n",
       "  </thead>\n",
       "  <tbody>\n",
       "    <tr>\n",
       "      <th>0</th>\n",
       "      <td>13328</td>\n",
       "      <td>1399</td>\n",
       "      <td>LEXUS</td>\n",
       "      <td>RX 450</td>\n",
       "      <td>2010</td>\n",
       "      <td>Jeep</td>\n",
       "      <td>1</td>\n",
       "      <td>Hybrid</td>\n",
       "      <td>3.5</td>\n",
       "      <td>186005</td>\n",
       "      <td>6.0</td>\n",
       "      <td>Automatic</td>\n",
       "      <td>4x4</td>\n",
       "      <td>04-May</td>\n",
       "      <td>0</td>\n",
       "      <td>Silver</td>\n",
       "      <td>12</td>\n",
       "    </tr>\n",
       "    <tr>\n",
       "      <th>1</th>\n",
       "      <td>16621</td>\n",
       "      <td>1018</td>\n",
       "      <td>CHEVROLET</td>\n",
       "      <td>Equinox</td>\n",
       "      <td>2011</td>\n",
       "      <td>Jeep</td>\n",
       "      <td>0</td>\n",
       "      <td>Petrol</td>\n",
       "      <td>3</td>\n",
       "      <td>192000</td>\n",
       "      <td>6.0</td>\n",
       "      <td>Tiptronic</td>\n",
       "      <td>4x4</td>\n",
       "      <td>04-May</td>\n",
       "      <td>0</td>\n",
       "      <td>Black</td>\n",
       "      <td>8</td>\n",
       "    </tr>\n",
       "    <tr>\n",
       "      <th>2</th>\n",
       "      <td>8467</td>\n",
       "      <td>0</td>\n",
       "      <td>HONDA</td>\n",
       "      <td>FIT</td>\n",
       "      <td>2006</td>\n",
       "      <td>Hatchback</td>\n",
       "      <td>0</td>\n",
       "      <td>Petrol</td>\n",
       "      <td>1.3</td>\n",
       "      <td>200000</td>\n",
       "      <td>4.0</td>\n",
       "      <td>Variator</td>\n",
       "      <td>Front</td>\n",
       "      <td>04-May</td>\n",
       "      <td>1</td>\n",
       "      <td>Black</td>\n",
       "      <td>2</td>\n",
       "    </tr>\n",
       "    <tr>\n",
       "      <th>3</th>\n",
       "      <td>3607</td>\n",
       "      <td>862</td>\n",
       "      <td>FORD</td>\n",
       "      <td>Escape</td>\n",
       "      <td>2011</td>\n",
       "      <td>Jeep</td>\n",
       "      <td>1</td>\n",
       "      <td>Hybrid</td>\n",
       "      <td>2.5</td>\n",
       "      <td>168966</td>\n",
       "      <td>4.0</td>\n",
       "      <td>Automatic</td>\n",
       "      <td>4x4</td>\n",
       "      <td>04-May</td>\n",
       "      <td>0</td>\n",
       "      <td>White</td>\n",
       "      <td>0</td>\n",
       "    </tr>\n",
       "  </tbody>\n",
       "</table>\n",
       "</div>"
      ],
      "text/plain": [
       "   Price  Levy Manufacturer    Model  Prod. year   Category  Leather interior  \\\n",
       "0  13328  1399        LEXUS   RX 450        2010       Jeep                 1   \n",
       "1  16621  1018    CHEVROLET  Equinox        2011       Jeep                 0   \n",
       "2   8467     0        HONDA      FIT        2006  Hatchback                 0   \n",
       "3   3607   862         FORD   Escape        2011       Jeep                 1   \n",
       "\n",
       "  Fuel type Engine volume  Mileage  Cylinders Gear box type Drive wheels  \\\n",
       "0    Hybrid           3.5   186005        6.0     Automatic          4x4   \n",
       "1    Petrol             3   192000        6.0     Tiptronic          4x4   \n",
       "2    Petrol           1.3   200000        4.0      Variator        Front   \n",
       "3    Hybrid           2.5   168966        4.0     Automatic          4x4   \n",
       "\n",
       "    Doors  Wheel   Color  Airbags  \n",
       "0  04-May      0  Silver       12  \n",
       "1  04-May      0   Black        8  \n",
       "2  04-May      1   Black        2  \n",
       "3  04-May      0   White        0  "
      ]
     },
     "execution_count": 35,
     "metadata": {},
     "output_type": "execute_result"
    }
   ],
   "source": [
    "df.head(4)"
   ]
  },
  {
   "cell_type": "code",
   "execution_count": 36,
   "id": "fb010239",
   "metadata": {
    "execution": {
     "iopub.execute_input": "2022-10-14T10:00:29.492286Z",
     "iopub.status.busy": "2022-10-14T10:00:29.491778Z",
     "iopub.status.idle": "2022-10-14T10:03:21.566094Z",
     "shell.execute_reply": "2022-10-14T10:03:21.564820Z",
     "shell.execute_reply.started": "2022-10-14T10:00:29.492239Z"
    }
   },
   "outputs": [
    {
     "data": {
      "image/png": "[encoded data removed]",
      "text/plain": [
       "<Figure size 720x720 with 1 Axes>"
      ]
     },
     "metadata": {
      "needs_background": "light"
     },
     "output_type": "display_data"
    },
    {
     "data": {
      "image/png": "[encoded data removed]",
      "text/plain": [
       "<Figure size 720x720 with 1 Axes>"
      ]
     },
     "metadata": {
      "needs_background": "light"
     },
     "output_type": "display_data"
    },
    {
     "data": {
      "image/png": "[encoded data removed]",
      "text/plain": [
       "<Figure size 720x720 with 1 Axes>"
      ]
     },
     "metadata": {
      "needs_background": "light"
     },
     "output_type": "display_data"
    },
    {
     "data": {
      "image/png": "[encoded data removed]",
      "text/plain": [
       "<Figure size 720x720 with 1 Axes>"
      ]
     },
     "metadata": {
      "needs_background": "light"
     },
     "output_type": "display_data"
    },
    {
     "data": {
      "image/png": "[encoded data removed]",
      "text/plain": [
       "<Figure size 720x720 with 1 Axes>"
      ]
     },
     "metadata": {
      "needs_background": "light"
     },
     "output_type": "display_data"
    },
    {
     "data": {
      "image/png": "[encoded data removed]",
      "text/plain": [
       "<Figure size 720x720 with 1 Axes>"
      ]
     },
     "metadata": {
      "needs_background": "light"
     },
     "output_type": "display_data"
    },
    {
     "data": {
      "image/png": "[encoded data removed]",
      "text/plain": [
       "<Figure size 720x720 with 1 Axes>"
      ]
     },
     "metadata": {
      "needs_background": "light"
     },
     "output_type": "display_data"
    },
    {
     "data": {
      "image/png": "[encoded data removed]",
      "text/plain": [
       "<Figure size 720x720 with 1 Axes>"
      ]
     },
     "metadata": {
      "needs_background": "light"
     },
     "output_type": "display_data"
    },
    {
     "data": {
      "image/png": "[encoded data removed]",
      "text/plain": [
       "<Figure size 720x720 with 1 Axes>"
      ]
     },
     "metadata": {
      "needs_background": "light"
     },
     "output_type": "display_data"
    },
    {
     "data": {
      "image/png": "[encoded data removed]",
      "text/plain": [
       "<Figure size 720x720 with 1 Axes>"
      ]
     },
     "metadata": {
      "needs_background": "light"
     },
     "output_type": "display_data"
    },
    {
     "data": {
      "image/png": "[encoded data removed]",
      "text/plain": [
       "<Figure size 720x720 with 1 Axes>"
      ]
     },
     "metadata": {
      "needs_background": "light"
     },
     "output_type": "display_data"
    },
    {
     "data": {
      "image/png": "[encoded data removed]",
      "text/plain": [
       "<Figure size 720x720 with 1 Axes>"
      ]
     },
     "metadata": {
      "needs_background": "light"
     },
     "output_type": "display_data"
    },
    {
     "data": {
      "image/png": "[encoded data removed]",
      "text/plain": [
       "<Figure size 720x720 with 1 Axes>"
      ]
     },
     "metadata": {
      "needs_background": "light"
     },
     "output_type": "display_data"
    },
    {
     "data": {
      "image/png": "[encoded data removed]",
      "text/plain": [
       "<Figure size 720x720 with 1 Axes>"
      ]
     },
     "metadata": {
      "needs_background": "light"
     },
     "output_type": "display_data"
    },
    {
     "data": {
      "image/png": "[encoded data removed]",
      "text/plain": [
       "<Figure size 720x720 with 1 Axes>"
      ]
     },
     "metadata": {
      "needs_background": "light"
     },
     "output_type": "display_data"
    },
    {
     "data": {
      "image/png": "[encoded data removed]",
      "text/plain": [
       "<Figure size 720x720 with 1 Axes>"
      ]
     },
     "metadata": {
      "needs_background": "light"
     },
     "output_type": "display_data"
    },
    {
     "data": {
      "image/png": "[encoded data removed]",
      "text/plain": [
       "<Figure size 720x720 with 1 Axes>"
      ]
     },
     "metadata": {
      "needs_background": "light"
     },
     "output_type": "display_data"
    }
   ],
   "source": [
    "for col in df.columns:\n",
    "    plt.figure(figsize=(10,10))\n",
    "    sns.countplot(data=df, x=df[col])"
   ]
  },
  {
   "cell_type": "markdown",
   "id": "37e5af9d",
   "metadata": {},
   "source": [
    "# Checking for outliers in our data"
   ]
  },
  {
   "cell_type": "code",
   "execution_count": 37,
   "id": "889ce71e",
   "metadata": {
    "execution": {
     "iopub.execute_input": "2022-10-14T10:03:21.569331Z",
     "iopub.status.busy": "2022-10-14T10:03:21.568411Z",
     "iopub.status.idle": "2022-10-14T10:03:21.578217Z",
     "shell.execute_reply": "2022-10-14T10:03:21.577017Z",
     "shell.execute_reply.started": "2022-10-14T10:03:21.569281Z"
    }
   },
   "outputs": [
    {
     "data": {
      "text/plain": [
       "['Price',\n",
       " 'Levy',\n",
       " 'Prod. year',\n",
       " 'Leather interior',\n",
       " 'Mileage',\n",
       " 'Wheel',\n",
       " 'Airbags']"
      ]
     },
     "execution_count": 37,
     "metadata": {},
     "output_type": "execute_result"
    }
   ],
   "source": [
    "numerical_columns = [col for col in df.columns if df[col].dtype=='int64']\n",
    "numerical_columns"
   ]
  },
  {
   "cell_type": "code",
   "execution_count": 38,
   "id": "7fe74e5f",
   "metadata": {
    "execution": {
     "iopub.execute_input": "2022-10-14T10:03:21.580103Z",
     "iopub.status.busy": "2022-10-14T10:03:21.579666Z",
     "iopub.status.idle": "2022-10-14T10:03:23.298522Z",
     "shell.execute_reply": "2022-10-14T10:03:23.297116Z",
     "shell.execute_reply.started": "2022-10-14T10:03:21.580057Z"
    },
    "scrolled": true
   },
   "outputs": [
    {
     "data": {
      "image/png": "[encoded data removed]",
      "text/plain": [
       "<Figure size 720x576 with 1 Axes>"
      ]
     },
     "metadata": {
      "needs_background": "light"
     },
     "output_type": "display_data"
    },
    {
     "data": {
      "image/png": "[encoded data removed]",
      "text/plain": [
       "<Figure size 720x576 with 1 Axes>"
      ]
     },
     "metadata": {},
     "output_type": "display_data"
    },
    {
     "data": {
      "image/png": "[encoded data removed]",
      "text/plain": [
       "<Figure size 720x576 with 1 Axes>"
      ]
     },
     "metadata": {},
     "output_type": "display_data"
    },
    {
     "data": {
      "image/png": "[encoded data removed]",
      "text/plain": [
       "<Figure size 720x576 with 1 Axes>"
      ]
     },
     "metadata": {},
     "output_type": "display_data"
    },
    {
     "data": {
      "image/png": "[encoded data removed]",
      "text/plain": [
       "<Figure size 720x576 with 1 Axes>"
      ]
     },
     "metadata": {},
     "output_type": "display_data"
    },
    {
     "data": {
      "image/png": "[encoded data removed]",
      "text/plain": [
       "<Figure size 720x576 with 1 Axes>"
      ]
     },
     "metadata": {},
     "output_type": "display_data"
    },
    {
     "data": {
      "image/png": "[encoded data removed]",
      "text/plain": [
       "<Figure size 720x576 with 1 Axes>"
      ]
     },
     "metadata": {},
     "output_type": "display_data"
    }
   ],
   "source": [
    "for col in df[numerical_columns]:\n",
    "    plt.figure(figsize=(10,8))\n",
    "    sns.set_style(\"darkgrid\")\n",
    "    sns.boxplot(x=df[col])"
   ]
  },
  {
   "cell_type": "markdown",
   "id": "290f2fac",
   "metadata": {},
   "source": [
    "Taking closer look at the target value `\"Price\"`"
   ]
  },
  {
   "cell_type": "code",
   "execution_count": 39,
   "id": "7cedfc0f",
   "metadata": {
    "execution": {
     "iopub.execute_input": "2022-10-14T10:03:23.301999Z",
     "iopub.status.busy": "2022-10-14T10:03:23.301027Z",
     "iopub.status.idle": "2022-10-14T10:03:23.559468Z",
     "shell.execute_reply": "2022-10-14T10:03:23.558093Z",
     "shell.execute_reply.started": "2022-10-14T10:03:23.301929Z"
    },
    "scrolled": true
   },
   "outputs": [
    {
     "data": {
      "text/plain": [
       "<AxesSubplot:xlabel='Price'>"
      ]
     },
     "execution_count": 39,
     "metadata": {},
     "output_type": "execute_result"
    },
    {
     "data": {
      "image/png": "[encoded data removed]",
      "text/plain": [
       "<Figure size 720x432 with 1 Axes>"
      ]
     },
     "metadata": {},
     "output_type": "display_data"
    }
   ],
   "source": [
    "plt.figure(figsize=(10,6))\n",
    "sns.set_style(\"whitegrid\")\n",
    "sns.boxplot(x=df[\"Price\"])"
   ]
  },
  {
   "cell_type": "code",
   "execution_count": 40,
   "id": "8532db5d",
   "metadata": {
    "execution": {
     "iopub.execute_input": "2022-10-14T10:03:23.562366Z",
     "iopub.status.busy": "2022-10-14T10:03:23.561418Z",
     "iopub.status.idle": "2022-10-14T10:03:23.583295Z",
     "shell.execute_reply": "2022-10-14T10:03:23.581993Z",
     "shell.execute_reply.started": "2022-10-14T10:03:23.562317Z"
    },
    "scrolled": true
   },
   "outputs": [
    {
     "data": {
      "text/html": [
       "<div>\n",
       "<style scoped>\n",
       "    .dataframe tbody tr th:only-of-type {\n",
       "        vertical-align: middle;\n",
       "    }\n",
       "\n",
       "    .dataframe tbody tr th {\n",
       "        vertical-align: top;\n",
       "    }\n",
       "\n",
       "    .dataframe thead th {\n",
       "        text-align: right;\n",
       "    }\n",
       "</style>\n",
       "<table border=\"1\" class=\"dataframe\">\n",
       "  <thead>\n",
       "    <tr style=\"text-align: right;\">\n",
       "      <th></th>\n",
       "      <th>Price</th>\n",
       "      <th>Levy</th>\n",
       "      <th>Manufacturer</th>\n",
       "      <th>Model</th>\n",
       "      <th>Prod. year</th>\n",
       "      <th>Category</th>\n",
       "      <th>Leather interior</th>\n",
       "      <th>Fuel type</th>\n",
       "      <th>Engine volume</th>\n",
       "      <th>Mileage</th>\n",
       "      <th>Cylinders</th>\n",
       "      <th>Gear box type</th>\n",
       "      <th>Drive wheels</th>\n",
       "      <th>Doors</th>\n",
       "      <th>Wheel</th>\n",
       "      <th>Color</th>\n",
       "      <th>Airbags</th>\n",
       "    </tr>\n",
       "  </thead>\n",
       "  <tbody>\n",
       "    <tr>\n",
       "      <th>16983</th>\n",
       "      <td>26307500</td>\n",
       "      <td>0</td>\n",
       "      <td>OPEL</td>\n",
       "      <td>Combo</td>\n",
       "      <td>1999</td>\n",
       "      <td>Goods wagon</td>\n",
       "      <td>0</td>\n",
       "      <td>Diesel</td>\n",
       "      <td>1.7</td>\n",
       "      <td>99999</td>\n",
       "      <td>4.0</td>\n",
       "      <td>Manual</td>\n",
       "      <td>Front</td>\n",
       "      <td>02-Mar</td>\n",
       "      <td>0</td>\n",
       "      <td>Blue</td>\n",
       "      <td>0</td>\n",
       "    </tr>\n",
       "  </tbody>\n",
       "</table>\n",
       "</div>"
      ],
      "text/plain": [
       "          Price  Levy Manufacturer  Model  Prod. year     Category  \\\n",
       "16983  26307500     0         OPEL  Combo        1999  Goods wagon   \n",
       "\n",
       "       Leather interior Fuel type Engine volume  Mileage  Cylinders  \\\n",
       "16983                 0    Diesel           1.7    99999        4.0   \n",
       "\n",
       "      Gear box type Drive wheels   Doors  Wheel Color  Airbags  \n",
       "16983        Manual        Front  02-Mar      0  Blue        0  "
      ]
     },
     "execution_count": 40,
     "metadata": {},
     "output_type": "execute_result"
    }
   ],
   "source": [
    "df.loc[df['Price']>=1000000]"
   ]
  },
  {
   "cell_type": "markdown",
   "id": "55404bc7",
   "metadata": {},
   "source": [
    "So I actually checked for **\"OPEL Comon 1999\"** and realized this must have been an error in the input. \n",
    "There are better ways to check for outliers anyways, and one of them is by using the interquartile range."
   ]
  },
  {
   "cell_type": "code",
   "execution_count": 41,
   "id": "a46bec44",
   "metadata": {
    "execution": {
     "iopub.execute_input": "2022-10-14T10:03:23.585823Z",
     "iopub.status.busy": "2022-10-14T10:03:23.585001Z",
     "iopub.status.idle": "2022-10-14T10:03:23.616655Z",
     "shell.execute_reply": "2022-10-14T10:03:23.615458Z",
     "shell.execute_reply.started": "2022-10-14T10:03:23.585771Z"
    },
    "scrolled": true
   },
   "outputs": [
    {
     "data": {
      "text/plain": [
       "['Price', 'Levy', 'Model', 'Mileage']"
      ]
     },
     "execution_count": 41,
     "metadata": {},
     "output_type": "execute_result"
    }
   ],
   "source": [
    "outlier = [col for col in df.columns if len(df[col].unique())>200]\n",
    "outlier"
   ]
  },
  {
   "cell_type": "code",
   "execution_count": 42,
   "id": "a9b62ed7",
   "metadata": {
    "execution": {
     "iopub.execute_input": "2022-10-14T10:03:23.619428Z",
     "iopub.status.busy": "2022-10-14T10:03:23.618725Z",
     "iopub.status.idle": "2022-10-14T10:03:23.934835Z",
     "shell.execute_reply": "2022-10-14T10:03:23.933636Z",
     "shell.execute_reply.started": "2022-10-14T10:03:23.619378Z"
    },
    "scrolled": true
   },
   "outputs": [
    {
     "data": {
      "text/plain": [
       "<AxesSubplot:>"
      ]
     },
     "execution_count": 42,
     "metadata": {},
     "output_type": "execute_result"
    },
    {
     "data": {
      "image/png": "[encoded data removed]",
      "text/plain": [
       "<Figure size 1080x432 with 1 Axes>"
      ]
     },
     "metadata": {},
     "output_type": "display_data"
    }
   ],
   "source": [
    "df[['Price', 'Levy', 'Model', 'Mileage']].boxplot(figsize=(15,6))"
   ]
  },
  {
   "cell_type": "code",
   "execution_count": 43,
   "id": "958fdc5b",
   "metadata": {
    "execution": {
     "iopub.execute_input": "2022-10-14T10:03:23.936992Z",
     "iopub.status.busy": "2022-10-14T10:03:23.936501Z",
     "iopub.status.idle": "2022-10-14T10:03:23.956671Z",
     "shell.execute_reply": "2022-10-14T10:03:23.955679Z",
     "shell.execute_reply.started": "2022-10-14T10:03:23.936923Z"
    }
   },
   "outputs": [
    {
     "data": {
      "text/plain": [
       "Price       16732.0\n",
       "Levy          917.0\n",
       "Mileage    118924.0\n",
       "dtype: float64"
      ]
     },
     "execution_count": 43,
     "metadata": {},
     "output_type": "execute_result"
    }
   ],
   "source": [
    "Q1 = df[outlier].quantile(0.25)\n",
    "Q3 = df[outlier].quantile(0.75)\n",
    "IQR = Q3 - Q1\n",
    "IQR"
   ]
  },
  {
   "cell_type": "code",
   "execution_count": 44,
   "id": "46ca2b70",
   "metadata": {
    "execution": {
     "iopub.execute_input": "2022-10-14T10:03:23.959268Z",
     "iopub.status.busy": "2022-10-14T10:03:23.958430Z",
     "iopub.status.idle": "2022-10-14T10:03:24.014207Z",
     "shell.execute_reply": "2022-10-14T10:03:24.013102Z",
     "shell.execute_reply.started": "2022-10-14T10:03:23.959211Z"
    },
    "scrolled": true
   },
   "outputs": [
    {
     "name": "stderr",
     "output_type": "stream",
     "text": [
      "/opt/conda/lib/python3.7/site-packages/ipykernel_launcher.py:1: FutureWarning: Automatic reindexing on DataFrame vs Series comparisons is deprecated and will raise ValueError in a future version.  Do `left, right = left.align(right, axis=1, copy=False)` before e.g. `left == right`\n",
      "  \"\"\"Entry point for launching an IPython kernel.\n"
     ]
    }
   ],
   "source": [
    "df = df[~((df<(Q1-1.5*IQR))|(df>(Q3+1.5*IQR))).any(axis=1)]"
   ]
  },
  {
   "cell_type": "code",
   "execution_count": 45,
   "id": "7af255bb",
   "metadata": {
    "execution": {
     "iopub.execute_input": "2022-10-14T10:03:24.016871Z",
     "iopub.status.busy": "2022-10-14T10:03:24.016053Z",
     "iopub.status.idle": "2022-10-14T10:03:24.025207Z",
     "shell.execute_reply": "2022-10-14T10:03:24.023668Z",
     "shell.execute_reply.started": "2022-10-14T10:03:24.016823Z"
    }
   },
   "outputs": [
    {
     "data": {
      "text/plain": [
       "17090"
      ]
     },
     "execution_count": 45,
     "metadata": {},
     "output_type": "execute_result"
    }
   ],
   "source": [
    "len(df)"
   ]
  },
  {
   "cell_type": "code",
   "execution_count": 46,
   "id": "7044e858",
   "metadata": {
    "execution": {
     "iopub.execute_input": "2022-10-14T10:03:24.027744Z",
     "iopub.status.busy": "2022-10-14T10:03:24.026919Z",
     "iopub.status.idle": "2022-10-14T10:03:24.050691Z",
     "shell.execute_reply": "2022-10-14T10:03:24.049566Z",
     "shell.execute_reply.started": "2022-10-14T10:03:24.027694Z"
    }
   },
   "outputs": [
    {
     "data": {
      "text/html": [
       "<div>\n",
       "<style scoped>\n",
       "    .dataframe tbody tr th:only-of-type {\n",
       "        vertical-align: middle;\n",
       "    }\n",
       "\n",
       "    .dataframe tbody tr th {\n",
       "        vertical-align: top;\n",
       "    }\n",
       "\n",
       "    .dataframe thead th {\n",
       "        text-align: right;\n",
       "    }\n",
       "</style>\n",
       "<table border=\"1\" class=\"dataframe\">\n",
       "  <thead>\n",
       "    <tr style=\"text-align: right;\">\n",
       "      <th></th>\n",
       "      <th>Price</th>\n",
       "      <th>Levy</th>\n",
       "      <th>Manufacturer</th>\n",
       "      <th>Model</th>\n",
       "      <th>Prod. year</th>\n",
       "      <th>Category</th>\n",
       "      <th>Leather interior</th>\n",
       "      <th>Fuel type</th>\n",
       "      <th>Engine volume</th>\n",
       "      <th>Mileage</th>\n",
       "      <th>Cylinders</th>\n",
       "      <th>Gear box type</th>\n",
       "      <th>Drive wheels</th>\n",
       "      <th>Doors</th>\n",
       "      <th>Wheel</th>\n",
       "      <th>Color</th>\n",
       "      <th>Airbags</th>\n",
       "    </tr>\n",
       "  </thead>\n",
       "  <tbody>\n",
       "    <tr>\n",
       "      <th>0</th>\n",
       "      <td>13328</td>\n",
       "      <td>1399</td>\n",
       "      <td>LEXUS</td>\n",
       "      <td>RX 450</td>\n",
       "      <td>2010</td>\n",
       "      <td>Jeep</td>\n",
       "      <td>1</td>\n",
       "      <td>Hybrid</td>\n",
       "      <td>3.5</td>\n",
       "      <td>186005</td>\n",
       "      <td>6.0</td>\n",
       "      <td>Automatic</td>\n",
       "      <td>4x4</td>\n",
       "      <td>04-May</td>\n",
       "      <td>0</td>\n",
       "      <td>Silver</td>\n",
       "      <td>12</td>\n",
       "    </tr>\n",
       "    <tr>\n",
       "      <th>1</th>\n",
       "      <td>16621</td>\n",
       "      <td>1018</td>\n",
       "      <td>CHEVROLET</td>\n",
       "      <td>Equinox</td>\n",
       "      <td>2011</td>\n",
       "      <td>Jeep</td>\n",
       "      <td>0</td>\n",
       "      <td>Petrol</td>\n",
       "      <td>3</td>\n",
       "      <td>192000</td>\n",
       "      <td>6.0</td>\n",
       "      <td>Tiptronic</td>\n",
       "      <td>4x4</td>\n",
       "      <td>04-May</td>\n",
       "      <td>0</td>\n",
       "      <td>Black</td>\n",
       "      <td>8</td>\n",
       "    </tr>\n",
       "    <tr>\n",
       "      <th>2</th>\n",
       "      <td>8467</td>\n",
       "      <td>0</td>\n",
       "      <td>HONDA</td>\n",
       "      <td>FIT</td>\n",
       "      <td>2006</td>\n",
       "      <td>Hatchback</td>\n",
       "      <td>0</td>\n",
       "      <td>Petrol</td>\n",
       "      <td>1.3</td>\n",
       "      <td>200000</td>\n",
       "      <td>4.0</td>\n",
       "      <td>Variator</td>\n",
       "      <td>Front</td>\n",
       "      <td>04-May</td>\n",
       "      <td>1</td>\n",
       "      <td>Black</td>\n",
       "      <td>2</td>\n",
       "    </tr>\n",
       "    <tr>\n",
       "      <th>3</th>\n",
       "      <td>3607</td>\n",
       "      <td>862</td>\n",
       "      <td>FORD</td>\n",
       "      <td>Escape</td>\n",
       "      <td>2011</td>\n",
       "      <td>Jeep</td>\n",
       "      <td>1</td>\n",
       "      <td>Hybrid</td>\n",
       "      <td>2.5</td>\n",
       "      <td>168966</td>\n",
       "      <td>4.0</td>\n",
       "      <td>Automatic</td>\n",
       "      <td>4x4</td>\n",
       "      <td>04-May</td>\n",
       "      <td>0</td>\n",
       "      <td>White</td>\n",
       "      <td>0</td>\n",
       "    </tr>\n",
       "    <tr>\n",
       "      <th>4</th>\n",
       "      <td>11726</td>\n",
       "      <td>446</td>\n",
       "      <td>HONDA</td>\n",
       "      <td>FIT</td>\n",
       "      <td>2014</td>\n",
       "      <td>Hatchback</td>\n",
       "      <td>1</td>\n",
       "      <td>Petrol</td>\n",
       "      <td>1.3</td>\n",
       "      <td>91901</td>\n",
       "      <td>4.0</td>\n",
       "      <td>Automatic</td>\n",
       "      <td>Front</td>\n",
       "      <td>04-May</td>\n",
       "      <td>0</td>\n",
       "      <td>Silver</td>\n",
       "      <td>4</td>\n",
       "    </tr>\n",
       "  </tbody>\n",
       "</table>\n",
       "</div>"
      ],
      "text/plain": [
       "   Price  Levy Manufacturer    Model  Prod. year   Category  Leather interior  \\\n",
       "0  13328  1399        LEXUS   RX 450        2010       Jeep                 1   \n",
       "1  16621  1018    CHEVROLET  Equinox        2011       Jeep                 0   \n",
       "2   8467     0        HONDA      FIT        2006  Hatchback                 0   \n",
       "3   3607   862         FORD   Escape        2011       Jeep                 1   \n",
       "4  11726   446        HONDA      FIT        2014  Hatchback                 1   \n",
       "\n",
       "  Fuel type Engine volume  Mileage  Cylinders Gear box type Drive wheels  \\\n",
       "0    Hybrid           3.5   186005        6.0     Automatic          4x4   \n",
       "1    Petrol             3   192000        6.0     Tiptronic          4x4   \n",
       "2    Petrol           1.3   200000        4.0      Variator        Front   \n",
       "3    Hybrid           2.5   168966        4.0     Automatic          4x4   \n",
       "4    Petrol           1.3    91901        4.0     Automatic        Front   \n",
       "\n",
       "    Doors  Wheel   Color  Airbags  \n",
       "0  04-May      0  Silver       12  \n",
       "1  04-May      0   Black        8  \n",
       "2  04-May      1   Black        2  \n",
       "3  04-May      0   White        0  \n",
       "4  04-May      0  Silver        4  "
      ]
     },
     "execution_count": 46,
     "metadata": {},
     "output_type": "execute_result"
    }
   ],
   "source": [
    "df.head(5)"
   ]
  },
  {
   "cell_type": "markdown",
   "id": "8c079482",
   "metadata": {
    "papermill": {
     "duration": 0.019681,
     "end_time": "2022-10-06T12:05:51.729183",
     "exception": false,
     "start_time": "2022-10-06T12:05:51.709502",
     "status": "completed"
    },
    "tags": []
   },
   "source": [
    "# Encoding"
   ]
  },
  {
   "cell_type": "code",
   "execution_count": 47,
   "id": "18a943b6",
   "metadata": {
    "execution": {
     "iopub.execute_input": "2022-10-14T10:03:24.052511Z",
     "iopub.status.busy": "2022-10-14T10:03:24.052154Z",
     "iopub.status.idle": "2022-10-14T10:03:24.123668Z",
     "shell.execute_reply": "2022-10-14T10:03:24.122475Z",
     "shell.execute_reply.started": "2022-10-14T10:03:24.052480Z"
    },
    "papermill": {
     "duration": 0.206391,
     "end_time": "2022-10-06T12:05:51.955534",
     "exception": false,
     "start_time": "2022-10-06T12:05:51.749143",
     "status": "completed"
    },
    "tags": []
   },
   "outputs": [],
   "source": [
    "from sklearn.preprocessing import LabelEncoder"
   ]
  },
  {
   "cell_type": "code",
   "execution_count": 48,
   "id": "dc82a2e0",
   "metadata": {
    "execution": {
     "iopub.execute_input": "2022-10-14T10:03:24.125790Z",
     "iopub.status.busy": "2022-10-14T10:03:24.125039Z",
     "iopub.status.idle": "2022-10-14T10:03:24.130648Z",
     "shell.execute_reply": "2022-10-14T10:03:24.129377Z",
     "shell.execute_reply.started": "2022-10-14T10:03:24.125751Z"
    },
    "papermill": {
     "duration": 0.029559,
     "end_time": "2022-10-06T12:05:52.004821",
     "exception": false,
     "start_time": "2022-10-06T12:05:51.975262",
     "status": "completed"
    },
    "tags": []
   },
   "outputs": [],
   "source": [
    "encoder = LabelEncoder()"
   ]
  },
  {
   "cell_type": "code",
   "execution_count": 49,
   "id": "26f13581",
   "metadata": {
    "execution": {
     "iopub.execute_input": "2022-10-14T10:03:24.132984Z",
     "iopub.status.busy": "2022-10-14T10:03:24.132302Z",
     "iopub.status.idle": "2022-10-14T10:03:24.194739Z",
     "shell.execute_reply": "2022-10-14T10:03:24.193514Z",
     "shell.execute_reply.started": "2022-10-14T10:03:24.132946Z"
    },
    "papermill": {
     "duration": 0.135436,
     "end_time": "2022-10-06T12:05:52.160645",
     "exception": false,
     "start_time": "2022-10-06T12:05:52.025209",
     "status": "completed"
    },
    "tags": []
   },
   "outputs": [],
   "source": [
    "for col in cat_columns:\n",
    "    df[col] = encoder.fit_transform(df[col])\n",
    "    "
   ]
  },
  {
   "cell_type": "code",
   "execution_count": 50,
   "id": "6e9ef19f",
   "metadata": {
    "execution": {
     "iopub.execute_input": "2022-10-14T10:03:24.196465Z",
     "iopub.status.busy": "2022-10-14T10:03:24.196088Z",
     "iopub.status.idle": "2022-10-14T10:03:24.215701Z",
     "shell.execute_reply": "2022-10-14T10:03:24.214451Z",
     "shell.execute_reply.started": "2022-10-14T10:03:24.196430Z"
    },
    "papermill": {
     "duration": 0.042092,
     "end_time": "2022-10-06T12:05:52.222272",
     "exception": false,
     "start_time": "2022-10-06T12:05:52.180180",
     "status": "completed"
    },
    "scrolled": true,
    "tags": []
   },
   "outputs": [
    {
     "data": {
      "text/html": [
       "<div>\n",
       "<style scoped>\n",
       "    .dataframe tbody tr th:only-of-type {\n",
       "        vertical-align: middle;\n",
       "    }\n",
       "\n",
       "    .dataframe tbody tr th {\n",
       "        vertical-align: top;\n",
       "    }\n",
       "\n",
       "    .dataframe thead th {\n",
       "        text-align: right;\n",
       "    }\n",
       "</style>\n",
       "<table border=\"1\" class=\"dataframe\">\n",
       "  <thead>\n",
       "    <tr style=\"text-align: right;\">\n",
       "      <th></th>\n",
       "      <th>Price</th>\n",
       "      <th>Levy</th>\n",
       "      <th>Manufacturer</th>\n",
       "      <th>Model</th>\n",
       "      <th>Prod. year</th>\n",
       "      <th>Category</th>\n",
       "      <th>Leather interior</th>\n",
       "      <th>Fuel type</th>\n",
       "      <th>Engine volume</th>\n",
       "      <th>Mileage</th>\n",
       "      <th>Cylinders</th>\n",
       "      <th>Gear box type</th>\n",
       "      <th>Drive wheels</th>\n",
       "      <th>Doors</th>\n",
       "      <th>Wheel</th>\n",
       "      <th>Color</th>\n",
       "      <th>Airbags</th>\n",
       "    </tr>\n",
       "  </thead>\n",
       "  <tbody>\n",
       "    <tr>\n",
       "      <th>0</th>\n",
       "      <td>13328</td>\n",
       "      <td>1399</td>\n",
       "      <td>28</td>\n",
       "      <td>1150</td>\n",
       "      <td>2010</td>\n",
       "      <td>4</td>\n",
       "      <td>1</td>\n",
       "      <td>2</td>\n",
       "      <td>61</td>\n",
       "      <td>186005</td>\n",
       "      <td>6.0</td>\n",
       "      <td>0</td>\n",
       "      <td>0</td>\n",
       "      <td>1</td>\n",
       "      <td>0</td>\n",
       "      <td>12</td>\n",
       "      <td>12</td>\n",
       "    </tr>\n",
       "    <tr>\n",
       "      <th>1</th>\n",
       "      <td>16621</td>\n",
       "      <td>1018</td>\n",
       "      <td>6</td>\n",
       "      <td>616</td>\n",
       "      <td>2011</td>\n",
       "      <td>4</td>\n",
       "      <td>0</td>\n",
       "      <td>5</td>\n",
       "      <td>54</td>\n",
       "      <td>192000</td>\n",
       "      <td>6.0</td>\n",
       "      <td>2</td>\n",
       "      <td>0</td>\n",
       "      <td>1</td>\n",
       "      <td>0</td>\n",
       "      <td>1</td>\n",
       "      <td>8</td>\n",
       "    </tr>\n",
       "    <tr>\n",
       "      <th>2</th>\n",
       "      <td>8467</td>\n",
       "      <td>0</td>\n",
       "      <td>18</td>\n",
       "      <td>639</td>\n",
       "      <td>2006</td>\n",
       "      <td>3</td>\n",
       "      <td>0</td>\n",
       "      <td>5</td>\n",
       "      <td>21</td>\n",
       "      <td>200000</td>\n",
       "      <td>4.0</td>\n",
       "      <td>3</td>\n",
       "      <td>1</td>\n",
       "      <td>1</td>\n",
       "      <td>1</td>\n",
       "      <td>1</td>\n",
       "      <td>2</td>\n",
       "    </tr>\n",
       "  </tbody>\n",
       "</table>\n",
       "</div>"
      ],
      "text/plain": [
       "   Price  Levy  Manufacturer  Model  Prod. year  Category  Leather interior  \\\n",
       "0  13328  1399            28   1150        2010         4                 1   \n",
       "1  16621  1018             6    616        2011         4                 0   \n",
       "2   8467     0            18    639        2006         3                 0   \n",
       "\n",
       "   Fuel type  Engine volume  Mileage  Cylinders  Gear box type  Drive wheels  \\\n",
       "0          2             61   186005        6.0              0             0   \n",
       "1          5             54   192000        6.0              2             0   \n",
       "2          5             21   200000        4.0              3             1   \n",
       "\n",
       "   Doors  Wheel  Color  Airbags  \n",
       "0      1      0     12       12  \n",
       "1      1      0      1        8  \n",
       "2      1      1      1        2  "
      ]
     },
     "execution_count": 50,
     "metadata": {},
     "output_type": "execute_result"
    }
   ],
   "source": [
    "df.head(3)"
   ]
  },
  {
   "cell_type": "markdown",
   "id": "eea7aa78",
   "metadata": {
    "papermill": {
     "duration": 0.054926,
     "end_time": "2022-10-06T12:08:20.835087",
     "exception": false,
     "start_time": "2022-10-06T12:08:20.780161",
     "status": "completed"
    },
    "tags": []
   },
   "source": [
    "# Correlation"
   ]
  },
  {
   "cell_type": "code",
   "execution_count": 51,
   "id": "82c9dc01",
   "metadata": {
    "execution": {
     "iopub.execute_input": "2022-10-14T10:03:24.217478Z",
     "iopub.status.busy": "2022-10-14T10:03:24.217073Z",
     "iopub.status.idle": "2022-10-14T10:03:26.184234Z",
     "shell.execute_reply": "2022-10-14T10:03:26.183104Z",
     "shell.execute_reply.started": "2022-10-14T10:03:24.217437Z"
    },
    "papermill": {
     "duration": 1.954647,
     "end_time": "2022-10-06T12:08:22.844148",
     "exception": false,
     "start_time": "2022-10-06T12:08:20.889501",
     "status": "completed"
    },
    "tags": []
   },
   "outputs": [
    {
     "data": {
      "text/plain": [
       "<AxesSubplot:>"
      ]
     },
     "execution_count": 51,
     "metadata": {},
     "output_type": "execute_result"
    },
    {
     "data": {
      "image/png": "[encoded data removed]",
      "text/plain": [
       "<Figure size 1080x720 with 2 Axes>"
      ]
     },
     "metadata": {},
     "output_type": "display_data"
    }
   ],
   "source": [
    "plt.figure(figsize=(15,10))\n",
    "sns.heatmap(data=df.corr(), annot=True)"
   ]
  },
  {
   "cell_type": "markdown",
   "id": "7ca4d4e0",
   "metadata": {
    "papermill": {
     "duration": 0.058365,
     "end_time": "2022-10-06T12:08:22.960532",
     "exception": false,
     "start_time": "2022-10-06T12:08:22.902167",
     "status": "completed"
    },
    "tags": []
   },
   "source": [
    "We can see from the above that none of our data features are in correlation to our target variable, `Price`"
   ]
  },
  {
   "cell_type": "code",
   "execution_count": 52,
   "id": "7b606abb",
   "metadata": {
    "execution": {
     "iopub.execute_input": "2022-10-14T10:03:26.186055Z",
     "iopub.status.busy": "2022-10-14T10:03:26.185359Z",
     "iopub.status.idle": "2022-10-14T10:03:26.208416Z",
     "shell.execute_reply": "2022-10-14T10:03:26.207336Z",
     "shell.execute_reply.started": "2022-10-14T10:03:26.186017Z"
    },
    "papermill": {
     "duration": 0.080288,
     "end_time": "2022-10-06T12:08:23.098532",
     "exception": false,
     "start_time": "2022-10-06T12:08:23.018244",
     "status": "completed"
    },
    "tags": []
   },
   "outputs": [
    {
     "data": {
      "text/html": [
       "<div>\n",
       "<style scoped>\n",
       "    .dataframe tbody tr th:only-of-type {\n",
       "        vertical-align: middle;\n",
       "    }\n",
       "\n",
       "    .dataframe tbody tr th {\n",
       "        vertical-align: top;\n",
       "    }\n",
       "\n",
       "    .dataframe thead th {\n",
       "        text-align: right;\n",
       "    }\n",
       "</style>\n",
       "<table border=\"1\" class=\"dataframe\">\n",
       "  <thead>\n",
       "    <tr style=\"text-align: right;\">\n",
       "      <th></th>\n",
       "      <th>Price</th>\n",
       "      <th>Levy</th>\n",
       "      <th>Manufacturer</th>\n",
       "      <th>Model</th>\n",
       "      <th>Prod. year</th>\n",
       "      <th>Category</th>\n",
       "      <th>Leather interior</th>\n",
       "      <th>Fuel type</th>\n",
       "      <th>Engine volume</th>\n",
       "      <th>Mileage</th>\n",
       "      <th>Cylinders</th>\n",
       "      <th>Gear box type</th>\n",
       "      <th>Drive wheels</th>\n",
       "      <th>Doors</th>\n",
       "      <th>Wheel</th>\n",
       "      <th>Color</th>\n",
       "      <th>Airbags</th>\n",
       "    </tr>\n",
       "  </thead>\n",
       "  <tbody>\n",
       "    <tr>\n",
       "      <th>0</th>\n",
       "      <td>13328</td>\n",
       "      <td>1399</td>\n",
       "      <td>28</td>\n",
       "      <td>1150</td>\n",
       "      <td>2010</td>\n",
       "      <td>4</td>\n",
       "      <td>1</td>\n",
       "      <td>2</td>\n",
       "      <td>61</td>\n",
       "      <td>186005</td>\n",
       "      <td>6.0</td>\n",
       "      <td>0</td>\n",
       "      <td>0</td>\n",
       "      <td>1</td>\n",
       "      <td>0</td>\n",
       "      <td>12</td>\n",
       "      <td>12</td>\n",
       "    </tr>\n",
       "    <tr>\n",
       "      <th>1</th>\n",
       "      <td>16621</td>\n",
       "      <td>1018</td>\n",
       "      <td>6</td>\n",
       "      <td>616</td>\n",
       "      <td>2011</td>\n",
       "      <td>4</td>\n",
       "      <td>0</td>\n",
       "      <td>5</td>\n",
       "      <td>54</td>\n",
       "      <td>192000</td>\n",
       "      <td>6.0</td>\n",
       "      <td>2</td>\n",
       "      <td>0</td>\n",
       "      <td>1</td>\n",
       "      <td>0</td>\n",
       "      <td>1</td>\n",
       "      <td>8</td>\n",
       "    </tr>\n",
       "    <tr>\n",
       "      <th>2</th>\n",
       "      <td>8467</td>\n",
       "      <td>0</td>\n",
       "      <td>18</td>\n",
       "      <td>639</td>\n",
       "      <td>2006</td>\n",
       "      <td>3</td>\n",
       "      <td>0</td>\n",
       "      <td>5</td>\n",
       "      <td>21</td>\n",
       "      <td>200000</td>\n",
       "      <td>4.0</td>\n",
       "      <td>3</td>\n",
       "      <td>1</td>\n",
       "      <td>1</td>\n",
       "      <td>1</td>\n",
       "      <td>1</td>\n",
       "      <td>2</td>\n",
       "    </tr>\n",
       "    <tr>\n",
       "      <th>3</th>\n",
       "      <td>3607</td>\n",
       "      <td>862</td>\n",
       "      <td>13</td>\n",
       "      <td>619</td>\n",
       "      <td>2011</td>\n",
       "      <td>4</td>\n",
       "      <td>1</td>\n",
       "      <td>2</td>\n",
       "      <td>45</td>\n",
       "      <td>168966</td>\n",
       "      <td>4.0</td>\n",
       "      <td>0</td>\n",
       "      <td>0</td>\n",
       "      <td>1</td>\n",
       "      <td>0</td>\n",
       "      <td>14</td>\n",
       "      <td>0</td>\n",
       "    </tr>\n",
       "    <tr>\n",
       "      <th>4</th>\n",
       "      <td>11726</td>\n",
       "      <td>446</td>\n",
       "      <td>18</td>\n",
       "      <td>639</td>\n",
       "      <td>2014</td>\n",
       "      <td>3</td>\n",
       "      <td>1</td>\n",
       "      <td>5</td>\n",
       "      <td>21</td>\n",
       "      <td>91901</td>\n",
       "      <td>4.0</td>\n",
       "      <td>0</td>\n",
       "      <td>1</td>\n",
       "      <td>1</td>\n",
       "      <td>0</td>\n",
       "      <td>12</td>\n",
       "      <td>4</td>\n",
       "    </tr>\n",
       "  </tbody>\n",
       "</table>\n",
       "</div>"
      ],
      "text/plain": [
       "   Price  Levy  Manufacturer  Model  Prod. year  Category  Leather interior  \\\n",
       "0  13328  1399            28   1150        2010         4                 1   \n",
       "1  16621  1018             6    616        2011         4                 0   \n",
       "2   8467     0            18    639        2006         3                 0   \n",
       "3   3607   862            13    619        2011         4                 1   \n",
       "4  11726   446            18    639        2014         3                 1   \n",
       "\n",
       "   Fuel type  Engine volume  Mileage  Cylinders  Gear box type  Drive wheels  \\\n",
       "0          2             61   186005        6.0              0             0   \n",
       "1          5             54   192000        6.0              2             0   \n",
       "2          5             21   200000        4.0              3             1   \n",
       "3          2             45   168966        4.0              0             0   \n",
       "4          5             21    91901        4.0              0             1   \n",
       "\n",
       "   Doors  Wheel  Color  Airbags  \n",
       "0      1      0     12       12  \n",
       "1      1      0      1        8  \n",
       "2      1      1      1        2  \n",
       "3      1      0     14        0  \n",
       "4      1      0     12        4  "
      ]
     },
     "execution_count": 52,
     "metadata": {},
     "output_type": "execute_result"
    }
   ],
   "source": [
    "df.head()"
   ]
  },
  {
   "cell_type": "code",
   "execution_count": 53,
   "id": "8d806e73",
   "metadata": {
    "execution": {
     "iopub.execute_input": "2022-10-14T10:03:26.211237Z",
     "iopub.status.busy": "2022-10-14T10:03:26.210023Z",
     "iopub.status.idle": "2022-10-14T10:03:26.221511Z",
     "shell.execute_reply": "2022-10-14T10:03:26.219969Z",
     "shell.execute_reply.started": "2022-10-14T10:03:26.211187Z"
    },
    "papermill": {
     "duration": 0.067566,
     "end_time": "2022-10-06T12:08:23.222102",
     "exception": false,
     "start_time": "2022-10-06T12:08:23.154536",
     "status": "completed"
    },
    "tags": []
   },
   "outputs": [],
   "source": [
    "X = df.drop(\"Price\", axis=1)\n",
    "y = df.iloc[:, [0]]"
   ]
  },
  {
   "cell_type": "code",
   "execution_count": 54,
   "id": "330b2cc6",
   "metadata": {
    "execution": {
     "iopub.execute_input": "2022-10-14T10:03:26.225743Z",
     "iopub.status.busy": "2022-10-14T10:03:26.224473Z",
     "iopub.status.idle": "2022-10-14T10:03:26.246515Z",
     "shell.execute_reply": "2022-10-14T10:03:26.244755Z",
     "shell.execute_reply.started": "2022-10-14T10:03:26.225685Z"
    },
    "papermill": {
     "duration": 0.079184,
     "end_time": "2022-10-06T12:08:23.357576",
     "exception": false,
     "start_time": "2022-10-06T12:08:23.278392",
     "status": "completed"
    },
    "tags": []
   },
   "outputs": [
    {
     "data": {
      "text/html": [
       "<div>\n",
       "<style scoped>\n",
       "    .dataframe tbody tr th:only-of-type {\n",
       "        vertical-align: middle;\n",
       "    }\n",
       "\n",
       "    .dataframe tbody tr th {\n",
       "        vertical-align: top;\n",
       "    }\n",
       "\n",
       "    .dataframe thead th {\n",
       "        text-align: right;\n",
       "    }\n",
       "</style>\n",
       "<table border=\"1\" class=\"dataframe\">\n",
       "  <thead>\n",
       "    <tr style=\"text-align: right;\">\n",
       "      <th></th>\n",
       "      <th>Levy</th>\n",
       "      <th>Manufacturer</th>\n",
       "      <th>Model</th>\n",
       "      <th>Prod. year</th>\n",
       "      <th>Category</th>\n",
       "      <th>Leather interior</th>\n",
       "      <th>Fuel type</th>\n",
       "      <th>Engine volume</th>\n",
       "      <th>Mileage</th>\n",
       "      <th>Cylinders</th>\n",
       "      <th>Gear box type</th>\n",
       "      <th>Drive wheels</th>\n",
       "      <th>Doors</th>\n",
       "      <th>Wheel</th>\n",
       "      <th>Color</th>\n",
       "      <th>Airbags</th>\n",
       "    </tr>\n",
       "  </thead>\n",
       "  <tbody>\n",
       "    <tr>\n",
       "      <th>0</th>\n",
       "      <td>1399</td>\n",
       "      <td>28</td>\n",
       "      <td>1150</td>\n",
       "      <td>2010</td>\n",
       "      <td>4</td>\n",
       "      <td>1</td>\n",
       "      <td>2</td>\n",
       "      <td>61</td>\n",
       "      <td>186005</td>\n",
       "      <td>6.0</td>\n",
       "      <td>0</td>\n",
       "      <td>0</td>\n",
       "      <td>1</td>\n",
       "      <td>0</td>\n",
       "      <td>12</td>\n",
       "      <td>12</td>\n",
       "    </tr>\n",
       "    <tr>\n",
       "      <th>1</th>\n",
       "      <td>1018</td>\n",
       "      <td>6</td>\n",
       "      <td>616</td>\n",
       "      <td>2011</td>\n",
       "      <td>4</td>\n",
       "      <td>0</td>\n",
       "      <td>5</td>\n",
       "      <td>54</td>\n",
       "      <td>192000</td>\n",
       "      <td>6.0</td>\n",
       "      <td>2</td>\n",
       "      <td>0</td>\n",
       "      <td>1</td>\n",
       "      <td>0</td>\n",
       "      <td>1</td>\n",
       "      <td>8</td>\n",
       "    </tr>\n",
       "    <tr>\n",
       "      <th>2</th>\n",
       "      <td>0</td>\n",
       "      <td>18</td>\n",
       "      <td>639</td>\n",
       "      <td>2006</td>\n",
       "      <td>3</td>\n",
       "      <td>0</td>\n",
       "      <td>5</td>\n",
       "      <td>21</td>\n",
       "      <td>200000</td>\n",
       "      <td>4.0</td>\n",
       "      <td>3</td>\n",
       "      <td>1</td>\n",
       "      <td>1</td>\n",
       "      <td>1</td>\n",
       "      <td>1</td>\n",
       "      <td>2</td>\n",
       "    </tr>\n",
       "  </tbody>\n",
       "</table>\n",
       "</div>"
      ],
      "text/plain": [
       "   Levy  Manufacturer  Model  Prod. year  Category  Leather interior  \\\n",
       "0  1399            28   1150        2010         4                 1   \n",
       "1  1018             6    616        2011         4                 0   \n",
       "2     0            18    639        2006         3                 0   \n",
       "\n",
       "   Fuel type  Engine volume  Mileage  Cylinders  Gear box type  Drive wheels  \\\n",
       "0          2             61   186005        6.0              0             0   \n",
       "1          5             54   192000        6.0              2             0   \n",
       "2          5             21   200000        4.0              3             1   \n",
       "\n",
       "   Doors  Wheel  Color  Airbags  \n",
       "0      1      0     12       12  \n",
       "1      1      0      1        8  \n",
       "2      1      1      1        2  "
      ]
     },
     "execution_count": 54,
     "metadata": {},
     "output_type": "execute_result"
    }
   ],
   "source": [
    "X.head(3)"
   ]
  },
  {
   "cell_type": "code",
   "execution_count": 55,
   "id": "7d6247d6",
   "metadata": {
    "execution": {
     "iopub.execute_input": "2022-10-14T10:03:26.249155Z",
     "iopub.status.busy": "2022-10-14T10:03:26.248371Z",
     "iopub.status.idle": "2022-10-14T10:03:26.265502Z",
     "shell.execute_reply": "2022-10-14T10:03:26.263689Z",
     "shell.execute_reply.started": "2022-10-14T10:03:26.249107Z"
    },
    "papermill": {
     "duration": 0.070677,
     "end_time": "2022-10-06T12:08:23.485236",
     "exception": false,
     "start_time": "2022-10-06T12:08:23.414559",
     "status": "completed"
    },
    "tags": []
   },
   "outputs": [
    {
     "data": {
      "text/html": [
       "<div>\n",
       "<style scoped>\n",
       "    .dataframe tbody tr th:only-of-type {\n",
       "        vertical-align: middle;\n",
       "    }\n",
       "\n",
       "    .dataframe tbody tr th {\n",
       "        vertical-align: top;\n",
       "    }\n",
       "\n",
       "    .dataframe thead th {\n",
       "        text-align: right;\n",
       "    }\n",
       "</style>\n",
       "<table border=\"1\" class=\"dataframe\">\n",
       "  <thead>\n",
       "    <tr style=\"text-align: right;\">\n",
       "      <th></th>\n",
       "      <th>Price</th>\n",
       "    </tr>\n",
       "  </thead>\n",
       "  <tbody>\n",
       "    <tr>\n",
       "      <th>0</th>\n",
       "      <td>13328</td>\n",
       "    </tr>\n",
       "    <tr>\n",
       "      <th>1</th>\n",
       "      <td>16621</td>\n",
       "    </tr>\n",
       "    <tr>\n",
       "      <th>2</th>\n",
       "      <td>8467</td>\n",
       "    </tr>\n",
       "  </tbody>\n",
       "</table>\n",
       "</div>"
      ],
      "text/plain": [
       "   Price\n",
       "0  13328\n",
       "1  16621\n",
       "2   8467"
      ]
     },
     "execution_count": 55,
     "metadata": {},
     "output_type": "execute_result"
    }
   ],
   "source": [
    "y.head(3)"
   ]
  },
  {
   "cell_type": "markdown",
   "id": "1807d4ac",
   "metadata": {
    "papermill": {
     "duration": 0.059621,
     "end_time": "2022-10-06T12:08:23.603211",
     "exception": false,
     "start_time": "2022-10-06T12:08:23.543590",
     "status": "completed"
    },
    "tags": []
   },
   "source": [
    "# Splitting"
   ]
  },
  {
   "cell_type": "code",
   "execution_count": 56,
   "id": "8eb1aec9",
   "metadata": {
    "execution": {
     "iopub.execute_input": "2022-10-14T10:03:26.268583Z",
     "iopub.status.busy": "2022-10-14T10:03:26.267520Z",
     "iopub.status.idle": "2022-10-14T10:03:26.339303Z",
     "shell.execute_reply": "2022-10-14T10:03:26.338030Z",
     "shell.execute_reply.started": "2022-10-14T10:03:26.268534Z"
    },
    "papermill": {
     "duration": 0.138548,
     "end_time": "2022-10-06T12:08:23.801327",
     "exception": false,
     "start_time": "2022-10-06T12:08:23.662779",
     "status": "completed"
    },
    "tags": []
   },
   "outputs": [],
   "source": [
    "from sklearn.model_selection import train_test_split"
   ]
  },
  {
   "cell_type": "code",
   "execution_count": 57,
   "id": "712408c7",
   "metadata": {
    "execution": {
     "iopub.execute_input": "2022-10-14T10:03:26.342012Z",
     "iopub.status.busy": "2022-10-14T10:03:26.341162Z",
     "iopub.status.idle": "2022-10-14T10:03:26.354383Z",
     "shell.execute_reply": "2022-10-14T10:03:26.352863Z",
     "shell.execute_reply.started": "2022-10-14T10:03:26.341962Z"
    },
    "papermill": {
     "duration": 0.073413,
     "end_time": "2022-10-06T12:08:23.931841",
     "exception": false,
     "start_time": "2022-10-06T12:08:23.858428",
     "status": "completed"
    },
    "tags": []
   },
   "outputs": [],
   "source": [
    "X_train, X_test, y_train, y_test = train_test_split(X, y, test_size=0.20, random_state=0)"
   ]
  },
  {
   "cell_type": "code",
   "execution_count": 58,
   "id": "93d2611d",
   "metadata": {
    "execution": {
     "iopub.execute_input": "2022-10-14T10:03:26.357679Z",
     "iopub.status.busy": "2022-10-14T10:03:26.356667Z",
     "iopub.status.idle": "2022-10-14T10:03:26.365249Z",
     "shell.execute_reply": "2022-10-14T10:03:26.363598Z",
     "shell.execute_reply.started": "2022-10-14T10:03:26.357631Z"
    },
    "papermill": {
     "duration": 0.069662,
     "end_time": "2022-10-06T12:08:24.059205",
     "exception": false,
     "start_time": "2022-10-06T12:08:23.989543",
     "status": "completed"
    },
    "tags": []
   },
   "outputs": [
    {
     "name": "stdout",
     "output_type": "stream",
     "text": [
      "X_train: (13672, 16)\n",
      "X_test: (3418, 16)\n",
      "y_train: (13672, 1)\n",
      "y_test: (3418, 1)\n"
     ]
    }
   ],
   "source": [
    "print(\"X_train:\",X_train.shape)\n",
    "print(\"X_test:\",X_test.shape)\n",
    "print(\"y_train:\",y_train.shape)\n",
    "print(\"y_test:\",y_test.shape)"
   ]
  },
  {
   "cell_type": "code",
   "execution_count": 59,
   "id": "312f4888",
   "metadata": {
    "execution": {
     "iopub.execute_input": "2022-10-14T10:03:26.367709Z",
     "iopub.status.busy": "2022-10-14T10:03:26.366973Z",
     "iopub.status.idle": "2022-10-14T10:03:26.379453Z",
     "shell.execute_reply": "2022-10-14T10:03:26.378206Z",
     "shell.execute_reply.started": "2022-10-14T10:03:26.367664Z"
    },
    "papermill": {
     "duration": 0.065984,
     "end_time": "2022-10-06T12:08:24.182083",
     "exception": false,
     "start_time": "2022-10-06T12:08:24.116099",
     "status": "completed"
    },
    "tags": []
   },
   "outputs": [],
   "source": [
    "# Scaling our data \n",
    "from sklearn.preprocessing import StandardScaler"
   ]
  },
  {
   "cell_type": "code",
   "execution_count": 60,
   "id": "fa8965da",
   "metadata": {
    "execution": {
     "iopub.execute_input": "2022-10-14T10:03:26.381399Z",
     "iopub.status.busy": "2022-10-14T10:03:26.380924Z",
     "iopub.status.idle": "2022-10-14T10:03:26.393411Z",
     "shell.execute_reply": "2022-10-14T10:03:26.391507Z",
     "shell.execute_reply.started": "2022-10-14T10:03:26.381357Z"
    },
    "papermill": {
     "duration": 0.065594,
     "end_time": "2022-10-06T12:08:24.304553",
     "exception": false,
     "start_time": "2022-10-06T12:08:24.238959",
     "status": "completed"
    },
    "tags": []
   },
   "outputs": [],
   "source": [
    "scaler = StandardScaler()"
   ]
  },
  {
   "cell_type": "code",
   "execution_count": 61,
   "id": "79553110",
   "metadata": {
    "execution": {
     "iopub.execute_input": "2022-10-14T10:03:26.395888Z",
     "iopub.status.busy": "2022-10-14T10:03:26.395175Z",
     "iopub.status.idle": "2022-10-14T10:03:26.421381Z",
     "shell.execute_reply": "2022-10-14T10:03:26.419914Z",
     "shell.execute_reply.started": "2022-10-14T10:03:26.395842Z"
    },
    "papermill": {
     "duration": 0.077183,
     "end_time": "2022-10-06T12:08:24.438287",
     "exception": false,
     "start_time": "2022-10-06T12:08:24.361104",
     "status": "completed"
    },
    "tags": []
   },
   "outputs": [],
   "source": [
    "X_train = scaler.fit_transform(X_train)\n",
    "X_test = scaler.fit_transform(X_test)"
   ]
  },
  {
   "cell_type": "code",
   "execution_count": 62,
   "id": "b06f2890",
   "metadata": {
    "execution": {
     "iopub.execute_input": "2022-10-14T10:03:26.423697Z",
     "iopub.status.busy": "2022-10-14T10:03:26.423291Z",
     "iopub.status.idle": "2022-10-14T10:03:26.430641Z",
     "shell.execute_reply": "2022-10-14T10:03:26.429054Z",
     "shell.execute_reply.started": "2022-10-14T10:03:26.423661Z"
    },
    "papermill": {
     "duration": 0.067492,
     "end_time": "2022-10-06T12:08:24.562652",
     "exception": false,
     "start_time": "2022-10-06T12:08:24.495160",
     "status": "completed"
    },
    "tags": []
   },
   "outputs": [
    {
     "name": "stdout",
     "output_type": "stream",
     "text": [
      "(13672, 16)\n",
      "(3418, 16)\n"
     ]
    }
   ],
   "source": [
    "print(X_train.shape)\n",
    "print(X_test.shape)"
   ]
  },
  {
   "cell_type": "markdown",
   "id": "c21bbac0",
   "metadata": {
    "papermill": {
     "duration": 0.056373,
     "end_time": "2022-10-06T12:08:24.675928",
     "exception": false,
     "start_time": "2022-10-06T12:08:24.619555",
     "status": "completed"
    },
    "tags": []
   },
   "source": [
    "# 1. Linear Regression Model"
   ]
  },
  {
   "cell_type": "code",
   "execution_count": 63,
   "id": "4a455b78",
   "metadata": {
    "execution": {
     "iopub.execute_input": "2022-10-14T10:03:26.433059Z",
     "iopub.status.busy": "2022-10-14T10:03:26.432213Z",
     "iopub.status.idle": "2022-10-14T10:03:26.521242Z",
     "shell.execute_reply": "2022-10-14T10:03:26.519818Z",
     "shell.execute_reply.started": "2022-10-14T10:03:26.433020Z"
    },
    "papermill": {
     "duration": 0.158126,
     "end_time": "2022-10-06T12:08:24.891973",
     "exception": false,
     "start_time": "2022-10-06T12:08:24.733847",
     "status": "completed"
    },
    "tags": []
   },
   "outputs": [],
   "source": [
    "from sklearn.linear_model import LinearRegression "
   ]
  },
  {
   "cell_type": "code",
   "execution_count": 64,
   "id": "8b35f661",
   "metadata": {
    "execution": {
     "iopub.execute_input": "2022-10-14T10:03:26.532585Z",
     "iopub.status.busy": "2022-10-14T10:03:26.531784Z",
     "iopub.status.idle": "2022-10-14T10:03:26.538250Z",
     "shell.execute_reply": "2022-10-14T10:03:26.536748Z",
     "shell.execute_reply.started": "2022-10-14T10:03:26.532541Z"
    },
    "papermill": {
     "duration": 0.067001,
     "end_time": "2022-10-06T12:08:25.016302",
     "exception": false,
     "start_time": "2022-10-06T12:08:24.949301",
     "status": "completed"
    },
    "tags": []
   },
   "outputs": [],
   "source": [
    "lr = LinearRegression()"
   ]
  },
  {
   "cell_type": "code",
   "execution_count": 65,
   "id": "aecf0780",
   "metadata": {
    "execution": {
     "iopub.execute_input": "2022-10-14T10:03:26.540790Z",
     "iopub.status.busy": "2022-10-14T10:03:26.540169Z",
     "iopub.status.idle": "2022-10-14T10:03:26.550626Z",
     "shell.execute_reply": "2022-10-14T10:03:26.549325Z",
     "shell.execute_reply.started": "2022-10-14T10:03:26.540742Z"
    },
    "papermill": {
     "duration": 0.066149,
     "end_time": "2022-10-06T12:08:25.139274",
     "exception": false,
     "start_time": "2022-10-06T12:08:25.073125",
     "status": "completed"
    },
    "tags": []
   },
   "outputs": [],
   "source": [
    "# we will need to determine the best of parameter for the model using the gridsearchcv\n",
    "from sklearn.model_selection import GridSearchCV"
   ]
  },
  {
   "cell_type": "code",
   "execution_count": 66,
   "id": "66453edc",
   "metadata": {
    "execution": {
     "iopub.execute_input": "2022-10-14T10:03:26.552720Z",
     "iopub.status.busy": "2022-10-14T10:03:26.552255Z",
     "iopub.status.idle": "2022-10-14T10:03:27.105994Z",
     "shell.execute_reply": "2022-10-14T10:03:27.104396Z",
     "shell.execute_reply.started": "2022-10-14T10:03:26.552684Z"
    },
    "papermill": {
     "duration": 0.768663,
     "end_time": "2022-10-06T12:08:25.964894",
     "exception": false,
     "start_time": "2022-10-06T12:08:25.196231",
     "status": "completed"
    },
    "tags": []
   },
   "outputs": [
    {
     "name": "stderr",
     "output_type": "stream",
     "text": [
      "/opt/conda/lib/python3.7/site-packages/sklearn/linear_model/_base.py:145: FutureWarning: 'normalize' was deprecated in version 1.0 and will be removed in 1.2.\n",
      "If you wish to scale the data, use Pipeline with a StandardScaler in a preprocessing stage. To reproduce the previous behavior:\n",
      "\n",
      "from sklearn.pipeline import make_pipeline\n",
      "\n",
      "model = make_pipeline(StandardScaler(with_mean=False), LinearRegression())\n",
      "\n",
      "If you wish to pass a sample_weight parameter, you need to pass it as a fit parameter to each step of the pipeline as follows:\n",
      "\n",
      "kwargs = {s[0] + '__sample_weight': sample_weight for s in model.steps}\n",
      "model.fit(X, y, **kwargs)\n",
      "\n",
      "\n",
      "  FutureWarning,\n",
      "/opt/conda/lib/python3.7/site-packages/sklearn/linear_model/_base.py:145: FutureWarning: 'normalize' was deprecated in version 1.0 and will be removed in 1.2.\n",
      "If you wish to scale the data, use Pipeline with a StandardScaler in a preprocessing stage. To reproduce the previous behavior:\n",
      "\n",
      "from sklearn.pipeline import make_pipeline\n",
      "\n",
      "model = make_pipeline(StandardScaler(with_mean=False), LinearRegression())\n",
      "\n",
      "If you wish to pass a sample_weight parameter, you need to pass it as a fit parameter to each step of the pipeline as follows:\n",
      "\n",
      "kwargs = {s[0] + '__sample_weight': sample_weight for s in model.steps}\n",
      "model.fit(X, y, **kwargs)\n",
      "\n",
      "\n",
      "  FutureWarning,\n",
      "/opt/conda/lib/python3.7/site-packages/sklearn/linear_model/_base.py:145: FutureWarning: 'normalize' was deprecated in version 1.0 and will be removed in 1.2.\n",
      "If you wish to scale the data, use Pipeline with a StandardScaler in a preprocessing stage. To reproduce the previous behavior:\n",
      "\n",
      "from sklearn.pipeline import make_pipeline\n",
      "\n",
      "model = make_pipeline(StandardScaler(with_mean=False), LinearRegression())\n",
      "\n",
      "If you wish to pass a sample_weight parameter, you need to pass it as a fit parameter to each step of the pipeline as follows:\n",
      "\n",
      "kwargs = {s[0] + '__sample_weight': sample_weight for s in model.steps}\n",
      "model.fit(X, y, **kwargs)\n",
      "\n",
      "\n",
      "  FutureWarning,\n",
      "/opt/conda/lib/python3.7/site-packages/sklearn/linear_model/_base.py:145: FutureWarning: 'normalize' was deprecated in version 1.0 and will be removed in 1.2.\n",
      "If you wish to scale the data, use Pipeline with a StandardScaler in a preprocessing stage. To reproduce the previous behavior:\n",
      "\n",
      "from sklearn.pipeline import make_pipeline\n",
      "\n",
      "model = make_pipeline(StandardScaler(with_mean=False), LinearRegression())\n",
      "\n",
      "If you wish to pass a sample_weight parameter, you need to pass it as a fit parameter to each step of the pipeline as follows:\n",
      "\n",
      "kwargs = {s[0] + '__sample_weight': sample_weight for s in model.steps}\n",
      "model.fit(X, y, **kwargs)\n",
      "\n",
      "\n",
      "  FutureWarning,\n",
      "/opt/conda/lib/python3.7/site-packages/sklearn/linear_model/_base.py:145: FutureWarning: 'normalize' was deprecated in version 1.0 and will be removed in 1.2.\n",
      "If you wish to scale the data, use Pipeline with a StandardScaler in a preprocessing stage. To reproduce the previous behavior:\n",
      "\n",
      "from sklearn.pipeline import make_pipeline\n",
      "\n",
      "model = make_pipeline(StandardScaler(with_mean=False), LinearRegression())\n",
      "\n",
      "If you wish to pass a sample_weight parameter, you need to pass it as a fit parameter to each step of the pipeline as follows:\n",
      "\n",
      "kwargs = {s[0] + '__sample_weight': sample_weight for s in model.steps}\n",
      "model.fit(X, y, **kwargs)\n",
      "\n",
      "\n",
      "  FutureWarning,\n",
      "/opt/conda/lib/python3.7/site-packages/sklearn/linear_model/_base.py:155: FutureWarning: 'normalize' was deprecated in version 1.0 and will be removed in 1.2. Please leave the normalize parameter to its default value to silence this warning. The default behavior of this estimator is to not do any normalization. If normalization is needed please use sklearn.preprocessing.StandardScaler instead.\n",
      "  FutureWarning,\n",
      "/opt/conda/lib/python3.7/site-packages/sklearn/linear_model/_base.py:155: FutureWarning: 'normalize' was deprecated in version 1.0 and will be removed in 1.2. Please leave the normalize parameter to its default value to silence this warning. The default behavior of this estimator is to not do any normalization. If normalization is needed please use sklearn.preprocessing.StandardScaler instead.\n",
      "  FutureWarning,\n",
      "/opt/conda/lib/python3.7/site-packages/sklearn/linear_model/_base.py:155: FutureWarning: 'normalize' was deprecated in version 1.0 and will be removed in 1.2. Please leave the normalize parameter to its default value to silence this warning. The default behavior of this estimator is to not do any normalization. If normalization is needed please use sklearn.preprocessing.StandardScaler instead.\n",
      "  FutureWarning,\n",
      "/opt/conda/lib/python3.7/site-packages/sklearn/linear_model/_base.py:155: FutureWarning: 'normalize' was deprecated in version 1.0 and will be removed in 1.2. Please leave the normalize parameter to its default value to silence this warning. The default behavior of this estimator is to not do any normalization. If normalization is needed please use sklearn.preprocessing.StandardScaler instead.\n",
      "  FutureWarning,\n",
      "/opt/conda/lib/python3.7/site-packages/sklearn/linear_model/_base.py:155: FutureWarning: 'normalize' was deprecated in version 1.0 and will be removed in 1.2. Please leave the normalize parameter to its default value to silence this warning. The default behavior of this estimator is to not do any normalization. If normalization is needed please use sklearn.preprocessing.StandardScaler instead.\n",
      "  FutureWarning,\n",
      "/opt/conda/lib/python3.7/site-packages/sklearn/linear_model/_base.py:145: FutureWarning: 'normalize' was deprecated in version 1.0 and will be removed in 1.2.\n",
      "If you wish to scale the data, use Pipeline with a StandardScaler in a preprocessing stage. To reproduce the previous behavior:\n",
      "\n",
      "from sklearn.pipeline import make_pipeline\n",
      "\n",
      "model = make_pipeline(StandardScaler(with_mean=False), LinearRegression())\n",
      "\n",
      "If you wish to pass a sample_weight parameter, you need to pass it as a fit parameter to each step of the pipeline as follows:\n",
      "\n",
      "kwargs = {s[0] + '__sample_weight': sample_weight for s in model.steps}\n",
      "model.fit(X, y, **kwargs)\n",
      "\n",
      "\n",
      "  FutureWarning,\n",
      "/opt/conda/lib/python3.7/site-packages/sklearn/linear_model/_base.py:145: FutureWarning: 'normalize' was deprecated in version 1.0 and will be removed in 1.2.\n",
      "If you wish to scale the data, use Pipeline with a StandardScaler in a preprocessing stage. To reproduce the previous behavior:\n",
      "\n",
      "from sklearn.pipeline import make_pipeline\n",
      "\n",
      "model = make_pipeline(StandardScaler(with_mean=False), LinearRegression())\n",
      "\n",
      "If you wish to pass a sample_weight parameter, you need to pass it as a fit parameter to each step of the pipeline as follows:\n",
      "\n",
      "kwargs = {s[0] + '__sample_weight': sample_weight for s in model.steps}\n",
      "model.fit(X, y, **kwargs)\n",
      "\n",
      "\n",
      "  FutureWarning,\n",
      "/opt/conda/lib/python3.7/site-packages/sklearn/linear_model/_base.py:145: FutureWarning: 'normalize' was deprecated in version 1.0 and will be removed in 1.2.\n",
      "If you wish to scale the data, use Pipeline with a StandardScaler in a preprocessing stage. To reproduce the previous behavior:\n",
      "\n",
      "from sklearn.pipeline import make_pipeline\n",
      "\n",
      "model = make_pipeline(StandardScaler(with_mean=False), LinearRegression())\n",
      "\n",
      "If you wish to pass a sample_weight parameter, you need to pass it as a fit parameter to each step of the pipeline as follows:\n",
      "\n",
      "kwargs = {s[0] + '__sample_weight': sample_weight for s in model.steps}\n",
      "model.fit(X, y, **kwargs)\n",
      "\n",
      "\n",
      "  FutureWarning,\n",
      "/opt/conda/lib/python3.7/site-packages/sklearn/linear_model/_base.py:145: FutureWarning: 'normalize' was deprecated in version 1.0 and will be removed in 1.2.\n",
      "If you wish to scale the data, use Pipeline with a StandardScaler in a preprocessing stage. To reproduce the previous behavior:\n",
      "\n",
      "from sklearn.pipeline import make_pipeline\n",
      "\n",
      "model = make_pipeline(StandardScaler(with_mean=False), LinearRegression())\n",
      "\n",
      "If you wish to pass a sample_weight parameter, you need to pass it as a fit parameter to each step of the pipeline as follows:\n",
      "\n",
      "kwargs = {s[0] + '__sample_weight': sample_weight for s in model.steps}\n",
      "model.fit(X, y, **kwargs)\n",
      "\n",
      "\n",
      "  FutureWarning,\n",
      "/opt/conda/lib/python3.7/site-packages/sklearn/linear_model/_base.py:145: FutureWarning: 'normalize' was deprecated in version 1.0 and will be removed in 1.2.\n",
      "If you wish to scale the data, use Pipeline with a StandardScaler in a preprocessing stage. To reproduce the previous behavior:\n",
      "\n",
      "from sklearn.pipeline import make_pipeline\n",
      "\n",
      "model = make_pipeline(StandardScaler(with_mean=False), LinearRegression())\n",
      "\n",
      "If you wish to pass a sample_weight parameter, you need to pass it as a fit parameter to each step of the pipeline as follows:\n",
      "\n",
      "kwargs = {s[0] + '__sample_weight': sample_weight for s in model.steps}\n",
      "model.fit(X, y, **kwargs)\n",
      "\n",
      "\n",
      "  FutureWarning,\n",
      "/opt/conda/lib/python3.7/site-packages/sklearn/linear_model/_base.py:155: FutureWarning: 'normalize' was deprecated in version 1.0 and will be removed in 1.2. Please leave the normalize parameter to its default value to silence this warning. The default behavior of this estimator is to not do any normalization. If normalization is needed please use sklearn.preprocessing.StandardScaler instead.\n",
      "  FutureWarning,\n",
      "/opt/conda/lib/python3.7/site-packages/sklearn/linear_model/_base.py:155: FutureWarning: 'normalize' was deprecated in version 1.0 and will be removed in 1.2. Please leave the normalize parameter to its default value to silence this warning. The default behavior of this estimator is to not do any normalization. If normalization is needed please use sklearn.preprocessing.StandardScaler instead.\n",
      "  FutureWarning,\n",
      "/opt/conda/lib/python3.7/site-packages/sklearn/linear_model/_base.py:155: FutureWarning: 'normalize' was deprecated in version 1.0 and will be removed in 1.2. Please leave the normalize parameter to its default value to silence this warning. The default behavior of this estimator is to not do any normalization. If normalization is needed please use sklearn.preprocessing.StandardScaler instead.\n",
      "  FutureWarning,\n",
      "/opt/conda/lib/python3.7/site-packages/sklearn/linear_model/_base.py:155: FutureWarning: 'normalize' was deprecated in version 1.0 and will be removed in 1.2. Please leave the normalize parameter to its default value to silence this warning. The default behavior of this estimator is to not do any normalization. If normalization is needed please use sklearn.preprocessing.StandardScaler instead.\n",
      "  FutureWarning,\n",
      "/opt/conda/lib/python3.7/site-packages/sklearn/linear_model/_base.py:155: FutureWarning: 'normalize' was deprecated in version 1.0 and will be removed in 1.2. Please leave the normalize parameter to its default value to silence this warning. The default behavior of this estimator is to not do any normalization. If normalization is needed please use sklearn.preprocessing.StandardScaler instead.\n",
      "  FutureWarning,\n",
      "/opt/conda/lib/python3.7/site-packages/sklearn/linear_model/_base.py:145: FutureWarning: 'normalize' was deprecated in version 1.0 and will be removed in 1.2.\n",
      "If you wish to scale the data, use Pipeline with a StandardScaler in a preprocessing stage. To reproduce the previous behavior:\n",
      "\n",
      "from sklearn.pipeline import make_pipeline\n",
      "\n",
      "model = make_pipeline(StandardScaler(with_mean=False), LinearRegression())\n",
      "\n",
      "If you wish to pass a sample_weight parameter, you need to pass it as a fit parameter to each step of the pipeline as follows:\n",
      "\n",
      "kwargs = {s[0] + '__sample_weight': sample_weight for s in model.steps}\n",
      "model.fit(X, y, **kwargs)\n",
      "\n",
      "\n",
      "  FutureWarning,\n"
     ]
    },
    {
     "data": {
      "text/plain": [
       "GridSearchCV(cv=5, estimator=LinearRegression(),\n",
       "             param_grid={'fit_intercept': [True, False],\n",
       "                         'normalize': [True, False]},\n",
       "             scoring='r2')"
      ]
     },
     "execution_count": 66,
     "metadata": {},
     "output_type": "execute_result"
    }
   ],
   "source": [
    "parameter = {\"fit_intercept\":[True, False], \"normalize\":[True, False]}\n",
    "lrcv = GridSearchCV(lr, parameter, scoring='r2', cv=5)\n",
    "lrcv.fit(X_train, y_train)"
   ]
  },
  {
   "cell_type": "code",
   "execution_count": 67,
   "id": "6c6eadac",
   "metadata": {
    "execution": {
     "iopub.execute_input": "2022-10-14T10:03:27.128012Z",
     "iopub.status.busy": "2022-10-14T10:03:27.116236Z",
     "iopub.status.idle": "2022-10-14T10:03:27.145449Z",
     "shell.execute_reply": "2022-10-14T10:03:27.143628Z",
     "shell.execute_reply.started": "2022-10-14T10:03:27.127901Z"
    },
    "papermill": {
     "duration": 0.076842,
     "end_time": "2022-10-06T12:08:26.175417",
     "exception": false,
     "start_time": "2022-10-06T12:08:26.098575",
     "status": "completed"
    },
    "tags": []
   },
   "outputs": [
    {
     "data": {
      "text/plain": [
       "{'fit_intercept': True, 'normalize': True}"
      ]
     },
     "execution_count": 67,
     "metadata": {},
     "output_type": "execute_result"
    }
   ],
   "source": [
    "lrcv.best_params_"
   ]
  },
  {
   "cell_type": "code",
   "execution_count": 68,
   "id": "0e93c763",
   "metadata": {
    "execution": {
     "iopub.execute_input": "2022-10-14T10:03:27.151156Z",
     "iopub.status.busy": "2022-10-14T10:03:27.148546Z",
     "iopub.status.idle": "2022-10-14T10:03:27.180371Z",
     "shell.execute_reply": "2022-10-14T10:03:27.178802Z",
     "shell.execute_reply.started": "2022-10-14T10:03:27.151096Z"
    },
    "papermill": {
     "duration": 0.086844,
     "end_time": "2022-10-06T12:08:26.447025",
     "exception": false,
     "start_time": "2022-10-06T12:08:26.360181",
     "status": "completed"
    },
    "tags": []
   },
   "outputs": [
    {
     "data": {
      "text/plain": [
       "0.17382377824967665"
      ]
     },
     "execution_count": 68,
     "metadata": {},
     "output_type": "execute_result"
    }
   ],
   "source": [
    "from sklearn.metrics import r2_score\n",
    "lrcv_predict = lrcv.predict(X_test)\n",
    "score = r2_score(y_true=y_test, y_pred=lrcv_predict)\n",
    "score"
   ]
  },
  {
   "cell_type": "markdown",
   "id": "51c3778a",
   "metadata": {
    "papermill": {
     "duration": 0.0592,
     "end_time": "2022-10-06T12:08:27.243661",
     "exception": false,
     "start_time": "2022-10-06T12:08:27.184461",
     "status": "completed"
    },
    "tags": []
   },
   "source": [
    "# 2. Decision Tree Model"
   ]
  },
  {
   "cell_type": "code",
   "execution_count": 69,
   "id": "c51c4b5c",
   "metadata": {
    "execution": {
     "iopub.execute_input": "2022-10-14T10:03:27.183947Z",
     "iopub.status.busy": "2022-10-14T10:03:27.182877Z",
     "iopub.status.idle": "2022-10-14T10:03:27.309258Z",
     "shell.execute_reply": "2022-10-14T10:03:27.308257Z",
     "shell.execute_reply.started": "2022-10-14T10:03:27.183864Z"
    },
    "papermill": {
     "duration": 0.165471,
     "end_time": "2022-10-06T12:08:27.468172",
     "exception": false,
     "start_time": "2022-10-06T12:08:27.302701",
     "status": "completed"
    },
    "tags": []
   },
   "outputs": [],
   "source": [
    "from sklearn.tree import DecisionTreeRegressor"
   ]
  },
  {
   "cell_type": "code",
   "execution_count": 70,
   "id": "63100f14",
   "metadata": {
    "execution": {
     "iopub.execute_input": "2022-10-14T10:03:27.312075Z",
     "iopub.status.busy": "2022-10-14T10:03:27.310993Z",
     "iopub.status.idle": "2022-10-14T10:03:27.318307Z",
     "shell.execute_reply": "2022-10-14T10:03:27.316765Z",
     "shell.execute_reply.started": "2022-10-14T10:03:27.312022Z"
    },
    "papermill": {
     "duration": 0.068139,
     "end_time": "2022-10-06T12:08:27.595721",
     "exception": false,
     "start_time": "2022-10-06T12:08:27.527582",
     "status": "completed"
    },
    "tags": []
   },
   "outputs": [],
   "source": [
    "dtree = DecisionTreeRegressor(random_state=0)"
   ]
  },
  {
   "cell_type": "code",
   "execution_count": 71,
   "id": "ce14d073",
   "metadata": {
    "execution": {
     "iopub.execute_input": "2022-10-14T10:03:27.320742Z",
     "iopub.status.busy": "2022-10-14T10:03:27.319639Z",
     "iopub.status.idle": "2022-10-14T10:07:04.426952Z",
     "shell.execute_reply": "2022-10-14T10:07:04.425464Z",
     "shell.execute_reply.started": "2022-10-14T10:03:27.320693Z"
    },
    "papermill": {
     "duration": 261.989033,
     "end_time": "2022-10-06T12:12:49.642914",
     "exception": false,
     "start_time": "2022-10-06T12:08:27.653881",
     "status": "completed"
    },
    "tags": []
   },
   "outputs": [
    {
     "data": {
      "text/plain": [
       "GridSearchCV(cv=5, estimator=DecisionTreeRegressor(random_state=0),\n",
       "             param_grid={'criterion': ['squared_error', 'friedman_mse',\n",
       "                                       'absolute_error', 'poisson'],\n",
       "                         'max_features': ['auto', 'sqrt', 'log2'],\n",
       "                         'max_leaf_nodes': [5, 10, 100, 200, 50, 20]},\n",
       "             scoring='neg_mean_squared_error')"
      ]
     },
     "execution_count": 71,
     "metadata": {},
     "output_type": "execute_result"
    }
   ],
   "source": [
    "parameter = {\"criterion\":['squared_error', 'friedman_mse', 'absolute_error', 'poisson'], \n",
    "             \"max_features\":['auto', 'sqrt', 'log2'],\n",
    "            \"max_leaf_nodes\":[5,10,100,200,50,20]}\n",
    "dtreecv = GridSearchCV(dtree, parameter, scoring='neg_mean_squared_error', cv=5)\n",
    "dtreecv.fit(X_train,y_train)"
   ]
  },
  {
   "cell_type": "code",
   "execution_count": 72,
   "id": "86cb333a",
   "metadata": {
    "execution": {
     "iopub.execute_input": "2022-10-14T10:07:04.429381Z",
     "iopub.status.busy": "2022-10-14T10:07:04.428799Z",
     "iopub.status.idle": "2022-10-14T10:07:04.442658Z",
     "shell.execute_reply": "2022-10-14T10:07:04.441244Z",
     "shell.execute_reply.started": "2022-10-14T10:07:04.429281Z"
    },
    "papermill": {
     "duration": 0.07264,
     "end_time": "2022-10-06T12:12:49.773715",
     "exception": false,
     "start_time": "2022-10-06T12:12:49.701075",
     "status": "completed"
    },
    "scrolled": true,
    "tags": []
   },
   "outputs": [
    {
     "data": {
      "text/plain": [
       "0.5829667287578977"
      ]
     },
     "execution_count": 72,
     "metadata": {},
     "output_type": "execute_result"
    }
   ],
   "source": [
    "prediction = dtreecv.predict(X_test)\n",
    "score = r2_score(y_true=y_test, y_pred=prediction)\n",
    "score"
   ]
  },
  {
   "cell_type": "markdown",
   "id": "9df82bbd",
   "metadata": {
    "papermill": {
     "duration": 0.060013,
     "end_time": "2022-10-06T12:12:58.768591",
     "exception": false,
     "start_time": "2022-10-06T12:12:58.708578",
     "status": "completed"
    },
    "tags": []
   },
   "source": [
    "# 3. Lasso Model"
   ]
  },
  {
   "cell_type": "code",
   "execution_count": 73,
   "id": "70c674a6",
   "metadata": {
    "execution": {
     "iopub.execute_input": "2022-10-14T10:07:04.444631Z",
     "iopub.status.busy": "2022-10-14T10:07:04.444272Z",
     "iopub.status.idle": "2022-10-14T10:07:04.449495Z",
     "shell.execute_reply": "2022-10-14T10:07:04.448547Z",
     "shell.execute_reply.started": "2022-10-14T10:07:04.444601Z"
    },
    "papermill": {
     "duration": 0.068002,
     "end_time": "2022-10-06T12:12:58.895598",
     "exception": false,
     "start_time": "2022-10-06T12:12:58.827596",
     "status": "completed"
    },
    "tags": []
   },
   "outputs": [],
   "source": [
    "from sklearn.linear_model import Lasso"
   ]
  },
  {
   "cell_type": "code",
   "execution_count": 74,
   "id": "a00f5010",
   "metadata": {
    "execution": {
     "iopub.execute_input": "2022-10-14T10:07:04.451266Z",
     "iopub.status.busy": "2022-10-14T10:07:04.450882Z",
     "iopub.status.idle": "2022-10-14T10:07:04.461830Z",
     "shell.execute_reply": "2022-10-14T10:07:04.460845Z",
     "shell.execute_reply.started": "2022-10-14T10:07:04.451225Z"
    },
    "papermill": {
     "duration": 0.068836,
     "end_time": "2022-10-06T12:12:59.024312",
     "exception": false,
     "start_time": "2022-10-06T12:12:58.955476",
     "status": "completed"
    },
    "tags": []
   },
   "outputs": [],
   "source": [
    "lasso = Lasso(random_state=0)"
   ]
  },
  {
   "cell_type": "code",
   "execution_count": 75,
   "id": "8a47affe",
   "metadata": {
    "execution": {
     "iopub.execute_input": "2022-10-14T10:07:04.464373Z",
     "iopub.status.busy": "2022-10-14T10:07:04.463570Z",
     "iopub.status.idle": "2022-10-14T10:07:05.547202Z",
     "shell.execute_reply": "2022-10-14T10:07:05.545662Z",
     "shell.execute_reply.started": "2022-10-14T10:07:04.464324Z"
    },
    "papermill": {
     "duration": 1.235008,
     "end_time": "2022-10-06T12:13:00.317659",
     "exception": false,
     "start_time": "2022-10-06T12:12:59.082651",
     "status": "completed"
    },
    "tags": []
   },
   "outputs": [
    {
     "data": {
      "text/plain": [
       "GridSearchCV(cv=5, estimator=Lasso(random_state=0),\n",
       "             param_grid={'alpha': [0.01, 0.001, 0.0001, 0.5, 1]}, scoring='r2')"
      ]
     },
     "execution_count": 75,
     "metadata": {},
     "output_type": "execute_result"
    }
   ],
   "source": [
    "parameter={'alpha':[0.01,0.001,0.0001,0.5,1]}\n",
    "lassocv=GridSearchCV(lasso,parameter,scoring='r2',cv=5)\n",
    "lassocv.fit(X_train,y_train)"
   ]
  },
  {
   "cell_type": "code",
   "execution_count": 76,
   "id": "501d9a8d",
   "metadata": {
    "execution": {
     "iopub.execute_input": "2022-10-14T10:07:05.558388Z",
     "iopub.status.busy": "2022-10-14T10:07:05.554427Z",
     "iopub.status.idle": "2022-10-14T10:07:05.583494Z",
     "shell.execute_reply": "2022-10-14T10:07:05.581814Z",
     "shell.execute_reply.started": "2022-10-14T10:07:05.558315Z"
    },
    "papermill": {
     "duration": 0.083481,
     "end_time": "2022-10-06T12:13:00.530442",
     "exception": false,
     "start_time": "2022-10-06T12:13:00.446961",
     "status": "completed"
    },
    "tags": []
   },
   "outputs": [
    {
     "data": {
      "text/plain": [
       "0.17384510840981027"
      ]
     },
     "execution_count": 76,
     "metadata": {},
     "output_type": "execute_result"
    }
   ],
   "source": [
    "prediction = lassocv.predict(X_test)\n",
    "score = r2_score(y_true = y_test, y_pred=prediction)\n",
    "score"
   ]
  },
  {
   "cell_type": "markdown",
   "id": "6ca9edf8",
   "metadata": {
    "papermill": {
     "duration": 0.066988,
     "end_time": "2022-10-06T12:13:01.100989",
     "exception": false,
     "start_time": "2022-10-06T12:13:01.034001",
     "status": "completed"
    },
    "tags": []
   },
   "source": [
    "# 4. Random Forest Regressor"
   ]
  },
  {
   "cell_type": "code",
   "execution_count": 77,
   "id": "3b0ce0da",
   "metadata": {
    "execution": {
     "iopub.execute_input": "2022-10-14T10:07:05.596333Z",
     "iopub.status.busy": "2022-10-14T10:07:05.591863Z",
     "iopub.status.idle": "2022-10-14T10:07:05.691116Z",
     "shell.execute_reply": "2022-10-14T10:07:05.690124Z",
     "shell.execute_reply.started": "2022-10-14T10:07:05.596243Z"
    },
    "papermill": {
     "duration": 0.163137,
     "end_time": "2022-10-06T12:13:01.333631",
     "exception": false,
     "start_time": "2022-10-06T12:13:01.170494",
     "status": "completed"
    },
    "tags": []
   },
   "outputs": [],
   "source": [
    "from sklearn.ensemble import RandomForestRegressor"
   ]
  },
  {
   "cell_type": "code",
   "execution_count": 78,
   "id": "9c45d261",
   "metadata": {
    "execution": {
     "iopub.execute_input": "2022-10-14T10:07:05.694734Z",
     "iopub.status.busy": "2022-10-14T10:07:05.694246Z",
     "iopub.status.idle": "2022-10-14T10:07:05.700425Z",
     "shell.execute_reply": "2022-10-14T10:07:05.699167Z",
     "shell.execute_reply.started": "2022-10-14T10:07:05.694686Z"
    },
    "papermill": {
     "duration": 0.071804,
     "end_time": "2022-10-06T12:13:01.473921",
     "exception": false,
     "start_time": "2022-10-06T12:13:01.402117",
     "status": "completed"
    },
    "tags": []
   },
   "outputs": [],
   "source": [
    "rf =RandomForestRegressor(random_state= 0)"
   ]
  },
  {
   "cell_type": "code",
   "execution_count": 79,
   "id": "a32204e7",
   "metadata": {
    "execution": {
     "iopub.execute_input": "2022-10-14T10:07:05.704111Z",
     "iopub.status.busy": "2022-10-14T10:07:05.703272Z",
     "iopub.status.idle": "2022-10-14T10:11:05.487994Z",
     "shell.execute_reply": "2022-10-14T10:11:05.486551Z",
     "shell.execute_reply.started": "2022-10-14T10:07:05.704063Z"
    },
    "papermill": {
     "duration": 261.917541,
     "end_time": "2022-10-06T12:17:23.454136",
     "exception": false,
     "start_time": "2022-10-06T12:13:01.536595",
     "status": "completed"
    },
    "scrolled": true,
    "tags": []
   },
   "outputs": [
    {
     "name": "stderr",
     "output_type": "stream",
     "text": [
      "/opt/conda/lib/python3.7/site-packages/sklearn/model_selection/_validation.py:680: DataConversionWarning: A column-vector y was passed when a 1d array was expected. Please change the shape of y to (n_samples,), for example using ravel().\n",
      "  estimator.fit(X_train, y_train, **fit_params)\n",
      "/opt/conda/lib/python3.7/site-packages/sklearn/model_selection/_validation.py:680: DataConversionWarning: A column-vector y was passed when a 1d array was expected. Please change the shape of y to (n_samples,), for example using ravel().\n",
      "  estimator.fit(X_train, y_train, **fit_params)\n",
      "/opt/conda/lib/python3.7/site-packages/sklearn/model_selection/_validation.py:680: DataConversionWarning: A column-vector y was passed when a 1d array was expected. Please change the shape of y to (n_samples,), for example using ravel().\n",
      "  estimator.fit(X_train, y_train, **fit_params)\n",
      "/opt/conda/lib/python3.7/site-packages/sklearn/model_selection/_validation.py:680: DataConversionWarning: A column-vector y was passed when a 1d array was expected. Please change the shape of y to (n_samples,), for example using ravel().\n",
      "  estimator.fit(X_train, y_train, **fit_params)\n",
      "/opt/conda/lib/python3.7/site-packages/sklearn/model_selection/_validation.py:680: DataConversionWarning: A column-vector y was passed when a 1d array was expected. Please change the shape of y to (n_samples,), for example using ravel().\n",
      "  estimator.fit(X_train, y_train, **fit_params)\n",
      "/opt/conda/lib/python3.7/site-packages/sklearn/model_selection/_validation.py:680: DataConversionWarning: A column-vector y was passed when a 1d array was expected. Please change the shape of y to (n_samples,), for example using ravel().\n",
      "  estimator.fit(X_train, y_train, **fit_params)\n",
      "/opt/conda/lib/python3.7/site-packages/sklearn/model_selection/_validation.py:680: DataConversionWarning: A column-vector y was passed when a 1d array was expected. Please change the shape of y to (n_samples,), for example using ravel().\n",
      "  estimator.fit(X_train, y_train, **fit_params)\n",
      "/opt/conda/lib/python3.7/site-packages/sklearn/model_selection/_validation.py:680: DataConversionWarning: A column-vector y was passed when a 1d array was expected. Please change the shape of y to (n_samples,), for example using ravel().\n",
      "  estimator.fit(X_train, y_train, **fit_params)\n",
      "/opt/conda/lib/python3.7/site-packages/sklearn/model_selection/_validation.py:680: DataConversionWarning: A column-vector y was passed when a 1d array was expected. Please change the shape of y to (n_samples,), for example using ravel().\n",
      "  estimator.fit(X_train, y_train, **fit_params)\n",
      "/opt/conda/lib/python3.7/site-packages/sklearn/model_selection/_validation.py:680: DataConversionWarning: A column-vector y was passed when a 1d array was expected. Please change the shape of y to (n_samples,), for example using ravel().\n",
      "  estimator.fit(X_train, y_train, **fit_params)\n",
      "/opt/conda/lib/python3.7/site-packages/sklearn/model_selection/_validation.py:680: DataConversionWarning: A column-vector y was passed when a 1d array was expected. Please change the shape of y to (n_samples,), for example using ravel().\n",
      "  estimator.fit(X_train, y_train, **fit_params)\n",
      "/opt/conda/lib/python3.7/site-packages/sklearn/model_selection/_validation.py:680: DataConversionWarning: A column-vector y was passed when a 1d array was expected. Please change the shape of y to (n_samples,), for example using ravel().\n",
      "  estimator.fit(X_train, y_train, **fit_params)\n",
      "/opt/conda/lib/python3.7/site-packages/sklearn/model_selection/_validation.py:680: DataConversionWarning: A column-vector y was passed when a 1d array was expected. Please change the shape of y to (n_samples,), for example using ravel().\n",
      "  estimator.fit(X_train, y_train, **fit_params)\n",
      "/opt/conda/lib/python3.7/site-packages/sklearn/model_selection/_validation.py:680: DataConversionWarning: A column-vector y was passed when a 1d array was expected. Please change the shape of y to (n_samples,), for example using ravel().\n",
      "  estimator.fit(X_train, y_train, **fit_params)\n",
      "/opt/conda/lib/python3.7/site-packages/sklearn/model_selection/_validation.py:680: DataConversionWarning: A column-vector y was passed when a 1d array was expected. Please change the shape of y to (n_samples,), for example using ravel().\n",
      "  estimator.fit(X_train, y_train, **fit_params)\n",
      "/opt/conda/lib/python3.7/site-packages/sklearn/model_selection/_validation.py:680: DataConversionWarning: A column-vector y was passed when a 1d array was expected. Please change the shape of y to (n_samples,), for example using ravel().\n",
      "  estimator.fit(X_train, y_train, **fit_params)\n",
      "/opt/conda/lib/python3.7/site-packages/sklearn/model_selection/_validation.py:680: DataConversionWarning: A column-vector y was passed when a 1d array was expected. Please change the shape of y to (n_samples,), for example using ravel().\n",
      "  estimator.fit(X_train, y_train, **fit_params)\n",
      "/opt/conda/lib/python3.7/site-packages/sklearn/model_selection/_validation.py:680: DataConversionWarning: A column-vector y was passed when a 1d array was expected. Please change the shape of y to (n_samples,), for example using ravel().\n",
      "  estimator.fit(X_train, y_train, **fit_params)\n",
      "/opt/conda/lib/python3.7/site-packages/sklearn/model_selection/_validation.py:680: DataConversionWarning: A column-vector y was passed when a 1d array was expected. Please change the shape of y to (n_samples,), for example using ravel().\n",
      "  estimator.fit(X_train, y_train, **fit_params)\n",
      "/opt/conda/lib/python3.7/site-packages/sklearn/model_selection/_validation.py:680: DataConversionWarning: A column-vector y was passed when a 1d array was expected. Please change the shape of y to (n_samples,), for example using ravel().\n",
      "  estimator.fit(X_train, y_train, **fit_params)\n",
      "/opt/conda/lib/python3.7/site-packages/sklearn/model_selection/_validation.py:680: DataConversionWarning: A column-vector y was passed when a 1d array was expected. Please change the shape of y to (n_samples,), for example using ravel().\n",
      "  estimator.fit(X_train, y_train, **fit_params)\n",
      "/opt/conda/lib/python3.7/site-packages/sklearn/model_selection/_validation.py:680: DataConversionWarning: A column-vector y was passed when a 1d array was expected. Please change the shape of y to (n_samples,), for example using ravel().\n",
      "  estimator.fit(X_train, y_train, **fit_params)\n",
      "/opt/conda/lib/python3.7/site-packages/sklearn/model_selection/_validation.py:680: DataConversionWarning: A column-vector y was passed when a 1d array was expected. Please change the shape of y to (n_samples,), for example using ravel().\n",
      "  estimator.fit(X_train, y_train, **fit_params)\n",
      "/opt/conda/lib/python3.7/site-packages/sklearn/model_selection/_validation.py:680: DataConversionWarning: A column-vector y was passed when a 1d array was expected. Please change the shape of y to (n_samples,), for example using ravel().\n",
      "  estimator.fit(X_train, y_train, **fit_params)\n",
      "/opt/conda/lib/python3.7/site-packages/sklearn/model_selection/_validation.py:680: DataConversionWarning: A column-vector y was passed when a 1d array was expected. Please change the shape of y to (n_samples,), for example using ravel().\n",
      "  estimator.fit(X_train, y_train, **fit_params)\n",
      "/opt/conda/lib/python3.7/site-packages/sklearn/model_selection/_validation.py:680: DataConversionWarning: A column-vector y was passed when a 1d array was expected. Please change the shape of y to (n_samples,), for example using ravel().\n",
      "  estimator.fit(X_train, y_train, **fit_params)\n",
      "/opt/conda/lib/python3.7/site-packages/sklearn/model_selection/_validation.py:680: DataConversionWarning: A column-vector y was passed when a 1d array was expected. Please change the shape of y to (n_samples,), for example using ravel().\n",
      "  estimator.fit(X_train, y_train, **fit_params)\n",
      "/opt/conda/lib/python3.7/site-packages/sklearn/model_selection/_validation.py:680: DataConversionWarning: A column-vector y was passed when a 1d array was expected. Please change the shape of y to (n_samples,), for example using ravel().\n",
      "  estimator.fit(X_train, y_train, **fit_params)\n",
      "/opt/conda/lib/python3.7/site-packages/sklearn/model_selection/_validation.py:680: DataConversionWarning: A column-vector y was passed when a 1d array was expected. Please change the shape of y to (n_samples,), for example using ravel().\n",
      "  estimator.fit(X_train, y_train, **fit_params)\n",
      "/opt/conda/lib/python3.7/site-packages/sklearn/model_selection/_validation.py:680: DataConversionWarning: A column-vector y was passed when a 1d array was expected. Please change the shape of y to (n_samples,), for example using ravel().\n",
      "  estimator.fit(X_train, y_train, **fit_params)\n",
      "/opt/conda/lib/python3.7/site-packages/sklearn/model_selection/_validation.py:680: DataConversionWarning: A column-vector y was passed when a 1d array was expected. Please change the shape of y to (n_samples,), for example using ravel().\n",
      "  estimator.fit(X_train, y_train, **fit_params)\n",
      "/opt/conda/lib/python3.7/site-packages/sklearn/model_selection/_validation.py:680: DataConversionWarning: A column-vector y was passed when a 1d array was expected. Please change the shape of y to (n_samples,), for example using ravel().\n",
      "  estimator.fit(X_train, y_train, **fit_params)\n",
      "/opt/conda/lib/python3.7/site-packages/sklearn/model_selection/_validation.py:680: DataConversionWarning: A column-vector y was passed when a 1d array was expected. Please change the shape of y to (n_samples,), for example using ravel().\n",
      "  estimator.fit(X_train, y_train, **fit_params)\n",
      "/opt/conda/lib/python3.7/site-packages/sklearn/model_selection/_validation.py:680: DataConversionWarning: A column-vector y was passed when a 1d array was expected. Please change the shape of y to (n_samples,), for example using ravel().\n",
      "  estimator.fit(X_train, y_train, **fit_params)\n",
      "/opt/conda/lib/python3.7/site-packages/sklearn/model_selection/_validation.py:680: DataConversionWarning: A column-vector y was passed when a 1d array was expected. Please change the shape of y to (n_samples,), for example using ravel().\n",
      "  estimator.fit(X_train, y_train, **fit_params)\n",
      "/opt/conda/lib/python3.7/site-packages/sklearn/model_selection/_validation.py:680: DataConversionWarning: A column-vector y was passed when a 1d array was expected. Please change the shape of y to (n_samples,), for example using ravel().\n",
      "  estimator.fit(X_train, y_train, **fit_params)\n",
      "/opt/conda/lib/python3.7/site-packages/sklearn/model_selection/_validation.py:680: DataConversionWarning: A column-vector y was passed when a 1d array was expected. Please change the shape of y to (n_samples,), for example using ravel().\n",
      "  estimator.fit(X_train, y_train, **fit_params)\n",
      "/opt/conda/lib/python3.7/site-packages/sklearn/model_selection/_validation.py:680: DataConversionWarning: A column-vector y was passed when a 1d array was expected. Please change the shape of y to (n_samples,), for example using ravel().\n",
      "  estimator.fit(X_train, y_train, **fit_params)\n",
      "/opt/conda/lib/python3.7/site-packages/sklearn/model_selection/_validation.py:680: DataConversionWarning: A column-vector y was passed when a 1d array was expected. Please change the shape of y to (n_samples,), for example using ravel().\n",
      "  estimator.fit(X_train, y_train, **fit_params)\n",
      "/opt/conda/lib/python3.7/site-packages/sklearn/model_selection/_validation.py:680: DataConversionWarning: A column-vector y was passed when a 1d array was expected. Please change the shape of y to (n_samples,), for example using ravel().\n",
      "  estimator.fit(X_train, y_train, **fit_params)\n",
      "/opt/conda/lib/python3.7/site-packages/sklearn/model_selection/_search.py:926: DataConversionWarning: A column-vector y was passed when a 1d array was expected. Please change the shape of y to (n_samples,), for example using ravel().\n",
      "  self.best_estimator_.fit(X, y, **fit_params)\n"
     ]
    },
    {
     "data": {
      "text/plain": [
       "GridSearchCV(cv=5, estimator=RandomForestRegressor(random_state=0),\n",
       "             param_grid={'max_features': [2, 3],\n",
       "                         'n_estimators': [100, 200, 300, 1000]},\n",
       "             scoring='r2')"
      ]
     },
     "execution_count": 79,
     "metadata": {},
     "output_type": "execute_result"
    }
   ],
   "source": [
    "parameter = {\n",
    "    'max_features': [2, 3],\n",
    "    'n_estimators': [100, 200, 300, 1000]\n",
    "}\n",
    "rfcv = GridSearchCV(rf,parameter,scoring='r2',cv=5)\n",
    "rfcv.fit(X_train, y_train)"
   ]
  },
  {
   "cell_type": "code",
   "execution_count": 80,
   "id": "08117be9",
   "metadata": {
    "execution": {
     "iopub.execute_input": "2022-10-14T10:11:05.490562Z",
     "iopub.status.busy": "2022-10-14T10:11:05.490052Z",
     "iopub.status.idle": "2022-10-14T10:11:06.760791Z",
     "shell.execute_reply": "2022-10-14T10:11:06.759683Z",
     "shell.execute_reply.started": "2022-10-14T10:11:05.490515Z"
    },
    "papermill": {
     "duration": 1.469152,
     "end_time": "2022-10-06T12:17:24.984777",
     "exception": false,
     "start_time": "2022-10-06T12:17:23.515625",
     "status": "completed"
    },
    "tags": []
   },
   "outputs": [
    {
     "data": {
      "text/plain": [
       "0.7453513686425342"
      ]
     },
     "execution_count": 80,
     "metadata": {},
     "output_type": "execute_result"
    }
   ],
   "source": [
    "prediction = rfcv.predict(X_test)\n",
    "score = r2_score(y_true = y_test, y_pred = prediction)\n",
    "score"
   ]
  },
  {
   "cell_type": "markdown",
   "id": "c0c59cd5",
   "metadata": {
    "papermill": {
     "duration": 0.06274,
     "end_time": "2022-10-06T12:17:43.022089",
     "exception": false,
     "start_time": "2022-10-06T12:17:42.959349",
     "status": "completed"
    },
    "tags": []
   },
   "source": [
    "# 5. KNeighbor"
   ]
  },
  {
   "cell_type": "code",
   "execution_count": 81,
   "id": "c578d833",
   "metadata": {
    "execution": {
     "iopub.execute_input": "2022-10-14T10:11:06.764429Z",
     "iopub.status.busy": "2022-10-14T10:11:06.763003Z",
     "iopub.status.idle": "2022-10-14T10:11:06.770099Z",
     "shell.execute_reply": "2022-10-14T10:11:06.768401Z",
     "shell.execute_reply.started": "2022-10-14T10:11:06.764378Z"
    },
    "papermill": {
     "duration": 0.148773,
     "end_time": "2022-10-06T12:17:43.234772",
     "exception": false,
     "start_time": "2022-10-06T12:17:43.085999",
     "status": "completed"
    },
    "tags": []
   },
   "outputs": [],
   "source": [
    "from sklearn.neighbors import KNeighborsRegressor"
   ]
  },
  {
   "cell_type": "code",
   "execution_count": 82,
   "id": "6d27f272",
   "metadata": {
    "execution": {
     "iopub.execute_input": "2022-10-14T10:11:06.773149Z",
     "iopub.status.busy": "2022-10-14T10:11:06.772528Z",
     "iopub.status.idle": "2022-10-14T10:11:06.782710Z",
     "shell.execute_reply": "2022-10-14T10:11:06.781508Z",
     "shell.execute_reply.started": "2022-10-14T10:11:06.773099Z"
    },
    "papermill": {
     "duration": 0.071217,
     "end_time": "2022-10-06T12:17:43.367659",
     "exception": false,
     "start_time": "2022-10-06T12:17:43.296442",
     "status": "completed"
    },
    "tags": []
   },
   "outputs": [],
   "source": [
    "kn = KNeighborsRegressor()"
   ]
  },
  {
   "cell_type": "code",
   "execution_count": 83,
   "id": "aad3451b",
   "metadata": {
    "execution": {
     "iopub.execute_input": "2022-10-14T10:11:06.785064Z",
     "iopub.status.busy": "2022-10-14T10:11:06.784577Z",
     "iopub.status.idle": "2022-10-14T10:11:29.632337Z",
     "shell.execute_reply": "2022-10-14T10:11:29.631019Z",
     "shell.execute_reply.started": "2022-10-14T10:11:06.785017Z"
    },
    "papermill": {
     "duration": 26.095996,
     "end_time": "2022-10-06T12:18:09.525062",
     "exception": false,
     "start_time": "2022-10-06T12:17:43.429066",
     "status": "completed"
    },
    "tags": []
   },
   "outputs": [
    {
     "data": {
      "text/plain": [
       "GridSearchCV(cv=5, estimator=KNeighborsRegressor(),\n",
       "             param_grid={'n_neighbors': [1, 2, 3, 4, 5, 10, 20, 50]},\n",
       "             scoring='r2')"
      ]
     },
     "execution_count": 83,
     "metadata": {},
     "output_type": "execute_result"
    }
   ],
   "source": [
    "parameter = {\"n_neighbors\":[1,2,3,4,5,10,20,50]}\n",
    "kncv = GridSearchCV(kn,parameter, scoring='r2',cv=5)\n",
    "kncv.fit(X_train, y_train)"
   ]
  },
  {
   "cell_type": "code",
   "execution_count": 84,
   "id": "e5cf8fff",
   "metadata": {
    "execution": {
     "iopub.execute_input": "2022-10-14T10:11:29.634205Z",
     "iopub.status.busy": "2022-10-14T10:11:29.633641Z",
     "iopub.status.idle": "2022-10-14T10:11:30.660606Z",
     "shell.execute_reply": "2022-10-14T10:11:30.659811Z",
     "shell.execute_reply.started": "2022-10-14T10:11:29.634175Z"
    },
    "papermill": {
     "duration": 1.281097,
     "end_time": "2022-10-06T12:18:10.868691",
     "exception": false,
     "start_time": "2022-10-06T12:18:09.587594",
     "status": "completed"
    },
    "tags": []
   },
   "outputs": [
    {
     "data": {
      "text/plain": [
       "0.6032308073303307"
      ]
     },
     "execution_count": 84,
     "metadata": {},
     "output_type": "execute_result"
    }
   ],
   "source": [
    "prediction = kncv.predict(X_test)\n",
    "score = r2_score(y_true=y_test, y_pred=prediction)\n",
    "score"
   ]
  },
  {
   "cell_type": "markdown",
   "id": "d3eb8de1",
   "metadata": {
    "papermill": {
     "duration": 0.062845,
     "end_time": "2022-10-06T12:18:12.410345",
     "exception": false,
     "start_time": "2022-10-06T12:18:12.347500",
     "status": "completed"
    },
    "tags": []
   },
   "source": [
    "# 6. XGB Regressor"
   ]
  },
  {
   "cell_type": "code",
   "execution_count": 85,
   "id": "77573548",
   "metadata": {
    "execution": {
     "iopub.execute_input": "2022-10-14T10:11:30.662804Z",
     "iopub.status.busy": "2022-10-14T10:11:30.661889Z",
     "iopub.status.idle": "2022-10-14T10:11:30.798543Z",
     "shell.execute_reply": "2022-10-14T10:11:30.797211Z",
     "shell.execute_reply.started": "2022-10-14T10:11:30.662758Z"
    },
    "papermill": {
     "duration": 0.180511,
     "end_time": "2022-10-06T12:18:12.653303",
     "exception": false,
     "start_time": "2022-10-06T12:18:12.472792",
     "status": "completed"
    },
    "tags": []
   },
   "outputs": [],
   "source": [
    "from xgboost import XGBRegressor"
   ]
  },
  {
   "cell_type": "code",
   "execution_count": 86,
   "id": "bf20c1d8",
   "metadata": {
    "execution": {
     "iopub.execute_input": "2022-10-14T10:11:30.800522Z",
     "iopub.status.busy": "2022-10-14T10:11:30.800145Z",
     "iopub.status.idle": "2022-10-14T10:11:30.805796Z",
     "shell.execute_reply": "2022-10-14T10:11:30.804505Z",
     "shell.execute_reply.started": "2022-10-14T10:11:30.800487Z"
    },
    "papermill": {
     "duration": 0.071434,
     "end_time": "2022-10-06T12:18:12.787520",
     "exception": false,
     "start_time": "2022-10-06T12:18:12.716086",
     "status": "completed"
    },
    "tags": []
   },
   "outputs": [],
   "source": [
    "xgb = XGBRegressor()"
   ]
  },
  {
   "cell_type": "code",
   "execution_count": 87,
   "id": "7fb1a1fc",
   "metadata": {
    "execution": {
     "iopub.execute_input": "2022-10-14T10:11:30.807561Z",
     "iopub.status.busy": "2022-10-14T10:11:30.807208Z",
     "iopub.status.idle": "2022-10-14T10:12:17.600409Z",
     "shell.execute_reply": "2022-10-14T10:12:17.599332Z",
     "shell.execute_reply.started": "2022-10-14T10:11:30.807527Z"
    },
    "papermill": {
     "duration": 50.274988,
     "end_time": "2022-10-06T12:19:03.124373",
     "exception": false,
     "start_time": "2022-10-06T12:18:12.849385",
     "status": "completed"
    },
    "scrolled": true,
    "tags": []
   },
   "outputs": [
    {
     "name": "stdout",
     "output_type": "stream",
     "text": [
      "[10:11:30] WARNING: ../src/learner.cc:627: \n",
      "Parameters: { \"n_neighbors\" } might not be used.\n",
      "\n",
      "  This could be a false alarm, with some parameters getting used by language bindings but\n",
      "  then being mistakenly passed down to XGBoost core, or some parameter actually being used\n",
      "  but getting flagged wrongly here. Please open an issue if you find any such cases.\n",
      "\n",
      "\n",
      "[10:11:32] WARNING: ../src/learner.cc:627: \n",
      "Parameters: { \"n_neighbors\" } might not be used.\n",
      "\n",
      "  This could be a false alarm, with some parameters getting used by language bindings but\n",
      "  then being mistakenly passed down to XGBoost core, or some parameter actually being used\n",
      "  but getting flagged wrongly here. Please open an issue if you find any such cases.\n",
      "\n",
      "\n",
      "[10:11:33] WARNING: ../src/learner.cc:627: \n",
      "Parameters: { \"n_neighbors\" } might not be used.\n",
      "\n",
      "  This could be a false alarm, with some parameters getting used by language bindings but\n",
      "  then being mistakenly passed down to XGBoost core, or some parameter actually being used\n",
      "  but getting flagged wrongly here. Please open an issue if you find any such cases.\n",
      "\n",
      "\n",
      "[10:11:34] WARNING: ../src/learner.cc:627: \n",
      "Parameters: { \"n_neighbors\" } might not be used.\n",
      "\n",
      "  This could be a false alarm, with some parameters getting used by language bindings but\n",
      "  then being mistakenly passed down to XGBoost core, or some parameter actually being used\n",
      "  but getting flagged wrongly here. Please open an issue if you find any such cases.\n",
      "\n",
      "\n",
      "[10:11:35] WARNING: ../src/learner.cc:627: \n",
      "Parameters: { \"n_neighbors\" } might not be used.\n",
      "\n",
      "  This could be a false alarm, with some parameters getting used by language bindings but\n",
      "  then being mistakenly passed down to XGBoost core, or some parameter actually being used\n",
      "  but getting flagged wrongly here. Please open an issue if you find any such cases.\n",
      "\n",
      "\n",
      "[10:11:36] WARNING: ../src/learner.cc:627: \n",
      "Parameters: { \"n_neighbors\" } might not be used.\n",
      "\n",
      "  This could be a false alarm, with some parameters getting used by language bindings but\n",
      "  then being mistakenly passed down to XGBoost core, or some parameter actually being used\n",
      "  but getting flagged wrongly here. Please open an issue if you find any such cases.\n",
      "\n",
      "\n",
      "[10:11:37] WARNING: ../src/learner.cc:627: \n",
      "Parameters: { \"n_neighbors\" } might not be used.\n",
      "\n",
      "  This could be a false alarm, with some parameters getting used by language bindings but\n",
      "  then being mistakenly passed down to XGBoost core, or some parameter actually being used\n",
      "  but getting flagged wrongly here. Please open an issue if you find any such cases.\n",
      "\n",
      "\n",
      "[10:11:38] WARNING: ../src/learner.cc:627: \n",
      "Parameters: { \"n_neighbors\" } might not be used.\n",
      "\n",
      "  This could be a false alarm, with some parameters getting used by language bindings but\n",
      "  then being mistakenly passed down to XGBoost core, or some parameter actually being used\n",
      "  but getting flagged wrongly here. Please open an issue if you find any such cases.\n",
      "\n",
      "\n",
      "[10:11:39] WARNING: ../src/learner.cc:627: \n",
      "Parameters: { \"n_neighbors\" } might not be used.\n",
      "\n",
      "  This could be a false alarm, with some parameters getting used by language bindings but\n",
      "  then being mistakenly passed down to XGBoost core, or some parameter actually being used\n",
      "  but getting flagged wrongly here. Please open an issue if you find any such cases.\n",
      "\n",
      "\n",
      "[10:11:40] WARNING: ../src/learner.cc:627: \n",
      "Parameters: { \"n_neighbors\" } might not be used.\n",
      "\n",
      "  This could be a false alarm, with some parameters getting used by language bindings but\n",
      "  then being mistakenly passed down to XGBoost core, or some parameter actually being used\n",
      "  but getting flagged wrongly here. Please open an issue if you find any such cases.\n",
      "\n",
      "\n",
      "[10:11:41] WARNING: ../src/learner.cc:627: \n",
      "Parameters: { \"n_neighbors\" } might not be used.\n",
      "\n",
      "  This could be a false alarm, with some parameters getting used by language bindings but\n",
      "  then being mistakenly passed down to XGBoost core, or some parameter actually being used\n",
      "  but getting flagged wrongly here. Please open an issue if you find any such cases.\n",
      "\n",
      "\n",
      "[10:11:43] WARNING: ../src/learner.cc:627: \n",
      "Parameters: { \"n_neighbors\" } might not be used.\n",
      "\n",
      "  This could be a false alarm, with some parameters getting used by language bindings but\n",
      "  then being mistakenly passed down to XGBoost core, or some parameter actually being used\n",
      "  but getting flagged wrongly here. Please open an issue if you find any such cases.\n",
      "\n",
      "\n",
      "[10:11:44] WARNING: ../src/learner.cc:627: \n",
      "Parameters: { \"n_neighbors\" } might not be used.\n",
      "\n",
      "  This could be a false alarm, with some parameters getting used by language bindings but\n",
      "  then being mistakenly passed down to XGBoost core, or some parameter actually being used\n",
      "  but getting flagged wrongly here. Please open an issue if you find any such cases.\n",
      "\n",
      "\n",
      "[10:11:45] WARNING: ../src/learner.cc:627: \n",
      "Parameters: { \"n_neighbors\" } might not be used.\n",
      "\n",
      "  This could be a false alarm, with some parameters getting used by language bindings but\n",
      "  then being mistakenly passed down to XGBoost core, or some parameter actually being used\n",
      "  but getting flagged wrongly here. Please open an issue if you find any such cases.\n",
      "\n",
      "\n",
      "[10:11:46] WARNING: ../src/learner.cc:627: \n",
      "Parameters: { \"n_neighbors\" } might not be used.\n",
      "\n",
      "  This could be a false alarm, with some parameters getting used by language bindings but\n",
      "  then being mistakenly passed down to XGBoost core, or some parameter actually being used\n",
      "  but getting flagged wrongly here. Please open an issue if you find any such cases.\n",
      "\n",
      "\n",
      "[10:11:47] WARNING: ../src/learner.cc:627: \n",
      "Parameters: { \"n_neighbors\" } might not be used.\n",
      "\n",
      "  This could be a false alarm, with some parameters getting used by language bindings but\n",
      "  then being mistakenly passed down to XGBoost core, or some parameter actually being used\n",
      "  but getting flagged wrongly here. Please open an issue if you find any such cases.\n",
      "\n",
      "\n",
      "[10:11:48] WARNING: ../src/learner.cc:627: \n",
      "Parameters: { \"n_neighbors\" } might not be used.\n",
      "\n",
      "  This could be a false alarm, with some parameters getting used by language bindings but\n",
      "  then being mistakenly passed down to XGBoost core, or some parameter actually being used\n",
      "  but getting flagged wrongly here. Please open an issue if you find any such cases.\n",
      "\n",
      "\n",
      "[10:11:49] WARNING: ../src/learner.cc:627: \n",
      "Parameters: { \"n_neighbors\" } might not be used.\n",
      "\n",
      "  This could be a false alarm, with some parameters getting used by language bindings but\n",
      "  then being mistakenly passed down to XGBoost core, or some parameter actually being used\n",
      "  but getting flagged wrongly here. Please open an issue if you find any such cases.\n",
      "\n",
      "\n",
      "[10:11:51] WARNING: ../src/learner.cc:627: \n",
      "Parameters: { \"n_neighbors\" } might not be used.\n",
      "\n",
      "  This could be a false alarm, with some parameters getting used by language bindings but\n",
      "  then being mistakenly passed down to XGBoost core, or some parameter actually being used\n",
      "  but getting flagged wrongly here. Please open an issue if you find any such cases.\n",
      "\n",
      "\n",
      "[10:11:52] WARNING: ../src/learner.cc:627: \n",
      "Parameters: { \"n_neighbors\" } might not be used.\n",
      "\n",
      "  This could be a false alarm, with some parameters getting used by language bindings but\n",
      "  then being mistakenly passed down to XGBoost core, or some parameter actually being used\n",
      "  but getting flagged wrongly here. Please open an issue if you find any such cases.\n",
      "\n",
      "\n",
      "[10:11:54] WARNING: ../src/learner.cc:627: \n",
      "Parameters: { \"n_neighbors\" } might not be used.\n",
      "\n",
      "  This could be a false alarm, with some parameters getting used by language bindings but\n",
      "  then being mistakenly passed down to XGBoost core, or some parameter actually being used\n",
      "  but getting flagged wrongly here. Please open an issue if you find any such cases.\n",
      "\n",
      "\n",
      "[10:11:55] WARNING: ../src/learner.cc:627: \n",
      "Parameters: { \"n_neighbors\" } might not be used.\n",
      "\n",
      "  This could be a false alarm, with some parameters getting used by language bindings but\n",
      "  then being mistakenly passed down to XGBoost core, or some parameter actually being used\n",
      "  but getting flagged wrongly here. Please open an issue if you find any such cases.\n",
      "\n",
      "\n",
      "[10:11:56] WARNING: ../src/learner.cc:627: \n",
      "Parameters: { \"n_neighbors\" } might not be used.\n",
      "\n",
      "  This could be a false alarm, with some parameters getting used by language bindings but\n",
      "  then being mistakenly passed down to XGBoost core, or some parameter actually being used\n",
      "  but getting flagged wrongly here. Please open an issue if you find any such cases.\n",
      "\n",
      "\n",
      "[10:11:57] WARNING: ../src/learner.cc:627: \n",
      "Parameters: { \"n_neighbors\" } might not be used.\n",
      "\n",
      "  This could be a false alarm, with some parameters getting used by language bindings but\n",
      "  then being mistakenly passed down to XGBoost core, or some parameter actually being used\n",
      "  but getting flagged wrongly here. Please open an issue if you find any such cases.\n",
      "\n",
      "\n",
      "[10:11:58] WARNING: ../src/learner.cc:627: \n",
      "Parameters: { \"n_neighbors\" } might not be used.\n",
      "\n",
      "  This could be a false alarm, with some parameters getting used by language bindings but\n",
      "  then being mistakenly passed down to XGBoost core, or some parameter actually being used\n",
      "  but getting flagged wrongly here. Please open an issue if you find any such cases.\n",
      "\n",
      "\n",
      "[10:11:59] WARNING: ../src/learner.cc:627: \n",
      "Parameters: { \"n_neighbors\" } might not be used.\n",
      "\n",
      "  This could be a false alarm, with some parameters getting used by language bindings but\n",
      "  then being mistakenly passed down to XGBoost core, or some parameter actually being used\n",
      "  but getting flagged wrongly here. Please open an issue if you find any such cases.\n",
      "\n",
      "\n",
      "[10:12:00] WARNING: ../src/learner.cc:627: \n",
      "Parameters: { \"n_neighbors\" } might not be used.\n",
      "\n",
      "  This could be a false alarm, with some parameters getting used by language bindings but\n",
      "  then being mistakenly passed down to XGBoost core, or some parameter actually being used\n",
      "  but getting flagged wrongly here. Please open an issue if you find any such cases.\n",
      "\n",
      "\n",
      "[10:12:01] WARNING: ../src/learner.cc:627: \n",
      "Parameters: { \"n_neighbors\" } might not be used.\n",
      "\n",
      "  This could be a false alarm, with some parameters getting used by language bindings but\n",
      "  then being mistakenly passed down to XGBoost core, or some parameter actually being used\n",
      "  but getting flagged wrongly here. Please open an issue if you find any such cases.\n",
      "\n",
      "\n",
      "[10:12:02] WARNING: ../src/learner.cc:627: \n",
      "Parameters: { \"n_neighbors\" } might not be used.\n",
      "\n",
      "  This could be a false alarm, with some parameters getting used by language bindings but\n",
      "  then being mistakenly passed down to XGBoost core, or some parameter actually being used\n",
      "  but getting flagged wrongly here. Please open an issue if you find any such cases.\n",
      "\n",
      "\n",
      "[10:12:04] WARNING: ../src/learner.cc:627: \n",
      "Parameters: { \"n_neighbors\" } might not be used.\n",
      "\n",
      "  This could be a false alarm, with some parameters getting used by language bindings but\n",
      "  then being mistakenly passed down to XGBoost core, or some parameter actually being used\n",
      "  but getting flagged wrongly here. Please open an issue if you find any such cases.\n",
      "\n",
      "\n",
      "[10:12:05] WARNING: ../src/learner.cc:627: \n",
      "Parameters: { \"n_neighbors\" } might not be used.\n",
      "\n",
      "  This could be a false alarm, with some parameters getting used by language bindings but\n",
      "  then being mistakenly passed down to XGBoost core, or some parameter actually being used\n",
      "  but getting flagged wrongly here. Please open an issue if you find any such cases.\n",
      "\n",
      "\n",
      "[10:12:06] WARNING: ../src/learner.cc:627: \n",
      "Parameters: { \"n_neighbors\" } might not be used.\n",
      "\n",
      "  This could be a false alarm, with some parameters getting used by language bindings but\n",
      "  then being mistakenly passed down to XGBoost core, or some parameter actually being used\n",
      "  but getting flagged wrongly here. Please open an issue if you find any such cases.\n",
      "\n",
      "\n",
      "[10:12:07] WARNING: ../src/learner.cc:627: \n",
      "Parameters: { \"n_neighbors\" } might not be used.\n",
      "\n",
      "  This could be a false alarm, with some parameters getting used by language bindings but\n",
      "  then being mistakenly passed down to XGBoost core, or some parameter actually being used\n",
      "  but getting flagged wrongly here. Please open an issue if you find any such cases.\n",
      "\n",
      "\n",
      "[10:12:08] WARNING: ../src/learner.cc:627: \n",
      "Parameters: { \"n_neighbors\" } might not be used.\n",
      "\n",
      "  This could be a false alarm, with some parameters getting used by language bindings but\n",
      "  then being mistakenly passed down to XGBoost core, or some parameter actually being used\n",
      "  but getting flagged wrongly here. Please open an issue if you find any such cases.\n",
      "\n",
      "\n",
      "[10:12:09] WARNING: ../src/learner.cc:627: \n",
      "Parameters: { \"n_neighbors\" } might not be used.\n",
      "\n",
      "  This could be a false alarm, with some parameters getting used by language bindings but\n",
      "  then being mistakenly passed down to XGBoost core, or some parameter actually being used\n",
      "  but getting flagged wrongly here. Please open an issue if you find any such cases.\n",
      "\n",
      "\n",
      "[10:12:10] WARNING: ../src/learner.cc:627: \n",
      "Parameters: { \"n_neighbors\" } might not be used.\n",
      "\n",
      "  This could be a false alarm, with some parameters getting used by language bindings but\n",
      "  then being mistakenly passed down to XGBoost core, or some parameter actually being used\n",
      "  but getting flagged wrongly here. Please open an issue if you find any such cases.\n",
      "\n",
      "\n",
      "[10:12:11] WARNING: ../src/learner.cc:627: \n",
      "Parameters: { \"n_neighbors\" } might not be used.\n",
      "\n",
      "  This could be a false alarm, with some parameters getting used by language bindings but\n",
      "  then being mistakenly passed down to XGBoost core, or some parameter actually being used\n",
      "  but getting flagged wrongly here. Please open an issue if you find any such cases.\n",
      "\n",
      "\n",
      "[10:12:12] WARNING: ../src/learner.cc:627: \n",
      "Parameters: { \"n_neighbors\" } might not be used.\n",
      "\n",
      "  This could be a false alarm, with some parameters getting used by language bindings but\n",
      "  then being mistakenly passed down to XGBoost core, or some parameter actually being used\n",
      "  but getting flagged wrongly here. Please open an issue if you find any such cases.\n",
      "\n",
      "\n",
      "[10:12:14] WARNING: ../src/learner.cc:627: \n",
      "Parameters: { \"n_neighbors\" } might not be used.\n",
      "\n",
      "  This could be a false alarm, with some parameters getting used by language bindings but\n",
      "  then being mistakenly passed down to XGBoost core, or some parameter actually being used\n",
      "  but getting flagged wrongly here. Please open an issue if you find any such cases.\n",
      "\n",
      "\n",
      "[10:12:15] WARNING: ../src/learner.cc:627: \n",
      "Parameters: { \"n_neighbors\" } might not be used.\n",
      "\n",
      "  This could be a false alarm, with some parameters getting used by language bindings but\n",
      "  then being mistakenly passed down to XGBoost core, or some parameter actually being used\n",
      "  but getting flagged wrongly here. Please open an issue if you find any such cases.\n",
      "\n",
      "\n",
      "[10:12:16] WARNING: ../src/learner.cc:627: \n",
      "Parameters: { \"n_neighbors\" } might not be used.\n",
      "\n",
      "  This could be a false alarm, with some parameters getting used by language bindings but\n",
      "  then being mistakenly passed down to XGBoost core, or some parameter actually being used\n",
      "  but getting flagged wrongly here. Please open an issue if you find any such cases.\n",
      "\n",
      "\n"
     ]
    },
    {
     "data": {
      "text/plain": [
       "GridSearchCV(cv=5,\n",
       "             estimator=XGBRegressor(base_score=None, booster=None,\n",
       "                                    callbacks=None, colsample_bylevel=None,\n",
       "                                    colsample_bynode=None,\n",
       "                                    colsample_bytree=None,\n",
       "                                    early_stopping_rounds=None,\n",
       "                                    enable_categorical=False, eval_metric=None,\n",
       "                                    gamma=None, gpu_id=None, grow_policy=None,\n",
       "                                    importance_type=None,\n",
       "                                    interaction_constraints=None,\n",
       "                                    learning_rate=None, max_bin=None,\n",
       "                                    max_cat_to_onehot=None, max_delta_step=None,\n",
       "                                    max_depth=None, max_leaves=None,\n",
       "                                    min_child_weight=None, missing=nan,\n",
       "                                    monotone_constraints=None, n_estimators=100,\n",
       "                                    n_jobs=None, num_parallel_tree=None,\n",
       "                                    predictor=None, random_state=None,\n",
       "                                    reg_alpha=None, reg_lambda=None, ...),\n",
       "             param_grid={'n_neighbors': [1, 2, 3, 4, 5, 10, 20, 50]},\n",
       "             scoring='neg_mean_squared_error')"
      ]
     },
     "execution_count": 87,
     "metadata": {},
     "output_type": "execute_result"
    }
   ],
   "source": [
    "parameters = {'learning_rate': [.03, 0.05, .07], 'n_estimators': [100, 200,500]}\n",
    "\n",
    "xgbcv =GridSearchCV(xgb,parameter, scoring='neg_mean_squared_error',cv=5)\n",
    "xgbcv.fit(X_train, y_train)"
   ]
  },
  {
   "cell_type": "code",
   "execution_count": 88,
   "id": "08413df1",
   "metadata": {
    "execution": {
     "iopub.execute_input": "2022-10-14T10:12:17.605510Z",
     "iopub.status.busy": "2022-10-14T10:12:17.604873Z",
     "iopub.status.idle": "2022-10-14T10:12:17.625108Z",
     "shell.execute_reply": "2022-10-14T10:12:17.623885Z",
     "shell.execute_reply.started": "2022-10-14T10:12:17.605472Z"
    },
    "papermill": {
     "duration": 0.100087,
     "end_time": "2022-10-06T12:19:03.290793",
     "exception": false,
     "start_time": "2022-10-06T12:19:03.190706",
     "status": "completed"
    },
    "scrolled": true,
    "tags": []
   },
   "outputs": [
    {
     "data": {
      "text/plain": [
       "0.6943229282528045"
      ]
     },
     "execution_count": 88,
     "metadata": {},
     "output_type": "execute_result"
    }
   ],
   "source": [
    "prediction = xgbcv.predict(X_test)\n",
    "score = r2_score(y_true=y_test, y_pred=prediction)\n",
    "score"
   ]
  },
  {
   "cell_type": "markdown",
   "id": "78d91f17",
   "metadata": {},
   "source": [
    "# Summary of the Tuned Models"
   ]
  },
  {
   "cell_type": "code",
   "execution_count": 89,
   "id": "805a878c",
   "metadata": {
    "execution": {
     "iopub.execute_input": "2022-10-14T10:12:17.630112Z",
     "iopub.status.busy": "2022-10-14T10:12:17.629565Z",
     "iopub.status.idle": "2022-10-14T10:12:19.986455Z",
     "shell.execute_reply": "2022-10-14T10:12:19.985284Z",
     "shell.execute_reply.started": "2022-10-14T10:12:17.630072Z"
    }
   },
   "outputs": [],
   "source": [
    "# LINEAR REGRESSION MODEL\n",
    "linear = lrcv.predict(X_test)\n",
    "\n",
    "# DECISION TREE MODEL\n",
    "dtree = dtreecv.predict(X_test)\n",
    "\n",
    "# LASSO \n",
    "lasso = lassocv.predict(X_test)\n",
    "\n",
    "# RANDOM FOREST\n",
    "random_forest = rfcv.predict(X_test)\n",
    "\n",
    "# KNEIGHBOR\n",
    "kneighbor = kncv.predict(X_test)\n",
    "\n",
    "# XGB\n",
    "xgb =  xgbcv.predict(X_test)\n",
    "\n",
    "\n",
    "predictions = {\"Linear Regression\": linear,\n",
    "          \"Decision Tree\": dtree, \n",
    "          \"Lasso\" : lasso,\n",
    "         \"Random Forest\": random_forest,\n",
    "         \"kneighbor\": kneighbor,\n",
    "         \"xgb\" : xgb}"
   ]
  },
  {
   "cell_type": "code",
   "execution_count": 90,
   "id": "2da9f099",
   "metadata": {
    "execution": {
     "iopub.execute_input": "2022-10-14T10:12:19.988865Z",
     "iopub.status.busy": "2022-10-14T10:12:19.988378Z",
     "iopub.status.idle": "2022-10-14T10:12:19.998092Z",
     "shell.execute_reply": "2022-10-14T10:12:19.996974Z",
     "shell.execute_reply.started": "2022-10-14T10:12:19.988830Z"
    }
   },
   "outputs": [],
   "source": [
    "def get_scores(predictions, y_test):\n",
    "    model_score = {}\n",
    "    for name, value in predictions.items():\n",
    "        model_score[name] = r2_score(y_true=y_test, y_pred=value)\n",
    "    return model_score"
   ]
  },
  {
   "cell_type": "code",
   "execution_count": 91,
   "id": "4416d0ef",
   "metadata": {
    "execution": {
     "iopub.execute_input": "2022-10-14T10:12:20.001038Z",
     "iopub.status.busy": "2022-10-14T10:12:20.000100Z",
     "iopub.status.idle": "2022-10-14T10:12:20.031132Z",
     "shell.execute_reply": "2022-10-14T10:12:20.029896Z",
     "shell.execute_reply.started": "2022-10-14T10:12:20.000979Z"
    },
    "scrolled": true
   },
   "outputs": [
    {
     "data": {
      "text/html": [
       "<div>\n",
       "<style scoped>\n",
       "    .dataframe tbody tr th:only-of-type {\n",
       "        vertical-align: middle;\n",
       "    }\n",
       "\n",
       "    .dataframe tbody tr th {\n",
       "        vertical-align: top;\n",
       "    }\n",
       "\n",
       "    .dataframe thead th {\n",
       "        text-align: right;\n",
       "    }\n",
       "</style>\n",
       "<table border=\"1\" class=\"dataframe\">\n",
       "  <thead>\n",
       "    <tr style=\"text-align: right;\">\n",
       "      <th></th>\n",
       "      <th>Models</th>\n",
       "      <th>R2 Scores</th>\n",
       "    </tr>\n",
       "  </thead>\n",
       "  <tbody>\n",
       "    <tr>\n",
       "      <th>0</th>\n",
       "      <td>Linear Regression</td>\n",
       "      <td>0.173824</td>\n",
       "    </tr>\n",
       "    <tr>\n",
       "      <th>1</th>\n",
       "      <td>Decision Tree</td>\n",
       "      <td>0.582967</td>\n",
       "    </tr>\n",
       "    <tr>\n",
       "      <th>2</th>\n",
       "      <td>Lasso</td>\n",
       "      <td>0.173845</td>\n",
       "    </tr>\n",
       "    <tr>\n",
       "      <th>3</th>\n",
       "      <td>Random Forest</td>\n",
       "      <td>0.745351</td>\n",
       "    </tr>\n",
       "    <tr>\n",
       "      <th>4</th>\n",
       "      <td>kneighbor</td>\n",
       "      <td>0.603231</td>\n",
       "    </tr>\n",
       "    <tr>\n",
       "      <th>5</th>\n",
       "      <td>xgb</td>\n",
       "      <td>0.694323</td>\n",
       "    </tr>\n",
       "  </tbody>\n",
       "</table>\n",
       "</div>"
      ],
      "text/plain": [
       "              Models  R2 Scores\n",
       "0  Linear Regression   0.173824\n",
       "1      Decision Tree   0.582967\n",
       "2              Lasso   0.173845\n",
       "3      Random Forest   0.745351\n",
       "4          kneighbor   0.603231\n",
       "5                xgb   0.694323"
      ]
     },
     "execution_count": 91,
     "metadata": {},
     "output_type": "execute_result"
    }
   ],
   "source": [
    "summary = get_scores(predictions, y_test)\n",
    "summary = pd.DataFrame([summary])\n",
    "summary = summary.melt(var_name=\"Models\", value_name=\"R2 Scores\")\n",
    "summary"
   ]
  },
  {
   "cell_type": "code",
   "execution_count": 92,
   "id": "b9a9ac95",
   "metadata": {
    "execution": {
     "iopub.execute_input": "2022-10-14T10:12:20.032661Z",
     "iopub.status.busy": "2022-10-14T10:12:20.032329Z",
     "iopub.status.idle": "2022-10-14T10:12:20.365126Z",
     "shell.execute_reply": "2022-10-14T10:12:20.363844Z",
     "shell.execute_reply.started": "2022-10-14T10:12:20.032631Z"
    }
   },
   "outputs": [
    {
     "data": {
      "image/png": "[encoded data removed]",
      "text/plain": [
       "<Figure size 720x576 with 1 Axes>"
      ]
     },
     "metadata": {},
     "output_type": "display_data"
    }
   ],
   "source": [
    "plt.figure(figsize=(10,8))\n",
    "ax = sns.barplot(data=summary, x=summary['Models'], y=summary[\"R2 Scores\"])\n",
    "for p in ax.patches:\n",
    "    ax.annotate(str(p.get_height()), (p.get_x()*1.005, p.get_height()*1.005))"
   ]
  },
  {
   "cell_type": "markdown",
   "id": "e865f8c0",
   "metadata": {},
   "source": [
    "# Conclusion\n",
    "\n",
    "We have seen that the Random Forest Model has the best metric(R Squared) score of `0.74` than the rest. We were able to get this better in our model tuning because we were able to remove unwanted outliers from our data and did some thorough cleaning on our data as well.\n",
    "\n",
    "Therefore, we can now conclude that taking care of outliers, feature engineering on our data and thorough cleaning of our data can help improve the accuracy of our model."
   ]
  },
  {
   "cell_type": "markdown",
   "id": "676767e8",
   "metadata": {},
   "source": [
    "# Author's Note\n",
    "Thank you so very much for taking out your time to view my work. Please do well to leave a feedback on your thoughts about my notebook. They will go a long way in helping me become better. GRACIAS!"
   ]
  }
 ],
 "metadata": {
  "kernelspec": {
   "display_name": "Python 3",
   "language": "python",
   "name": "python3"
  },
  "language_info": {
   "codemirror_mode": {
    "name": "ipython",
    "version": 3
   },
   "file_extension": ".py",
   "mimetype": "text/x-python",
   "name": "python",
   "nbconvert_exporter": "python",
   "pygments_lexer": "ipython3",
   "version": "3.8.8"
  },
  "papermill": {
   "default_parameters": {},
   "duration": 808.788935,
   "end_time": "2022-10-06T12:19:06.924837",
   "environment_variables": {},
   "exception": null,
   "input_path": "__notebook__.ipynb",
   "output_path": "__notebook__.ipynb",
   "parameters": {},
   "start_time": "2022-10-06T12:05:38.135902",
   "version": "2.3.4"
  }
 },
 "nbformat": 4,
 "nbformat_minor": 5
}
